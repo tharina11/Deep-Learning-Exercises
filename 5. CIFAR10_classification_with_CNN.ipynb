{
  "nbformat": 4,
  "nbformat_minor": 0,
  "metadata": {
    "colab": {
      "provenance": [],
      "authorship_tag": "ABX9TyMdhwLQowkV9hGUplHOelVU",
      "include_colab_link": true
    },
    "kernelspec": {
      "name": "python3",
      "display_name": "Python 3"
    },
    "language_info": {
      "name": "python"
    },
    "gpuClass": "standard"
  },
  "cells": [
    {
      "cell_type": "markdown",
      "metadata": {
        "id": "view-in-github",
        "colab_type": "text"
      },
      "source": [
        "<a href=\"https://colab.research.google.com/github/tharina11/Deep-Learning-Exercises/blob/main/5.%20CIFAR10_classification_with_CNN.ipynb\" target=\"_parent\"><img src=\"https://colab.research.google.com/assets/colab-badge.svg\" alt=\"Open In Colab\"/></a>"
      ]
    },
    {
      "cell_type": "markdown",
      "source": [
        "####**Convolutional Neural Networks**\n",
        "\n",
        "When a computer fed with an image, computer looks at images as grids of numbers. Artificial Neural Networks (ANN) go through all the pixels of these images during processing. This process could be very accurate, but consumes a huge amount of processing power.\n",
        "\n",
        "Disadvantages of using ANN for image classification:\n",
        "- Too much computation\n",
        "- Treat local pixels same as pixels far apart\n",
        "- Sensitive to location of an object in an image\n",
        "\n",
        "Convolutional Neural Networks (CNN) are used to process multidimensional data such as multilayer images. The first layers of a CNN consists of convolutional and pooling layers. In these layers, a systematically selected set of pixel values from one layer are multiplied by a filter consists of weights, and connected to one pixel in the next layer after passing through a non-linear function. All selected pixel units of the first layer share the same filter.   \n",
        "\n",
        "Some key ideas behind CNNs are local connections, shared weights, pooling and use of multiple layers.\n",
        "\n",
        "First part of a CNN is responsible for **feature extraction**. Second part is responsible for **classification**.\n",
        "\n",
        "Benefits of using CNN for image classification:\n",
        "-  **Convolution**:\n",
        " - Connections sparsity reduces overfitting.\n",
        " - Cov + pooling: Gives location invariant feature detection\n",
        " - Parameter sharing\n",
        "\n",
        "- **Activation function**:\n",
        " - Introduce nonlinearity\n",
        " - Speeds up training, faster to compute\n",
        "\n",
        "- **Pooling**:\n",
        " - Reduce dimensions and computation\n",
        " - Reduces overfitting\n",
        " - Makes the model tolerant towards small distortions and variations\n",
        "\n",
        "We create a feature map in a convolution operation. Some key features of a convolution operation:\n",
        "\n",
        "stride - numeber of pixels the filter moves.\n",
        "\n",
        "Feature map - Output of a convolution\n",
        "\n",
        "Filter - Feature detector\n",
        "\n",
        "Pooling - Used to reduce the size\n",
        "\n",
        "CNN does not take care of rotation and scale itself. We use data augmentation methods to generate new rotated/scaled samples from existing training samples, to extract more information from the input data.\n",
        "\n",
        "This project is mainly based on a couple of videos of [Codebasics](https://www.youtube.com/watch?v=zfiSAzpy9NM&list=PLeo1K3hjS3uu7CxAacxVndI4bE_o3BDtO&index=23&ab_channel=codebasics) youtube channel. In addition, some great additional source were refrerred. All the sources are cited at the end of this project description. \n",
        "\n",
        "\n",
        "####**CIFAR10 classification with ANN and CNN**"
      ],
      "metadata": {
        "id": "PeHDlTsd-ONV"
      }
    },
    {
      "cell_type": "code",
      "execution_count": 1,
      "metadata": {
        "id": "-ILs1TTiDu0i"
      },
      "outputs": [],
      "source": [
        "# Import libraries\n",
        "import tensorflow as tf\n",
        "from tensorflow.keras import datasets, layers, models\n",
        "from tensorflow import keras\n",
        "import matplotlib.pyplot as plt\n",
        "import numpy as np"
      ]
    },
    {
      "cell_type": "code",
      "source": [
        "# Load data and split into train and test sets\n",
        "(x_train, y_train), (x_test, y_test) = datasets.cifar10.load_data()\n",
        "x_train.shape"
      ],
      "metadata": {
        "colab": {
          "base_uri": "https://localhost:8080/"
        },
        "id": "bZrgodAQEE2A",
        "outputId": "5ae41d46-a217-4ef5-d8dc-b7efbcd73f56"
      },
      "execution_count": 10,
      "outputs": [
        {
          "output_type": "execute_result",
          "data": {
            "text/plain": [
              "(50000, 32, 32, 3)"
            ]
          },
          "metadata": {},
          "execution_count": 10
        }
      ]
    },
    {
      "cell_type": "markdown",
      "source": [
        "Check the shape of the training and testing data."
      ],
      "metadata": {
        "id": "ZzyZlW1daNEs"
      }
    },
    {
      "cell_type": "code",
      "source": [
        "x_test.shape"
      ],
      "metadata": {
        "colab": {
          "base_uri": "https://localhost:8080/"
        },
        "id": "GngJxD4iEQwE",
        "outputId": "54dcfbe1-8d7a-413e-b054-fb9439a7ffd8"
      },
      "execution_count": 11,
      "outputs": [
        {
          "output_type": "execute_result",
          "data": {
            "text/plain": [
              "(10000, 32, 32, 3)"
            ]
          },
          "metadata": {},
          "execution_count": 11
        }
      ]
    },
    {
      "cell_type": "code",
      "source": [
        "x_train.shape[0]"
      ],
      "metadata": {
        "colab": {
          "base_uri": "https://localhost:8080/"
        },
        "id": "eJyHpv2EEZnL",
        "outputId": "e718f3ca-9bdb-4ce7-f397-993259f3b059"
      },
      "execution_count": 12,
      "outputs": [
        {
          "output_type": "execute_result",
          "data": {
            "text/plain": [
              "50000"
            ]
          },
          "metadata": {},
          "execution_count": 12
        }
      ]
    },
    {
      "cell_type": "code",
      "source": [
        "y_train.shape"
      ],
      "metadata": {
        "colab": {
          "base_uri": "https://localhost:8080/"
        },
        "id": "Zrwl7ao_YOP-",
        "outputId": "0df27dcc-7b41-4826-dc15-459cd6f33f6b"
      },
      "execution_count": 13,
      "outputs": [
        {
          "output_type": "execute_result",
          "data": {
            "text/plain": [
              "(50000, 1)"
            ]
          },
          "metadata": {},
          "execution_count": 13
        }
      ]
    },
    {
      "cell_type": "code",
      "source": [
        "y_train[:5]"
      ],
      "metadata": {
        "colab": {
          "base_uri": "https://localhost:8080/"
        },
        "id": "gR8kZbbMZ0IF",
        "outputId": "a8c5cb58-e056-4587-bacb-e7ff90430fb8"
      },
      "execution_count": 14,
      "outputs": [
        {
          "output_type": "execute_result",
          "data": {
            "text/plain": [
              "array([[6],\n",
              "       [9],\n",
              "       [9],\n",
              "       [4],\n",
              "       [1]], dtype=uint8)"
            ]
          },
          "metadata": {},
          "execution_count": 14
        }
      ]
    },
    {
      "cell_type": "markdown",
      "source": [
        "Target variable is a 2D arrray. Let's reshape and convert it to a 1D array."
      ],
      "metadata": {
        "id": "1Elfye6daWiP"
      }
    },
    {
      "cell_type": "code",
      "source": [
        "# Reshape the target variable\n",
        "y_train = y_train.reshape(-1,)\n",
        "y_train[:5]"
      ],
      "metadata": {
        "colab": {
          "base_uri": "https://localhost:8080/"
        },
        "id": "K5gHzK9aH5ce",
        "outputId": "3f27fb6a-c7dc-450b-ecf3-e307d791b173"
      },
      "execution_count": 8,
      "outputs": [
        {
          "output_type": "execute_result",
          "data": {
            "text/plain": [
              "array([6, 9, 9, 4, 1], dtype=uint8)"
            ]
          },
          "metadata": {},
          "execution_count": 8
        }
      ]
    },
    {
      "cell_type": "code",
      "source": [
        "y_train.shape"
      ],
      "metadata": {
        "colab": {
          "base_uri": "https://localhost:8080/"
        },
        "id": "2TkRz_SZZPWD",
        "outputId": "25bbffa4-1be1-42f3-efbd-e6c2f06acbfa"
      },
      "execution_count": 9,
      "outputs": [
        {
          "output_type": "execute_result",
          "data": {
            "text/plain": [
              "(50000,)"
            ]
          },
          "metadata": {},
          "execution_count": 9
        }
      ]
    },
    {
      "cell_type": "markdown",
      "source": [
        "Target classes are represented by numbers. View images and name the output classes."
      ],
      "metadata": {
        "id": "n-dmpcQucR_H"
      }
    },
    {
      "cell_type": "code",
      "source": [
        "# Plot function\n",
        "def plot_sample(x, y, index):\n",
        "  plt.figure(figsize = (15, 2))\n",
        "  plt.imshow(x_train[index])\n",
        "  plt.xlabel(classes[y[index]])"
      ],
      "metadata": {
        "id": "QyVrZHi-Eduo"
      },
      "execution_count": null,
      "outputs": []
    },
    {
      "cell_type": "code",
      "source": [
        "plot_sample(x_train, y_train, 0)"
      ],
      "metadata": {
        "colab": {
          "base_uri": "https://localhost:8080/",
          "height": 173
        },
        "id": "aeDYfF-fO0p5",
        "outputId": "a5a675db-1317-4459-84f8-4b468bfec2b8"
      },
      "execution_count": null,
      "outputs": [
        {
          "output_type": "display_data",
          "data": {
            "text/plain": [
              "<Figure size 1080x144 with 1 Axes>"
            ],
            "image/png": "[encoded data removed]"
          },
          "metadata": {
            "needs_background": "light"
          }
        }
      ]
    },
    {
      "cell_type": "code",
      "source": [
        "plot_sample(x_train, y_train, 1)"
      ],
      "metadata": {
        "colab": {
          "base_uri": "https://localhost:8080/",
          "height": 173
        },
        "id": "zwt5MoyCO8K0",
        "outputId": "96340eb0-c981-47fd-f335-3d53b46868e7"
      },
      "execution_count": null,
      "outputs": [
        {
          "output_type": "display_data",
          "data": {
            "text/plain": [
              "<Figure size 1080x144 with 1 Axes>"
            ],
            "image/png": "[encoded data removed]"
          },
          "metadata": {
            "needs_background": "light"
          }
        }
      ]
    },
    {
      "cell_type": "code",
      "source": [
        "# Create a list of names of the output classes\n",
        "classes = ['aeroplane', 'automobile', 'bird', 'cat', 'deer', 'dog', 'frog', 'horse', 'ship', 'truck']"
      ],
      "metadata": {
        "id": "tFC9g9bWE2Qx"
      },
      "execution_count": null,
      "outputs": []
    },
    {
      "cell_type": "code",
      "source": [
        "# Transform the input data into the range between 0 and 1 to ease the convergence of the cost function\n",
        "x_train = x_train / 255\n",
        "x_test = x_test / 255"
      ],
      "metadata": {
        "id": "pA0pBdMPSeyu"
      },
      "execution_count": null,
      "outputs": []
    },
    {
      "cell_type": "code",
      "source": [
        "# Build an ANN model and fit to the training data\n",
        "model = keras.Sequential([\n",
        "    keras.layers.Flatten(input_shape = (32, 32, 3)),\n",
        "    keras.layers.Dense(3000, activation='relu'),\n",
        "    keras.layers.Dense(1000, activation='relu'),\n",
        "    keras.layers.Dense(10, activation='sigmoid')\n",
        "])\n",
        "\n",
        "model.compile(optimizer = 'adam',\n",
        "              loss = 'sparse_categorical_crossentropy',\n",
        "              metrics = ['accuracy'])\n",
        "\n",
        "model.fit(x_train, y_train, epochs= 5)"
      ],
      "metadata": {
        "colab": {
          "base_uri": "https://localhost:8080/"
        },
        "id": "HADT-M1qSvbQ",
        "outputId": "86626eee-af1f-46e2-82e4-14d94acee637"
      },
      "execution_count": null,
      "outputs": [
        {
          "output_type": "stream",
          "name": "stdout",
          "text": [
            "Epoch 1/5\n",
            "1563/1563 [==============================] - 10s 5ms/step - loss: 1.8944 - accuracy: 0.3244\n",
            "Epoch 2/5\n",
            "1563/1563 [==============================] - 8s 5ms/step - loss: 1.6660 - accuracy: 0.3997\n",
            "Epoch 3/5\n",
            "1563/1563 [==============================] - 8s 5ms/step - loss: 1.5849 - accuracy: 0.4330\n",
            "Epoch 4/5\n",
            "1563/1563 [==============================] - 8s 5ms/step - loss: 1.5287 - accuracy: 0.4522\n",
            "Epoch 5/5\n",
            "1563/1563 [==============================] - 8s 5ms/step - loss: 1.4909 - accuracy: 0.4672\n"
          ]
        },
        {
          "output_type": "execute_result",
          "data": {
            "text/plain": [
              "<keras.callbacks.History at 0x7fc4d5fd4190>"
            ]
          },
          "metadata": {},
          "execution_count": 34
        }
      ]
    },
    {
      "cell_type": "code",
      "source": [
        "# Classification accuracy of ANN with 5 epochs\n",
        "from sklearn.metrics import confusion_matrix, classification_report\n",
        "y_pred = model.predict(x_test)\n",
        "y_pred_classes = [np.argmax(element) for element in y_pred]\n",
        "\n",
        "print('Classification Report: \\n', classification_report(y_test, y_pred_classes))"
      ],
      "metadata": {
        "colab": {
          "base_uri": "https://localhost:8080/"
        },
        "id": "S24wii7rT1HH",
        "outputId": "37c428f7-1c41-4e4e-91ca-86b6a911cdee"
      },
      "execution_count": null,
      "outputs": [
        {
          "output_type": "stream",
          "name": "stdout",
          "text": [
            "313/313 [==============================] - 1s 2ms/step\n",
            "Classification Report: \n",
            "               precision    recall  f1-score   support\n",
            "\n",
            "           0       0.43      0.65      0.52      1000\n",
            "           1       0.65      0.53      0.58      1000\n",
            "           2       0.33      0.33      0.33      1000\n",
            "           3       0.33      0.31      0.32      1000\n",
            "           4       0.48      0.23      0.31      1000\n",
            "           5       0.37      0.39      0.38      1000\n",
            "           6       0.46      0.54      0.50      1000\n",
            "           7       0.51      0.54      0.52      1000\n",
            "           8       0.55      0.57      0.56      1000\n",
            "           9       0.53      0.50      0.52      1000\n",
            "\n",
            "    accuracy                           0.46     10000\n",
            "   macro avg       0.46      0.46      0.45     10000\n",
            "weighted avg       0.46      0.46      0.45     10000\n",
            "\n"
          ]
        }
      ]
    },
    {
      "cell_type": "code",
      "source": [
        "# Build a CNN model and fit to the training data\n",
        "cnn = keras.Sequential([\n",
        "    \n",
        "    #cnn\n",
        "    layers.Conv2D(filters=32, kernel_size=(3,3), activation= 'relu', input_shape = (32,32,3)),\n",
        "    layers.MaxPooling2D((2, 2)),\n",
        "\n",
        "    layers.Conv2D(filters=64, kernel_size=(3,3), activation= 'relu'),\n",
        "    layers.MaxPooling2D((2, 2)),\n",
        "\n",
        "\n",
        "    #Dense\n",
        "    keras.layers.Flatten(),\n",
        "    keras.layers.Dense(64, activation='relu'),\n",
        "    keras.layers.Dense(10, activation='softmax'),\n",
        "    \n",
        "])"
      ],
      "metadata": {
        "id": "vI7t27NxVx9a"
      },
      "execution_count": null,
      "outputs": []
    },
    {
      "cell_type": "code",
      "source": [
        "cnn.compile(optimizer = 'adam',\n",
        "              loss = 'sparse_categorical_crossentropy',\n",
        "              metrics = ['accuracy'])"
      ],
      "metadata": {
        "id": "xjqVvPuOXcFx"
      },
      "execution_count": null,
      "outputs": []
    },
    {
      "cell_type": "code",
      "source": [
        "cnn.fit(x_train, y_train,epochs = 10)"
      ],
      "metadata": {
        "colab": {
          "base_uri": "https://localhost:8080/"
        },
        "id": "-B1dpxv3Xw68",
        "outputId": "45365fba-7e2b-491f-d8f6-d49d5810d20c"
      },
      "execution_count": null,
      "outputs": [
        {
          "output_type": "stream",
          "name": "stdout",
          "text": [
            "Epoch 1/10\n",
            "1563/1563 [==============================] - 9s 5ms/step - loss: 1.5018 - accuracy: 0.4577\n",
            "Epoch 2/10\n",
            "1563/1563 [==============================] - 7s 4ms/step - loss: 1.1409 - accuracy: 0.6016\n",
            "Epoch 3/10\n",
            "1563/1563 [==============================] - 8s 5ms/step - loss: 1.0040 - accuracy: 0.6505\n",
            "Epoch 4/10\n",
            "1563/1563 [==============================] - 7s 5ms/step - loss: 0.9237 - accuracy: 0.6820\n",
            "Epoch 5/10\n",
            "1563/1563 [==============================] - 7s 5ms/step - loss: 0.8626 - accuracy: 0.7013\n",
            "Epoch 6/10\n",
            "1563/1563 [==============================] - 7s 5ms/step - loss: 0.8098 - accuracy: 0.7201\n",
            "Epoch 7/10\n",
            "1563/1563 [==============================] - 7s 4ms/step - loss: 0.7605 - accuracy: 0.7381\n",
            "Epoch 8/10\n",
            "1563/1563 [==============================] - 8s 5ms/step - loss: 0.7237 - accuracy: 0.7493\n",
            "Epoch 9/10\n",
            "1563/1563 [==============================] - 7s 4ms/step - loss: 0.6900 - accuracy: 0.7595\n",
            "Epoch 10/10\n",
            "1563/1563 [==============================] - 8s 5ms/step - loss: 0.6610 - accuracy: 0.7699\n"
          ]
        },
        {
          "output_type": "execute_result",
          "data": {
            "text/plain": [
              "<keras.callbacks.History at 0x7fc40dbf50d0>"
            ]
          },
          "metadata": {},
          "execution_count": 38
        }
      ]
    },
    {
      "cell_type": "code",
      "source": [
        "cnn.evaluate(x_test, y_test)"
      ],
      "metadata": {
        "colab": {
          "base_uri": "https://localhost:8080/"
        },
        "id": "_zEZiNfpYm69",
        "outputId": "3acc7b0c-ffea-4bb4-8c67-f24ebb238c07"
      },
      "execution_count": null,
      "outputs": [
        {
          "output_type": "stream",
          "name": "stdout",
          "text": [
            "313/313 [==============================] - 1s 3ms/step - loss: 0.9602 - accuracy: 0.6796\n"
          ]
        },
        {
          "output_type": "execute_result",
          "data": {
            "text/plain": [
              "[0.9602257609367371, 0.6796000003814697]"
            ]
          },
          "metadata": {},
          "execution_count": 39
        }
      ]
    },
    {
      "cell_type": "code",
      "source": [
        "y_test = y_test.reshape(-1,)\n",
        "y_test[:5]"
      ],
      "metadata": {
        "colab": {
          "base_uri": "https://localhost:8080/"
        },
        "id": "OzGUXP1AY4Oz",
        "outputId": "c12bbce1-f1c2-4a8e-d09f-68622a1f167b"
      },
      "execution_count": null,
      "outputs": [
        {
          "output_type": "execute_result",
          "data": {
            "text/plain": [
              "array([3, 8, 8, 0, 6], dtype=uint8)"
            ]
          },
          "metadata": {},
          "execution_count": 40
        }
      ]
    },
    {
      "cell_type": "code",
      "source": [
        "plot_sample(x_test, y_test, 1)"
      ],
      "metadata": {
        "colab": {
          "base_uri": "https://localhost:8080/",
          "height": 173
        },
        "id": "9UHfOV1TZCgD",
        "outputId": "68481442-2634-4d61-837d-e4a18336a6ff"
      },
      "execution_count": null,
      "outputs": [
        {
          "output_type": "display_data",
          "data": {
            "text/plain": [
              "<Figure size 1080x144 with 1 Axes>"
            ],
            "image/png": "[encoded data removed]"
          },
          "metadata": {
            "needs_background": "light"
          }
        }
      ]
    },
    {
      "cell_type": "code",
      "source": [
        "y_pred = cnn.predict(x_test)\n",
        "y_pred[:5]"
      ],
      "metadata": {
        "colab": {
          "base_uri": "https://localhost:8080/"
        },
        "id": "0wqRjZgEsWsV",
        "outputId": "3e08208e-771e-4754-968f-12e4493218f9"
      },
      "execution_count": null,
      "outputs": [
        {
          "output_type": "stream",
          "name": "stdout",
          "text": [
            "313/313 [==============================] - 1s 2ms/step\n"
          ]
        },
        {
          "output_type": "execute_result",
          "data": {
            "text/plain": [
              "array([[1.23871863e-03, 1.61755932e-04, 2.45366083e-03, 8.07204366e-01,\n",
              "        2.29944286e-04, 1.74367949e-01, 6.19077962e-03, 7.26302678e-05,\n",
              "        7.98749086e-03, 9.27153233e-05],\n",
              "       [1.21374987e-03, 3.01546510e-03, 1.20252207e-05, 4.04310555e-07,\n",
              "        6.70226896e-09, 1.04064686e-08, 2.31148456e-09, 1.11045939e-09,\n",
              "        9.95582998e-01, 1.75277659e-04],\n",
              "       [5.04083894e-02, 4.05273467e-01, 1.04834244e-03, 6.34082477e-04,\n",
              "        5.99713749e-05, 2.33193732e-05, 1.49255875e-03, 1.16812062e-05,\n",
              "        1.81902632e-01, 3.59145552e-01],\n",
              "       [3.07242692e-01, 2.81620235e-03, 1.12352185e-02, 8.37527768e-05,\n",
              "        8.50122189e-04, 9.87151634e-06, 1.10418601e-04, 8.42391364e-06,\n",
              "        6.76568568e-01, 1.07466942e-03],\n",
              "       [6.59976251e-07, 1.63823461e-05, 7.94970989e-02, 2.45410390e-02,\n",
              "        1.60995334e-01, 5.24046831e-03, 7.29681909e-01, 3.95708275e-06,\n",
              "        2.29393136e-05, 2.16455746e-07]], dtype=float32)"
            ]
          },
          "metadata": {},
          "execution_count": 47
        }
      ]
    },
    {
      "cell_type": "code",
      "source": [
        "y_classes = [np.argmax(element) for element in y_pred]\n",
        "y_classes[:5]"
      ],
      "metadata": {
        "colab": {
          "base_uri": "https://localhost:8080/"
        },
        "id": "JbbjUVJyZp7n",
        "outputId": "27500589-bfd1-492f-c05e-400d1015ce60"
      },
      "execution_count": null,
      "outputs": [
        {
          "output_type": "execute_result",
          "data": {
            "text/plain": [
              "[3, 8, 1, 8, 6]"
            ]
          },
          "metadata": {},
          "execution_count": 48
        }
      ]
    },
    {
      "cell_type": "code",
      "source": [
        "y_test[:5]"
      ],
      "metadata": {
        "colab": {
          "base_uri": "https://localhost:8080/"
        },
        "id": "-3cnTQv7q44g",
        "outputId": "a3d4abc8-7fcf-443a-d0ab-d06518a7ef32"
      },
      "execution_count": null,
      "outputs": [
        {
          "output_type": "execute_result",
          "data": {
            "text/plain": [
              "array([3, 8, 8, 0, 6], dtype=uint8)"
            ]
          },
          "metadata": {},
          "execution_count": 49
        }
      ]
    },
    {
      "cell_type": "code",
      "source": [
        "# Accuracy of the cnn classification after 10 epochs\n",
        "print('Classification Report:\\n',classification_report(y_test, y_classes))"
      ],
      "metadata": {
        "colab": {
          "base_uri": "https://localhost:8080/"
        },
        "id": "nQ19lBnMrCWQ",
        "outputId": "5d6026ff-91a6-4414-f17a-8d5376a6be70"
      },
      "execution_count": null,
      "outputs": [
        {
          "output_type": "stream",
          "name": "stdout",
          "text": [
            "Classification Report:\n",
            "               precision    recall  f1-score   support\n",
            "\n",
            "           0       0.76      0.67      0.71      1000\n",
            "           1       0.74      0.86      0.80      1000\n",
            "           2       0.53      0.62      0.57      1000\n",
            "           3       0.49      0.54      0.51      1000\n",
            "           4       0.64      0.68      0.66      1000\n",
            "           5       0.69      0.41      0.52      1000\n",
            "           6       0.66      0.84      0.74      1000\n",
            "           7       0.86      0.64      0.73      1000\n",
            "           8       0.74      0.83      0.78      1000\n",
            "           9       0.78      0.71      0.74      1000\n",
            "\n",
            "    accuracy                           0.68     10000\n",
            "   macro avg       0.69      0.68      0.68     10000\n",
            "weighted avg       0.69      0.68      0.68     10000\n",
            "\n"
          ]
        }
      ]
    },
    {
      "cell_type": "markdown",
      "source": [
        "- [Simple explanation of convolutional neural network](https://www.youtube.com/watch?v=zfiSAzpy9NM&list=PLeo1K3hjS3uu7CxAacxVndI4bE_o3BDtO&index=23&ab_channel=codebasics)\n",
        "- [Simple explanation of convolutional neural network](https://www.youtube.com/watch?v=zfiSAzpy9NM&list=PLeo1K3hjS3uu7CxAacxVndI4bE_o3BDtO&index=23&ab_channel=codebasics)\n",
        "- [Deep Learning](https://www.researchgate.net/publication/277411157_Deep_Learning)\n"
      ],
      "metadata": {
        "id": "9WysAwQ8-kQL"
      }
    },
    {
      "cell_type": "code",
      "source": [],
      "metadata": {
        "id": "0fVuCfeVrbSo"
      },
      "execution_count": null,
      "outputs": []
    }
  ]
}