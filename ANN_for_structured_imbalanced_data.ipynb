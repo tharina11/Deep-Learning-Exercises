{
  "nbformat": 4,
  "nbformat_minor": 0,
  "metadata": {
    "colab": {
      "provenance": [],
      "authorship_tag": "ABX9TyO+x1DlPnvB39kf6cPP7/UT",
      "include_colab_link": true
    },
    "kernelspec": {
      "name": "python3",
      "display_name": "Python 3"
    },
    "language_info": {
      "name": "python"
    },
    "accelerator": "GPU",
    "gpuClass": "standard"
  },
  "cells": [
    {
      "cell_type": "markdown",
      "metadata": {
        "id": "view-in-github",
        "colab_type": "text"
      },
      "source": [
        "<a href=\"https://colab.research.google.com/github/tharina11/Deep-Learning-Exercises/blob/main/ANN_for_structured_imbalanced_data.ipynb\" target=\"_parent\"><img src=\"https://colab.research.google.com/assets/colab-badge.svg\" alt=\"Open In Colab\"/></a>"
      ]
    },
    {
      "cell_type": "markdown",
      "source": [
        "### **Customer Churn Prediction with ANN**\n",
        "\n",
        "Customer churn is a quantitative measure of the customers who stopped purchasing business products of a company during a particular period of time. In this situation, businesses are curious to know why customers left a the business, so that they can fix the issues and imporve their business for a better customer retaining rate.\n",
        "\n",
        "For this project I have followed this [video](https://www.youtube.com/watch?v=MSBY28IJ47U&list=PLeo1K3hjS3uu7CxAacxVndI4bE_o3BDtO&index=18) from Codebasics youtube channel. I have referred several online sources to explore deeper and understand the workflow. All the resources used are cited at the end of this code.\n",
        "\n",
        "The input data set is downloaded from [Kaggle](https://www.kaggle.com/datasets/blastchar/telco-customer-churn) website. The dataset consists of data about customers of the company over a month. Churn = Yes is that customer left the company during the month.\n",
        "\n",
        "\n",
        "Following Python libraries are used in the project for each task mentioned.\n",
        "\n",
        "- Numpy, Pandas: Clean and organize input data\n",
        "- Matplotlib, Seaborn : Visualize data \n",
        "- Tensorflow, Keras API: Bulid and execute neural network\n",
        "- skleran: Organize data and classification results generation\n",
        "- SMOTE : Handle imbalance data"
      ],
      "metadata": {
        "id": "Db7BB4Lec3A3"
      }
    },
    {
      "cell_type": "code",
      "execution_count": 1,
      "metadata": {
        "id": "8r3lDOpGa7oJ"
      },
      "outputs": [],
      "source": [
        "# Import libraries\n",
        "import pandas as pd\n",
        "import matplotlib.pyplot as plt\n",
        "import numpy as np\n",
        "import tensorflow as tf\n",
        "from tensorflow import keras\n",
        "%matplotlib inline"
      ]
    },
    {
      "cell_type": "code",
      "source": [
        "# Mount google drive and authenticate\n",
        "from google.colab import drive\n",
        "drive.mount('/content/drive/')"
      ],
      "metadata": {
        "colab": {
          "base_uri": "https://localhost:8080/"
        },
        "id": "7uobJ2JmdjEq",
        "outputId": "94910c78-fcca-4647-c4ef-7de85a3c1734"
      },
      "execution_count": 2,
      "outputs": [
        {
          "output_type": "stream",
          "name": "stdout",
          "text": [
            "Mounted at /content/drive/\n"
          ]
        }
      ]
    },
    {
      "cell_type": "code",
      "source": [
        "# import data into a dataframe from google drive\n",
        "df = pd.read_csv('/content/drive/MyDrive/Deep Learning/Codebasics/customer_churn.csv')"
      ],
      "metadata": {
        "id": "s2ufKgNpeGU2"
      },
      "execution_count": 3,
      "outputs": []
    },
    {
      "cell_type": "code",
      "source": [
        "# View first 5 rows of data\n",
        "df.head()"
      ],
      "metadata": {
        "colab": {
          "base_uri": "https://localhost:8080/",
          "height": 386
        },
        "id": "6jcmshNHeYGK",
        "outputId": "d5c2625c-99d4-4ca6-89b1-d163f2fb79f3"
      },
      "execution_count": 4,
      "outputs": [
        {
          "output_type": "execute_result",
          "data": {
            "text/plain": [
              "   customerID  gender  SeniorCitizen Partner Dependents  tenure PhoneService  \\\n",
              "0  7590-VHVEG  Female              0     Yes         No       1           No   \n",
              "1  5575-GNVDE    Male              0      No         No      34          Yes   \n",
              "2  3668-QPYBK    Male              0      No         No       2          Yes   \n",
              "3  7795-CFOCW    Male              0      No         No      45           No   \n",
              "4  9237-HQITU  Female              0      No         No       2          Yes   \n",
              "\n",
              "      MultipleLines InternetService OnlineSecurity  ... DeviceProtection  \\\n",
              "0  No phone service             DSL             No  ...               No   \n",
              "1                No             DSL            Yes  ...              Yes   \n",
              "2                No             DSL            Yes  ...               No   \n",
              "3  No phone service             DSL            Yes  ...              Yes   \n",
              "4                No     Fiber optic             No  ...               No   \n",
              "\n",
              "  TechSupport StreamingTV StreamingMovies        Contract PaperlessBilling  \\\n",
              "0          No          No              No  Month-to-month              Yes   \n",
              "1          No          No              No        One year               No   \n",
              "2          No          No              No  Month-to-month              Yes   \n",
              "3         Yes          No              No        One year               No   \n",
              "4          No          No              No  Month-to-month              Yes   \n",
              "\n",
              "               PaymentMethod MonthlyCharges  TotalCharges Churn  \n",
              "0           Electronic check          29.85         29.85    No  \n",
              "1               Mailed check          56.95        1889.5    No  \n",
              "2               Mailed check          53.85        108.15   Yes  \n",
              "3  Bank transfer (automatic)          42.30       1840.75    No  \n",
              "4           Electronic check          70.70        151.65   Yes  \n",
              "\n",
              "[5 rows x 21 columns]"
            ],
            "text/html": [
              "\n",
              "  <div id=\"df-b8e1649b-4381-4562-ac12-de121be4ae48\">\n",
              "    <div class=\"colab-df-container\">\n",
              "      <div>\n",
              "<style scoped>\n",
              "    .dataframe tbody tr th:only-of-type {\n",
              "        vertical-align: middle;\n",
              "    }\n",
              "\n",
              "    .dataframe tbody tr th {\n",
              "        vertical-align: top;\n",
              "    }\n",
              "\n",
              "    .dataframe thead th {\n",
              "        text-align: right;\n",
              "    }\n",
              "</style>\n",
              "<table border=\"1\" class=\"dataframe\">\n",
              "  <thead>\n",
              "    <tr style=\"text-align: right;\">\n",
              "      <th></th>\n",
              "      <th>customerID</th>\n",
              "      <th>gender</th>\n",
              "      <th>SeniorCitizen</th>\n",
              "      <th>Partner</th>\n",
              "      <th>Dependents</th>\n",
              "      <th>tenure</th>\n",
              "      <th>PhoneService</th>\n",
              "      <th>MultipleLines</th>\n",
              "      <th>InternetService</th>\n",
              "      <th>OnlineSecurity</th>\n",
              "      <th>...</th>\n",
              "      <th>DeviceProtection</th>\n",
              "      <th>TechSupport</th>\n",
              "      <th>StreamingTV</th>\n",
              "      <th>StreamingMovies</th>\n",
              "      <th>Contract</th>\n",
              "      <th>PaperlessBilling</th>\n",
              "      <th>PaymentMethod</th>\n",
              "      <th>MonthlyCharges</th>\n",
              "      <th>TotalCharges</th>\n",
              "      <th>Churn</th>\n",
              "    </tr>\n",
              "  </thead>\n",
              "  <tbody>\n",
              "    <tr>\n",
              "      <th>0</th>\n",
              "      <td>7590-VHVEG</td>\n",
              "      <td>Female</td>\n",
              "      <td>0</td>\n",
              "      <td>Yes</td>\n",
              "      <td>No</td>\n",
              "      <td>1</td>\n",
              "      <td>No</td>\n",
              "      <td>No phone service</td>\n",
              "      <td>DSL</td>\n",
              "      <td>No</td>\n",
              "      <td>...</td>\n",
              "      <td>No</td>\n",
              "      <td>No</td>\n",
              "      <td>No</td>\n",
              "      <td>No</td>\n",
              "      <td>Month-to-month</td>\n",
              "      <td>Yes</td>\n",
              "      <td>Electronic check</td>\n",
              "      <td>29.85</td>\n",
              "      <td>29.85</td>\n",
              "      <td>No</td>\n",
              "    </tr>\n",
              "    <tr>\n",
              "      <th>1</th>\n",
              "      <td>5575-GNVDE</td>\n",
              "      <td>Male</td>\n",
              "      <td>0</td>\n",
              "      <td>No</td>\n",
              "      <td>No</td>\n",
              "      <td>34</td>\n",
              "      <td>Yes</td>\n",
              "      <td>No</td>\n",
              "      <td>DSL</td>\n",
              "      <td>Yes</td>\n",
              "      <td>...</td>\n",
              "      <td>Yes</td>\n",
              "      <td>No</td>\n",
              "      <td>No</td>\n",
              "      <td>No</td>\n",
              "      <td>One year</td>\n",
              "      <td>No</td>\n",
              "      <td>Mailed check</td>\n",
              "      <td>56.95</td>\n",
              "      <td>1889.5</td>\n",
              "      <td>No</td>\n",
              "    </tr>\n",
              "    <tr>\n",
              "      <th>2</th>\n",
              "      <td>3668-QPYBK</td>\n",
              "      <td>Male</td>\n",
              "      <td>0</td>\n",
              "      <td>No</td>\n",
              "      <td>No</td>\n",
              "      <td>2</td>\n",
              "      <td>Yes</td>\n",
              "      <td>No</td>\n",
              "      <td>DSL</td>\n",
              "      <td>Yes</td>\n",
              "      <td>...</td>\n",
              "      <td>No</td>\n",
              "      <td>No</td>\n",
              "      <td>No</td>\n",
              "      <td>No</td>\n",
              "      <td>Month-to-month</td>\n",
              "      <td>Yes</td>\n",
              "      <td>Mailed check</td>\n",
              "      <td>53.85</td>\n",
              "      <td>108.15</td>\n",
              "      <td>Yes</td>\n",
              "    </tr>\n",
              "    <tr>\n",
              "      <th>3</th>\n",
              "      <td>7795-CFOCW</td>\n",
              "      <td>Male</td>\n",
              "      <td>0</td>\n",
              "      <td>No</td>\n",
              "      <td>No</td>\n",
              "      <td>45</td>\n",
              "      <td>No</td>\n",
              "      <td>No phone service</td>\n",
              "      <td>DSL</td>\n",
              "      <td>Yes</td>\n",
              "      <td>...</td>\n",
              "      <td>Yes</td>\n",
              "      <td>Yes</td>\n",
              "      <td>No</td>\n",
              "      <td>No</td>\n",
              "      <td>One year</td>\n",
              "      <td>No</td>\n",
              "      <td>Bank transfer (automatic)</td>\n",
              "      <td>42.30</td>\n",
              "      <td>1840.75</td>\n",
              "      <td>No</td>\n",
              "    </tr>\n",
              "    <tr>\n",
              "      <th>4</th>\n",
              "      <td>9237-HQITU</td>\n",
              "      <td>Female</td>\n",
              "      <td>0</td>\n",
              "      <td>No</td>\n",
              "      <td>No</td>\n",
              "      <td>2</td>\n",
              "      <td>Yes</td>\n",
              "      <td>No</td>\n",
              "      <td>Fiber optic</td>\n",
              "      <td>No</td>\n",
              "      <td>...</td>\n",
              "      <td>No</td>\n",
              "      <td>No</td>\n",
              "      <td>No</td>\n",
              "      <td>No</td>\n",
              "      <td>Month-to-month</td>\n",
              "      <td>Yes</td>\n",
              "      <td>Electronic check</td>\n",
              "      <td>70.70</td>\n",
              "      <td>151.65</td>\n",
              "      <td>Yes</td>\n",
              "    </tr>\n",
              "  </tbody>\n",
              "</table>\n",
              "<p>5 rows × 21 columns</p>\n",
              "</div>\n",
              "      <button class=\"colab-df-convert\" onclick=\"convertToInteractive('df-b8e1649b-4381-4562-ac12-de121be4ae48')\"\n",
              "              title=\"Convert this dataframe to an interactive table.\"\n",
              "              style=\"display:none;\">\n",
              "        \n",
              "  <svg xmlns=\"http://www.w3.org/2000/svg\" height=\"24px\"viewBox=\"0 0 24 24\"\n",
              "       width=\"24px\">\n",
              "    <path d=\"M0 0h24v24H0V0z\" fill=\"none\"/>\n",
              "    <path d=\"M18.56 5.44l.94 2.06.94-2.06 2.06-.94-2.06-.94-.94-2.06-.94 2.06-2.06.94zm-11 1L8.5 8.5l.94-2.06 2.06-.94-2.06-.94L8.5 2.5l-.94 2.06-2.06.94zm10 10l.94 2.06.94-2.06 2.06-.94-2.06-.94-.94-2.06-.94 2.06-2.06.94z\"/><path d=\"M17.41 7.96l-1.37-1.37c-.4-.4-.92-.59-1.43-.59-.52 0-1.04.2-1.43.59L10.3 9.45l-7.72 7.72c-.78.78-.78 2.05 0 2.83L4 21.41c.39.39.9.59 1.41.59.51 0 1.02-.2 1.41-.59l7.78-7.78 2.81-2.81c.8-.78.8-2.07 0-2.86zM5.41 20L4 18.59l7.72-7.72 1.47 1.35L5.41 20z\"/>\n",
              "  </svg>\n",
              "      </button>\n",
              "      \n",
              "  <style>\n",
              "    .colab-df-container {\n",
              "      display:flex;\n",
              "      flex-wrap:wrap;\n",
              "      gap: 12px;\n",
              "    }\n",
              "\n",
              "    .colab-df-convert {\n",
              "      background-color: #E8F0FE;\n",
              "      border: none;\n",
              "      border-radius: 50%;\n",
              "      cursor: pointer;\n",
              "      display: none;\n",
              "      fill: #1967D2;\n",
              "      height: 32px;\n",
              "      padding: 0 0 0 0;\n",
              "      width: 32px;\n",
              "    }\n",
              "\n",
              "    .colab-df-convert:hover {\n",
              "      background-color: #E2EBFA;\n",
              "      box-shadow: 0px 1px 2px rgba(60, 64, 67, 0.3), 0px 1px 3px 1px rgba(60, 64, 67, 0.15);\n",
              "      fill: #174EA6;\n",
              "    }\n",
              "\n",
              "    [theme=dark] .colab-df-convert {\n",
              "      background-color: #3B4455;\n",
              "      fill: #D2E3FC;\n",
              "    }\n",
              "\n",
              "    [theme=dark] .colab-df-convert:hover {\n",
              "      background-color: #434B5C;\n",
              "      box-shadow: 0px 1px 3px 1px rgba(0, 0, 0, 0.15);\n",
              "      filter: drop-shadow(0px 1px 2px rgba(0, 0, 0, 0.3));\n",
              "      fill: #FFFFFF;\n",
              "    }\n",
              "  </style>\n",
              "\n",
              "      <script>\n",
              "        const buttonEl =\n",
              "          document.querySelector('#df-b8e1649b-4381-4562-ac12-de121be4ae48 button.colab-df-convert');\n",
              "        buttonEl.style.display =\n",
              "          google.colab.kernel.accessAllowed ? 'block' : 'none';\n",
              "\n",
              "        async function convertToInteractive(key) {\n",
              "          const element = document.querySelector('#df-b8e1649b-4381-4562-ac12-de121be4ae48');\n",
              "          const dataTable =\n",
              "            await google.colab.kernel.invokeFunction('convertToInteractive',\n",
              "                                                     [key], {});\n",
              "          if (!dataTable) return;\n",
              "\n",
              "          const docLinkHtml = 'Like what you see? Visit the ' +\n",
              "            '<a target=\"_blank\" href=https://colab.research.google.com/notebooks/data_table.ipynb>data table notebook</a>'\n",
              "            + ' to learn more about interactive tables.';\n",
              "          element.innerHTML = '';\n",
              "          dataTable['output_type'] = 'display_data';\n",
              "          await google.colab.output.renderOutput(dataTable, element);\n",
              "          const docLink = document.createElement('div');\n",
              "          docLink.innerHTML = docLinkHtml;\n",
              "          element.appendChild(docLink);\n",
              "        }\n",
              "      </script>\n",
              "    </div>\n",
              "  </div>\n",
              "  "
            ]
          },
          "metadata": {},
          "execution_count": 4
        }
      ]
    },
    {
      "cell_type": "markdown",
      "source": [
        "Customer ID is a unique identifier for each customer in ths dataset, but for in this project, our target variable is Churn (customer stoppend business or not). In that case, customer ID does not provide useful information. So we can drop that column.\n",
        "\n",
        "Let's explore the data type of each column of the dataframe. Then we will clean and organize data to provide as input."
      ],
      "metadata": {
        "id": "3aLhlOLTjz3C"
      }
    },
    {
      "cell_type": "code",
      "source": [
        "# Drop customerID column\n",
        "df.drop('customerID', axis='columns', inplace = True)\n",
        "df.dtypes"
      ],
      "metadata": {
        "colab": {
          "base_uri": "https://localhost:8080/"
        },
        "id": "vyh3CVWveZLd",
        "outputId": "5c23b269-7f32-43db-c75e-a2485996ff31"
      },
      "execution_count": 5,
      "outputs": [
        {
          "output_type": "execute_result",
          "data": {
            "text/plain": [
              "gender               object\n",
              "SeniorCitizen         int64\n",
              "Partner              object\n",
              "Dependents           object\n",
              "tenure                int64\n",
              "PhoneService         object\n",
              "MultipleLines        object\n",
              "InternetService      object\n",
              "OnlineSecurity       object\n",
              "OnlineBackup         object\n",
              "DeviceProtection     object\n",
              "TechSupport          object\n",
              "StreamingTV          object\n",
              "StreamingMovies      object\n",
              "Contract             object\n",
              "PaperlessBilling     object\n",
              "PaymentMethod        object\n",
              "MonthlyCharges      float64\n",
              "TotalCharges         object\n",
              "Churn                object\n",
              "dtype: object"
            ]
          },
          "metadata": {},
          "execution_count": 5
        }
      ]
    },
    {
      "cell_type": "markdown",
      "source": [
        "There are numerical (int64, and float64) columns, and categorical (object) columns. The MonthyCharge is a number in the dataframe, but the datatype is 'object'. This column needs to be converted to a numerical data type. Let's use pandas to_numeric function to do this. There are some empty cells in the column, so we can use the 'error = coerce' parameter as an exception to to ignore the errors can occur due to empty cells. "
      ],
      "metadata": {
        "id": "FDXDJOTmsunq"
      }
    },
    {
      "cell_type": "code",
      "source": [
        " # There are empty cells. Ignore errors raised by those cells\n",
        "pd.to_numeric(df.TotalCharges, errors = 'coerce')"
      ],
      "metadata": {
        "colab": {
          "base_uri": "https://localhost:8080/"
        },
        "id": "ji4CWMjZfLGp",
        "outputId": "e800a049-a0c4-4ee4-b3c3-8aa9a2859479"
      },
      "execution_count": 6,
      "outputs": [
        {
          "output_type": "execute_result",
          "data": {
            "text/plain": [
              "0         29.85\n",
              "1       1889.50\n",
              "2        108.15\n",
              "3       1840.75\n",
              "4        151.65\n",
              "         ...   \n",
              "7038    1990.50\n",
              "7039    7362.90\n",
              "7040     346.45\n",
              "7041     306.60\n",
              "7042    6844.50\n",
              "Name: TotalCharges, Length: 7043, dtype: float64"
            ]
          },
          "metadata": {},
          "execution_count": 6
        }
      ]
    },
    {
      "cell_type": "markdown",
      "source": [
        "Select the rows where the TotalCharges is zero, and use it as an index in the original dataframe."
      ],
      "metadata": {
        "id": "Qi5rVY8_u404"
      }
    },
    {
      "cell_type": "code",
      "source": [
        "df[pd.to_numeric(df.TotalCharges, errors = 'coerce').isnull()]"
      ],
      "metadata": {
        "colab": {
          "base_uri": "https://localhost:8080/",
          "height": 615
        },
        "id": "R6DwYbz-r0CN",
        "outputId": "952f23c3-60ca-49ef-e092-75b1aa847dcf"
      },
      "execution_count": 7,
      "outputs": [
        {
          "output_type": "execute_result",
          "data": {
            "text/plain": [
              "      gender  SeniorCitizen Partner Dependents  tenure PhoneService  \\\n",
              "488   Female              0     Yes        Yes       0           No   \n",
              "753     Male              0      No        Yes       0          Yes   \n",
              "936   Female              0     Yes        Yes       0          Yes   \n",
              "1082    Male              0     Yes        Yes       0          Yes   \n",
              "1340  Female              0     Yes        Yes       0           No   \n",
              "3331    Male              0     Yes        Yes       0          Yes   \n",
              "3826    Male              0     Yes        Yes       0          Yes   \n",
              "4380  Female              0     Yes        Yes       0          Yes   \n",
              "5218    Male              0     Yes        Yes       0          Yes   \n",
              "6670  Female              0     Yes        Yes       0          Yes   \n",
              "6754    Male              0      No        Yes       0          Yes   \n",
              "\n",
              "         MultipleLines InternetService       OnlineSecurity  \\\n",
              "488   No phone service             DSL                  Yes   \n",
              "753                 No              No  No internet service   \n",
              "936                 No             DSL                  Yes   \n",
              "1082               Yes              No  No internet service   \n",
              "1340  No phone service             DSL                  Yes   \n",
              "3331                No              No  No internet service   \n",
              "3826               Yes              No  No internet service   \n",
              "4380                No              No  No internet service   \n",
              "5218                No              No  No internet service   \n",
              "6670               Yes             DSL                   No   \n",
              "6754               Yes             DSL                  Yes   \n",
              "\n",
              "             OnlineBackup     DeviceProtection          TechSupport  \\\n",
              "488                    No                  Yes                  Yes   \n",
              "753   No internet service  No internet service  No internet service   \n",
              "936                   Yes                  Yes                   No   \n",
              "1082  No internet service  No internet service  No internet service   \n",
              "1340                  Yes                  Yes                  Yes   \n",
              "3331  No internet service  No internet service  No internet service   \n",
              "3826  No internet service  No internet service  No internet service   \n",
              "4380  No internet service  No internet service  No internet service   \n",
              "5218  No internet service  No internet service  No internet service   \n",
              "6670                  Yes                  Yes                  Yes   \n",
              "6754                  Yes                   No                  Yes   \n",
              "\n",
              "              StreamingTV      StreamingMovies  Contract PaperlessBilling  \\\n",
              "488                   Yes                   No  Two year              Yes   \n",
              "753   No internet service  No internet service  Two year               No   \n",
              "936                   Yes                  Yes  Two year               No   \n",
              "1082  No internet service  No internet service  Two year               No   \n",
              "1340                  Yes                   No  Two year               No   \n",
              "3331  No internet service  No internet service  Two year               No   \n",
              "3826  No internet service  No internet service  Two year               No   \n",
              "4380  No internet service  No internet service  Two year               No   \n",
              "5218  No internet service  No internet service  One year              Yes   \n",
              "6670                  Yes                   No  Two year               No   \n",
              "6754                   No                   No  Two year              Yes   \n",
              "\n",
              "                  PaymentMethod  MonthlyCharges TotalCharges Churn  \n",
              "488   Bank transfer (automatic)           52.55                 No  \n",
              "753                Mailed check           20.25                 No  \n",
              "936                Mailed check           80.85                 No  \n",
              "1082               Mailed check           25.75                 No  \n",
              "1340    Credit card (automatic)           56.05                 No  \n",
              "3331               Mailed check           19.85                 No  \n",
              "3826               Mailed check           25.35                 No  \n",
              "4380               Mailed check           20.00                 No  \n",
              "5218               Mailed check           19.70                 No  \n",
              "6670               Mailed check           73.35                 No  \n",
              "6754  Bank transfer (automatic)           61.90                 No  "
            ],
            "text/html": [
              "\n",
              "  <div id=\"df-3def6793-819e-4b6a-8bfa-bfb2f5417055\">\n",
              "    <div class=\"colab-df-container\">\n",
              "      <div>\n",
              "<style scoped>\n",
              "    .dataframe tbody tr th:only-of-type {\n",
              "        vertical-align: middle;\n",
              "    }\n",
              "\n",
              "    .dataframe tbody tr th {\n",
              "        vertical-align: top;\n",
              "    }\n",
              "\n",
              "    .dataframe thead th {\n",
              "        text-align: right;\n",
              "    }\n",
              "</style>\n",
              "<table border=\"1\" class=\"dataframe\">\n",
              "  <thead>\n",
              "    <tr style=\"text-align: right;\">\n",
              "      <th></th>\n",
              "      <th>gender</th>\n",
              "      <th>SeniorCitizen</th>\n",
              "      <th>Partner</th>\n",
              "      <th>Dependents</th>\n",
              "      <th>tenure</th>\n",
              "      <th>PhoneService</th>\n",
              "      <th>MultipleLines</th>\n",
              "      <th>InternetService</th>\n",
              "      <th>OnlineSecurity</th>\n",
              "      <th>OnlineBackup</th>\n",
              "      <th>DeviceProtection</th>\n",
              "      <th>TechSupport</th>\n",
              "      <th>StreamingTV</th>\n",
              "      <th>StreamingMovies</th>\n",
              "      <th>Contract</th>\n",
              "      <th>PaperlessBilling</th>\n",
              "      <th>PaymentMethod</th>\n",
              "      <th>MonthlyCharges</th>\n",
              "      <th>TotalCharges</th>\n",
              "      <th>Churn</th>\n",
              "    </tr>\n",
              "  </thead>\n",
              "  <tbody>\n",
              "    <tr>\n",
              "      <th>488</th>\n",
              "      <td>Female</td>\n",
              "      <td>0</td>\n",
              "      <td>Yes</td>\n",
              "      <td>Yes</td>\n",
              "      <td>0</td>\n",
              "      <td>No</td>\n",
              "      <td>No phone service</td>\n",
              "      <td>DSL</td>\n",
              "      <td>Yes</td>\n",
              "      <td>No</td>\n",
              "      <td>Yes</td>\n",
              "      <td>Yes</td>\n",
              "      <td>Yes</td>\n",
              "      <td>No</td>\n",
              "      <td>Two year</td>\n",
              "      <td>Yes</td>\n",
              "      <td>Bank transfer (automatic)</td>\n",
              "      <td>52.55</td>\n",
              "      <td></td>\n",
              "      <td>No</td>\n",
              "    </tr>\n",
              "    <tr>\n",
              "      <th>753</th>\n",
              "      <td>Male</td>\n",
              "      <td>0</td>\n",
              "      <td>No</td>\n",
              "      <td>Yes</td>\n",
              "      <td>0</td>\n",
              "      <td>Yes</td>\n",
              "      <td>No</td>\n",
              "      <td>No</td>\n",
              "      <td>No internet service</td>\n",
              "      <td>No internet service</td>\n",
              "      <td>No internet service</td>\n",
              "      <td>No internet service</td>\n",
              "      <td>No internet service</td>\n",
              "      <td>No internet service</td>\n",
              "      <td>Two year</td>\n",
              "      <td>No</td>\n",
              "      <td>Mailed check</td>\n",
              "      <td>20.25</td>\n",
              "      <td></td>\n",
              "      <td>No</td>\n",
              "    </tr>\n",
              "    <tr>\n",
              "      <th>936</th>\n",
              "      <td>Female</td>\n",
              "      <td>0</td>\n",
              "      <td>Yes</td>\n",
              "      <td>Yes</td>\n",
              "      <td>0</td>\n",
              "      <td>Yes</td>\n",
              "      <td>No</td>\n",
              "      <td>DSL</td>\n",
              "      <td>Yes</td>\n",
              "      <td>Yes</td>\n",
              "      <td>Yes</td>\n",
              "      <td>No</td>\n",
              "      <td>Yes</td>\n",
              "      <td>Yes</td>\n",
              "      <td>Two year</td>\n",
              "      <td>No</td>\n",
              "      <td>Mailed check</td>\n",
              "      <td>80.85</td>\n",
              "      <td></td>\n",
              "      <td>No</td>\n",
              "    </tr>\n",
              "    <tr>\n",
              "      <th>1082</th>\n",
              "      <td>Male</td>\n",
              "      <td>0</td>\n",
              "      <td>Yes</td>\n",
              "      <td>Yes</td>\n",
              "      <td>0</td>\n",
              "      <td>Yes</td>\n",
              "      <td>Yes</td>\n",
              "      <td>No</td>\n",
              "      <td>No internet service</td>\n",
              "      <td>No internet service</td>\n",
              "      <td>No internet service</td>\n",
              "      <td>No internet service</td>\n",
              "      <td>No internet service</td>\n",
              "      <td>No internet service</td>\n",
              "      <td>Two year</td>\n",
              "      <td>No</td>\n",
              "      <td>Mailed check</td>\n",
              "      <td>25.75</td>\n",
              "      <td></td>\n",
              "      <td>No</td>\n",
              "    </tr>\n",
              "    <tr>\n",
              "      <th>1340</th>\n",
              "      <td>Female</td>\n",
              "      <td>0</td>\n",
              "      <td>Yes</td>\n",
              "      <td>Yes</td>\n",
              "      <td>0</td>\n",
              "      <td>No</td>\n",
              "      <td>No phone service</td>\n",
              "      <td>DSL</td>\n",
              "      <td>Yes</td>\n",
              "      <td>Yes</td>\n",
              "      <td>Yes</td>\n",
              "      <td>Yes</td>\n",
              "      <td>Yes</td>\n",
              "      <td>No</td>\n",
              "      <td>Two year</td>\n",
              "      <td>No</td>\n",
              "      <td>Credit card (automatic)</td>\n",
              "      <td>56.05</td>\n",
              "      <td></td>\n",
              "      <td>No</td>\n",
              "    </tr>\n",
              "    <tr>\n",
              "      <th>3331</th>\n",
              "      <td>Male</td>\n",
              "      <td>0</td>\n",
              "      <td>Yes</td>\n",
              "      <td>Yes</td>\n",
              "      <td>0</td>\n",
              "      <td>Yes</td>\n",
              "      <td>No</td>\n",
              "      <td>No</td>\n",
              "      <td>No internet service</td>\n",
              "      <td>No internet service</td>\n",
              "      <td>No internet service</td>\n",
              "      <td>No internet service</td>\n",
              "      <td>No internet service</td>\n",
              "      <td>No internet service</td>\n",
              "      <td>Two year</td>\n",
              "      <td>No</td>\n",
              "      <td>Mailed check</td>\n",
              "      <td>19.85</td>\n",
              "      <td></td>\n",
              "      <td>No</td>\n",
              "    </tr>\n",
              "    <tr>\n",
              "      <th>3826</th>\n",
              "      <td>Male</td>\n",
              "      <td>0</td>\n",
              "      <td>Yes</td>\n",
              "      <td>Yes</td>\n",
              "      <td>0</td>\n",
              "      <td>Yes</td>\n",
              "      <td>Yes</td>\n",
              "      <td>No</td>\n",
              "      <td>No internet service</td>\n",
              "      <td>No internet service</td>\n",
              "      <td>No internet service</td>\n",
              "      <td>No internet service</td>\n",
              "      <td>No internet service</td>\n",
              "      <td>No internet service</td>\n",
              "      <td>Two year</td>\n",
              "      <td>No</td>\n",
              "      <td>Mailed check</td>\n",
              "      <td>25.35</td>\n",
              "      <td></td>\n",
              "      <td>No</td>\n",
              "    </tr>\n",
              "    <tr>\n",
              "      <th>4380</th>\n",
              "      <td>Female</td>\n",
              "      <td>0</td>\n",
              "      <td>Yes</td>\n",
              "      <td>Yes</td>\n",
              "      <td>0</td>\n",
              "      <td>Yes</td>\n",
              "      <td>No</td>\n",
              "      <td>No</td>\n",
              "      <td>No internet service</td>\n",
              "      <td>No internet service</td>\n",
              "      <td>No internet service</td>\n",
              "      <td>No internet service</td>\n",
              "      <td>No internet service</td>\n",
              "      <td>No internet service</td>\n",
              "      <td>Two year</td>\n",
              "      <td>No</td>\n",
              "      <td>Mailed check</td>\n",
              "      <td>20.00</td>\n",
              "      <td></td>\n",
              "      <td>No</td>\n",
              "    </tr>\n",
              "    <tr>\n",
              "      <th>5218</th>\n",
              "      <td>Male</td>\n",
              "      <td>0</td>\n",
              "      <td>Yes</td>\n",
              "      <td>Yes</td>\n",
              "      <td>0</td>\n",
              "      <td>Yes</td>\n",
              "      <td>No</td>\n",
              "      <td>No</td>\n",
              "      <td>No internet service</td>\n",
              "      <td>No internet service</td>\n",
              "      <td>No internet service</td>\n",
              "      <td>No internet service</td>\n",
              "      <td>No internet service</td>\n",
              "      <td>No internet service</td>\n",
              "      <td>One year</td>\n",
              "      <td>Yes</td>\n",
              "      <td>Mailed check</td>\n",
              "      <td>19.70</td>\n",
              "      <td></td>\n",
              "      <td>No</td>\n",
              "    </tr>\n",
              "    <tr>\n",
              "      <th>6670</th>\n",
              "      <td>Female</td>\n",
              "      <td>0</td>\n",
              "      <td>Yes</td>\n",
              "      <td>Yes</td>\n",
              "      <td>0</td>\n",
              "      <td>Yes</td>\n",
              "      <td>Yes</td>\n",
              "      <td>DSL</td>\n",
              "      <td>No</td>\n",
              "      <td>Yes</td>\n",
              "      <td>Yes</td>\n",
              "      <td>Yes</td>\n",
              "      <td>Yes</td>\n",
              "      <td>No</td>\n",
              "      <td>Two year</td>\n",
              "      <td>No</td>\n",
              "      <td>Mailed check</td>\n",
              "      <td>73.35</td>\n",
              "      <td></td>\n",
              "      <td>No</td>\n",
              "    </tr>\n",
              "    <tr>\n",
              "      <th>6754</th>\n",
              "      <td>Male</td>\n",
              "      <td>0</td>\n",
              "      <td>No</td>\n",
              "      <td>Yes</td>\n",
              "      <td>0</td>\n",
              "      <td>Yes</td>\n",
              "      <td>Yes</td>\n",
              "      <td>DSL</td>\n",
              "      <td>Yes</td>\n",
              "      <td>Yes</td>\n",
              "      <td>No</td>\n",
              "      <td>Yes</td>\n",
              "      <td>No</td>\n",
              "      <td>No</td>\n",
              "      <td>Two year</td>\n",
              "      <td>Yes</td>\n",
              "      <td>Bank transfer (automatic)</td>\n",
              "      <td>61.90</td>\n",
              "      <td></td>\n",
              "      <td>No</td>\n",
              "    </tr>\n",
              "  </tbody>\n",
              "</table>\n",
              "</div>\n",
              "      <button class=\"colab-df-convert\" onclick=\"convertToInteractive('df-3def6793-819e-4b6a-8bfa-bfb2f5417055')\"\n",
              "              title=\"Convert this dataframe to an interactive table.\"\n",
              "              style=\"display:none;\">\n",
              "        \n",
              "  <svg xmlns=\"http://www.w3.org/2000/svg\" height=\"24px\"viewBox=\"0 0 24 24\"\n",
              "       width=\"24px\">\n",
              "    <path d=\"M0 0h24v24H0V0z\" fill=\"none\"/>\n",
              "    <path d=\"M18.56 5.44l.94 2.06.94-2.06 2.06-.94-2.06-.94-.94-2.06-.94 2.06-2.06.94zm-11 1L8.5 8.5l.94-2.06 2.06-.94-2.06-.94L8.5 2.5l-.94 2.06-2.06.94zm10 10l.94 2.06.94-2.06 2.06-.94-2.06-.94-.94-2.06-.94 2.06-2.06.94z\"/><path d=\"M17.41 7.96l-1.37-1.37c-.4-.4-.92-.59-1.43-.59-.52 0-1.04.2-1.43.59L10.3 9.45l-7.72 7.72c-.78.78-.78 2.05 0 2.83L4 21.41c.39.39.9.59 1.41.59.51 0 1.02-.2 1.41-.59l7.78-7.78 2.81-2.81c.8-.78.8-2.07 0-2.86zM5.41 20L4 18.59l7.72-7.72 1.47 1.35L5.41 20z\"/>\n",
              "  </svg>\n",
              "      </button>\n",
              "      \n",
              "  <style>\n",
              "    .colab-df-container {\n",
              "      display:flex;\n",
              "      flex-wrap:wrap;\n",
              "      gap: 12px;\n",
              "    }\n",
              "\n",
              "    .colab-df-convert {\n",
              "      background-color: #E8F0FE;\n",
              "      border: none;\n",
              "      border-radius: 50%;\n",
              "      cursor: pointer;\n",
              "      display: none;\n",
              "      fill: #1967D2;\n",
              "      height: 32px;\n",
              "      padding: 0 0 0 0;\n",
              "      width: 32px;\n",
              "    }\n",
              "\n",
              "    .colab-df-convert:hover {\n",
              "      background-color: #E2EBFA;\n",
              "      box-shadow: 0px 1px 2px rgba(60, 64, 67, 0.3), 0px 1px 3px 1px rgba(60, 64, 67, 0.15);\n",
              "      fill: #174EA6;\n",
              "    }\n",
              "\n",
              "    [theme=dark] .colab-df-convert {\n",
              "      background-color: #3B4455;\n",
              "      fill: #D2E3FC;\n",
              "    }\n",
              "\n",
              "    [theme=dark] .colab-df-convert:hover {\n",
              "      background-color: #434B5C;\n",
              "      box-shadow: 0px 1px 3px 1px rgba(0, 0, 0, 0.15);\n",
              "      filter: drop-shadow(0px 1px 2px rgba(0, 0, 0, 0.3));\n",
              "      fill: #FFFFFF;\n",
              "    }\n",
              "  </style>\n",
              "\n",
              "      <script>\n",
              "        const buttonEl =\n",
              "          document.querySelector('#df-3def6793-819e-4b6a-8bfa-bfb2f5417055 button.colab-df-convert');\n",
              "        buttonEl.style.display =\n",
              "          google.colab.kernel.accessAllowed ? 'block' : 'none';\n",
              "\n",
              "        async function convertToInteractive(key) {\n",
              "          const element = document.querySelector('#df-3def6793-819e-4b6a-8bfa-bfb2f5417055');\n",
              "          const dataTable =\n",
              "            await google.colab.kernel.invokeFunction('convertToInteractive',\n",
              "                                                     [key], {});\n",
              "          if (!dataTable) return;\n",
              "\n",
              "          const docLinkHtml = 'Like what you see? Visit the ' +\n",
              "            '<a target=\"_blank\" href=https://colab.research.google.com/notebooks/data_table.ipynb>data table notebook</a>'\n",
              "            + ' to learn more about interactive tables.';\n",
              "          element.innerHTML = '';\n",
              "          dataTable['output_type'] = 'display_data';\n",
              "          await google.colab.output.renderOutput(dataTable, element);\n",
              "          const docLink = document.createElement('div');\n",
              "          docLink.innerHTML = docLinkHtml;\n",
              "          element.appendChild(docLink);\n",
              "        }\n",
              "      </script>\n",
              "    </div>\n",
              "  </div>\n",
              "  "
            ]
          },
          "metadata": {},
          "execution_count": 7
        }
      ]
    },
    {
      "cell_type": "code",
      "source": [
        "# View shape of the inital dataframe\n",
        "df.shape"
      ],
      "metadata": {
        "colab": {
          "base_uri": "https://localhost:8080/"
        },
        "id": "_GVezT8AsL7x",
        "outputId": "a2a8a99c-8911-4b67-da2e-69973f606496"
      },
      "execution_count": 8,
      "outputs": [
        {
          "output_type": "execute_result",
          "data": {
            "text/plain": [
              "(7043, 20)"
            ]
          },
          "metadata": {},
          "execution_count": 8
        }
      ]
    },
    {
      "cell_type": "code",
      "source": [
        "# View the TotalCharges value of the first row where TotalCharges column is empty (a validation)\n",
        "df.iloc[488]['TotalCharges']"
      ],
      "metadata": {
        "colab": {
          "base_uri": "https://localhost:8080/",
          "height": 35
        },
        "id": "mzGQu_sJtdgX",
        "outputId": "492c3b5a-4e55-4cf1-8356-d7e275060b58"
      },
      "execution_count": 9,
      "outputs": [
        {
          "output_type": "execute_result",
          "data": {
            "text/plain": [
              "' '"
            ],
            "application/vnd.google.colaboratory.intrinsic+json": {
              "type": "string"
            }
          },
          "metadata": {},
          "execution_count": 9
        }
      ]
    },
    {
      "cell_type": "markdown",
      "source": [
        "There are 11 rows that have null values for TotalCharges column. We can drop those 11 rows as it is a small values compared to 7043 rows."
      ],
      "metadata": {
        "id": "nETuhQ_6sSeN"
      }
    },
    {
      "cell_type": "code",
      "source": [
        "# Create a new dataframe without the above 11 rows\n",
        "df1 = df[df.TotalCharges!=' ']\n",
        "df1.shape"
      ],
      "metadata": {
        "colab": {
          "base_uri": "https://localhost:8080/"
        },
        "id": "zOMcupKnsQZ3",
        "outputId": "4242c3d6-3f48-495a-ac00-de79aeddcc88"
      },
      "execution_count": 10,
      "outputs": [
        {
          "output_type": "execute_result",
          "data": {
            "text/plain": [
              "(7032, 20)"
            ]
          },
          "metadata": {},
          "execution_count": 10
        }
      ]
    },
    {
      "cell_type": "code",
      "source": [
        "# Check the datatypes of new columns \n",
        "df1.dtypes"
      ],
      "metadata": {
        "colab": {
          "base_uri": "https://localhost:8080/"
        },
        "id": "3YY0bWpDuwCw",
        "outputId": "6cfe19e7-e38b-4577-bd08-9e85932f19d9"
      },
      "execution_count": 11,
      "outputs": [
        {
          "output_type": "execute_result",
          "data": {
            "text/plain": [
              "gender               object\n",
              "SeniorCitizen         int64\n",
              "Partner              object\n",
              "Dependents           object\n",
              "tenure                int64\n",
              "PhoneService         object\n",
              "MultipleLines        object\n",
              "InternetService      object\n",
              "OnlineSecurity       object\n",
              "OnlineBackup         object\n",
              "DeviceProtection     object\n",
              "TechSupport          object\n",
              "StreamingTV          object\n",
              "StreamingMovies      object\n",
              "Contract             object\n",
              "PaperlessBilling     object\n",
              "PaymentMethod        object\n",
              "MonthlyCharges      float64\n",
              "TotalCharges         object\n",
              "Churn                object\n",
              "dtype: object"
            ]
          },
          "metadata": {},
          "execution_count": 11
        }
      ]
    },
    {
      "cell_type": "code",
      "source": [
        "# Empty rows are dropped. Change the datatype of TotalCharges column\n",
        "df1.TotalCharges = pd.to_numeric(df1.TotalCharges)"
      ],
      "metadata": {
        "colab": {
          "base_uri": "https://localhost:8080/"
        },
        "id": "J8Sy_zn3tJo_",
        "outputId": "d849a95a-d846-45b7-8812-e076a738b8f0"
      },
      "execution_count": 12,
      "outputs": [
        {
          "output_type": "stream",
          "name": "stderr",
          "text": [
            "<ipython-input-12-bd9d45fcc082>:2: SettingWithCopyWarning: \n",
            "A value is trying to be set on a copy of a slice from a DataFrame.\n",
            "Try using .loc[row_indexer,col_indexer] = value instead\n",
            "\n",
            "See the caveats in the documentation: https://pandas.pydata.org/pandas-docs/stable/user_guide/indexing.html#returning-a-view-versus-a-copy\n",
            "  df1.TotalCharges = pd.to_numeric(df1.TotalCharges)\n"
          ]
        }
      ]
    },
    {
      "cell_type": "code",
      "source": [
        "# Check the updated data types of the columns\n",
        "df1.dtypes"
      ],
      "metadata": {
        "colab": {
          "base_uri": "https://localhost:8080/"
        },
        "id": "_azYoJUWvY-D",
        "outputId": "46394c6d-bf04-40e1-a6e2-d6a43e8bf01c"
      },
      "execution_count": 13,
      "outputs": [
        {
          "output_type": "execute_result",
          "data": {
            "text/plain": [
              "gender               object\n",
              "SeniorCitizen         int64\n",
              "Partner              object\n",
              "Dependents           object\n",
              "tenure                int64\n",
              "PhoneService         object\n",
              "MultipleLines        object\n",
              "InternetService      object\n",
              "OnlineSecurity       object\n",
              "OnlineBackup         object\n",
              "DeviceProtection     object\n",
              "TechSupport          object\n",
              "StreamingTV          object\n",
              "StreamingMovies      object\n",
              "Contract             object\n",
              "PaperlessBilling     object\n",
              "PaymentMethod        object\n",
              "MonthlyCharges      float64\n",
              "TotalCharges        float64\n",
              "Churn                object\n",
              "dtype: object"
            ]
          },
          "metadata": {},
          "execution_count": 13
        }
      ]
    },
    {
      "cell_type": "markdown",
      "source": [
        "Let's visualize data to understand customer churn with respect to the time they have been with the company. The column 'tenure' is useful for this taks, which represents the number of months the customer stayed with the company."
      ],
      "metadata": {
        "id": "H5Tl2TDGNSTM"
      }
    },
    {
      "cell_type": "code",
      "source": [
        "# Visualize customer churn against tenure\n",
        "tenure_churn_no = df1[df1.Churn=='No'].tenure\n",
        "tenure_churn_yes = df1[df1.Churn=='Yes'].tenure\n",
        "\n",
        "plt.xlabel('Tenure')\n",
        "plt.ylabel('Number of Customers')\n",
        "plt.title('Customer Churn Prediction')\n",
        "\n",
        "plt.hist([tenure_churn_yes, tenure_churn_no], color = ['green', 'red'], label=['Churn=Yes', 'Churn=No'])\n",
        "plt.legend()"
      ],
      "metadata": {
        "colab": {
          "base_uri": "https://localhost:8080/",
          "height": 312
        },
        "id": "Fp_r2hywvxVT",
        "outputId": "bc3e5c78-4c25-4f26-9a0e-abe2433f11c6"
      },
      "execution_count": 14,
      "outputs": [
        {
          "output_type": "execute_result",
          "data": {
            "text/plain": [
              "<matplotlib.legend.Legend at 0x7fbce7d03f10>"
            ]
          },
          "metadata": {},
          "execution_count": 14
        },
        {
          "output_type": "display_data",
          "data": {
            "text/plain": [
              "<Figure size 432x288 with 1 Axes>"
            ],
            "image/png": "[encoded data removed]"
          },
          "metadata": {
            "needs_background": "light"
          }
        }
      ]
    },
    {
      "cell_type": "markdown",
      "source": [
        "The graph show's that the number of customers who are leaving the company (in green) is getting reduced with increasing number of months they stayed with the company. About 1000 customers who stayed with the company for 70 months are not leaving."
      ],
      "metadata": {
        "id": "RKWxrxFPPfu5"
      }
    },
    {
      "cell_type": "code",
      "source": [
        "# Visualize customer churn against monthly charge\n",
        "tenure_churn_no = df1[df1.Churn=='No'].MonthlyCharges\n",
        "tenure_churn_yes = df1[df1.Churn=='Yes'].MonthlyCharges\n",
        "\n",
        "plt.xlabel('Monthly Charges')\n",
        "plt.ylabel('Number of Customers')\n",
        "plt.title('Customer Churn Prediction')\n",
        "\n",
        "plt.hist([tenure_churn_yes, tenure_churn_no], color = ['green', 'red'], label=['Churn=Yes', 'Churn=No'])\n",
        "plt.legend()"
      ],
      "metadata": {
        "colab": {
          "base_uri": "https://localhost:8080/",
          "height": 312
        },
        "id": "bL0EcMIGwTiy",
        "outputId": "9f9ffe9b-adf0-41c8-c4b6-952979ecd3b4"
      },
      "execution_count": 15,
      "outputs": [
        {
          "output_type": "execute_result",
          "data": {
            "text/plain": [
              "<matplotlib.legend.Legend at 0x7fbce73ce250>"
            ]
          },
          "metadata": {},
          "execution_count": 15
        },
        {
          "output_type": "display_data",
          "data": {
            "text/plain": [
              "<Figure size 432x288 with 1 Axes>"
            ],
            "image/png": "[encoded data removed]"
          },
          "metadata": {
            "needs_background": "light"
          }
        }
      ]
    },
    {
      "cell_type": "markdown",
      "source": [
        "Customers with lowest monthly charge stays did not leave the company during the considered month and both churn = Yes and churn = No data show a distribution somewhat close to a normal distribution.\n",
        "\n",
        "Next, because the dataset consists of several categorical features, we have to transform to a format that can be used in a classification model. We can use one hot encoding for that. First, we will explore the feature and understand the data deeper."
      ],
      "metadata": {
        "id": "dfC1pOMnRSYX"
      }
    },
    {
      "cell_type": "code",
      "source": [
        "# Function to find unique values for each column where the data type is object\n",
        "def print_unique_col_values(df):\n",
        "  for column in df:\n",
        "    if df[column].dtype == 'object':\n",
        "      print(f'{column} : {df[column].unique()}')"
      ],
      "metadata": {
        "id": "ES3_kbXsyzUe"
      },
      "execution_count": 16,
      "outputs": []
    },
    {
      "cell_type": "code",
      "source": [
        "# View unique values of the columns\n",
        "print_unique_col_values(df1)"
      ],
      "metadata": {
        "colab": {
          "base_uri": "https://localhost:8080/"
        },
        "id": "zArLjUAnVy3r",
        "outputId": "5b90c334-9660-4b89-9ea2-89a0e4dea745"
      },
      "execution_count": 17,
      "outputs": [
        {
          "output_type": "stream",
          "name": "stdout",
          "text": [
            "gender : ['Female' 'Male']\n",
            "Partner : ['Yes' 'No']\n",
            "Dependents : ['No' 'Yes']\n",
            "PhoneService : ['No' 'Yes']\n",
            "MultipleLines : ['No phone service' 'No' 'Yes']\n",
            "InternetService : ['DSL' 'Fiber optic' 'No']\n",
            "OnlineSecurity : ['No' 'Yes' 'No internet service']\n",
            "OnlineBackup : ['Yes' 'No' 'No internet service']\n",
            "DeviceProtection : ['No' 'Yes' 'No internet service']\n",
            "TechSupport : ['No' 'Yes' 'No internet service']\n",
            "StreamingTV : ['No' 'Yes' 'No internet service']\n",
            "StreamingMovies : ['No' 'Yes' 'No internet service']\n",
            "Contract : ['Month-to-month' 'One year' 'Two year']\n",
            "PaperlessBilling : ['Yes' 'No']\n",
            "PaymentMethod : ['Electronic check' 'Mailed check' 'Bank transfer (automatic)'\n",
            " 'Credit card (automatic)']\n",
            "Churn : ['No' 'Yes']\n"
          ]
        }
      ]
    },
    {
      "cell_type": "markdown",
      "source": [
        "There are multiple answers recorded for 'No'. Let's replace the similar answers with 'No' which would make one-hot encoding easier."
      ],
      "metadata": {
        "id": "J6pBQmIjTG2E"
      }
    },
    {
      "cell_type": "code",
      "source": [
        "df1.replace('No internet service', 'No', inplace = True)\n",
        "df1.replace('No phone service', 'No', inplace = True)"
      ],
      "metadata": {
        "colab": {
          "base_uri": "https://localhost:8080/"
        },
        "id": "nz7CFXu2XC7e",
        "outputId": "f52f960a-9041-4290-fa67-b472db59f063"
      },
      "execution_count": 18,
      "outputs": [
        {
          "output_type": "stream",
          "name": "stderr",
          "text": [
            "<ipython-input-18-4504976d21a6>:1: SettingWithCopyWarning: \n",
            "A value is trying to be set on a copy of a slice from a DataFrame\n",
            "\n",
            "See the caveats in the documentation: https://pandas.pydata.org/pandas-docs/stable/user_guide/indexing.html#returning-a-view-versus-a-copy\n",
            "  df1.replace('No internet service', 'No', inplace = True)\n",
            "<ipython-input-18-4504976d21a6>:2: SettingWithCopyWarning: \n",
            "A value is trying to be set on a copy of a slice from a DataFrame\n",
            "\n",
            "See the caveats in the documentation: https://pandas.pydata.org/pandas-docs/stable/user_guide/indexing.html#returning-a-view-versus-a-copy\n",
            "  df1.replace('No phone service', 'No', inplace = True)\n"
          ]
        }
      ]
    },
    {
      "cell_type": "markdown",
      "source": [
        "One hot encode the columns with binary responses using a for loop.\n",
        "\n",
        "First we can replace columns with yes and no with 1 and 0 respectively."
      ],
      "metadata": {
        "id": "FeSy4hURToEF"
      }
    },
    {
      "cell_type": "code",
      "source": [
        "# One hot encoding\n",
        "yes_no_columns = ['Partner', 'Dependents', 'PhoneService', 'MultipleLines', 'OnlineSecurity', 'OnlineBackup',\n",
        "                  'DeviceProtection', 'TechSupport', 'StreamingTV', 'StreamingMovies', 'PaperlessBilling', 'Churn']\n",
        "\n",
        "# Replace values inplace\n",
        "for col in yes_no_columns:\n",
        "  df1[col].replace({'Yes': 1, 'No': 0}, inplace= True)"
      ],
      "metadata": {
        "colab": {
          "base_uri": "https://localhost:8080/"
        },
        "id": "7xXhDr-CX4no",
        "outputId": "55b4bfb7-8fb1-4e90-aa87-11a32a1333d5"
      },
      "execution_count": 19,
      "outputs": [
        {
          "output_type": "stream",
          "name": "stderr",
          "text": [
            "<ipython-input-19-65f9ce2ad926>:7: SettingWithCopyWarning: \n",
            "A value is trying to be set on a copy of a slice from a DataFrame\n",
            "\n",
            "See the caveats in the documentation: https://pandas.pydata.org/pandas-docs/stable/user_guide/indexing.html#returning-a-view-versus-a-copy\n",
            "  df1[col].replace({'Yes': 1, 'No': 0}, inplace= True)\n"
          ]
        }
      ]
    },
    {
      "cell_type": "code",
      "source": [
        "# Print unique values of each column\n",
        "for col in df1:\n",
        "  print(f'{col}: {df1[col].unique()}')"
      ],
      "metadata": {
        "colab": {
          "base_uri": "https://localhost:8080/"
        },
        "id": "d2SfoDqCZ98s",
        "outputId": "2f0ab9f4-aa66-45de-df08-579643a55322"
      },
      "execution_count": 20,
      "outputs": [
        {
          "output_type": "stream",
          "name": "stdout",
          "text": [
            "gender: ['Female' 'Male']\n",
            "SeniorCitizen: [0 1]\n",
            "Partner: [1 0]\n",
            "Dependents: [0 1]\n",
            "tenure: [ 1 34  2 45  8 22 10 28 62 13 16 58 49 25 69 52 71 21 12 30 47 72 17 27\n",
            "  5 46 11 70 63 43 15 60 18 66  9  3 31 50 64 56  7 42 35 48 29 65 38 68\n",
            " 32 55 37 36 41  6  4 33 67 23 57 61 14 20 53 40 59 24 44 19 54 51 26 39]\n",
            "PhoneService: [0 1]\n",
            "MultipleLines: [0 1]\n",
            "InternetService: ['DSL' 'Fiber optic' 'No']\n",
            "OnlineSecurity: [0 1]\n",
            "OnlineBackup: [1 0]\n",
            "DeviceProtection: [0 1]\n",
            "TechSupport: [0 1]\n",
            "StreamingTV: [0 1]\n",
            "StreamingMovies: [0 1]\n",
            "Contract: ['Month-to-month' 'One year' 'Two year']\n",
            "PaperlessBilling: [1 0]\n",
            "PaymentMethod: ['Electronic check' 'Mailed check' 'Bank transfer (automatic)'\n",
            " 'Credit card (automatic)']\n",
            "MonthlyCharges: [29.85 56.95 53.85 ... 63.1  44.2  78.7 ]\n",
            "TotalCharges: [  29.85 1889.5   108.15 ...  346.45  306.6  6844.5 ]\n",
            "Churn: [0 1]\n"
          ]
        }
      ]
    },
    {
      "cell_type": "markdown",
      "source": [
        "Next, replace female and male with 1 and 0 respectively."
      ],
      "metadata": {
        "id": "YZULZ4TwUzcO"
      }
    },
    {
      "cell_type": "code",
      "source": [
        "# One hot encode gender column\n",
        "df1['gender'].replace({'Female':1, 'Male':0}, inplace= True)"
      ],
      "metadata": {
        "id": "YC_4jC7obT6q",
        "colab": {
          "base_uri": "https://localhost:8080/"
        },
        "outputId": "6b89199b-2e4b-4c6f-819c-3c89dd7e4120"
      },
      "execution_count": 21,
      "outputs": [
        {
          "output_type": "stream",
          "name": "stderr",
          "text": [
            "<ipython-input-21-aad221b4b9c2>:2: SettingWithCopyWarning: \n",
            "A value is trying to be set on a copy of a slice from a DataFrame\n",
            "\n",
            "See the caveats in the documentation: https://pandas.pydata.org/pandas-docs/stable/user_guide/indexing.html#returning-a-view-versus-a-copy\n",
            "  df1['gender'].replace({'Female':1, 'Male':0}, inplace= True)\n"
          ]
        }
      ]
    },
    {
      "cell_type": "code",
      "source": [
        "# validate updating of the gender column\n",
        "df1['gender'].unique()"
      ],
      "metadata": {
        "colab": {
          "base_uri": "https://localhost:8080/"
        },
        "id": "22XHXwTtbp5t",
        "outputId": "858a5505-bcca-4e6d-d2f2-74d40d56b58b"
      },
      "execution_count": 22,
      "outputs": [
        {
          "output_type": "execute_result",
          "data": {
            "text/plain": [
              "array([1, 0])"
            ]
          },
          "metadata": {},
          "execution_count": 22
        }
      ]
    },
    {
      "cell_type": "markdown",
      "source": [
        "Since there are more than two responses in the categorical features, we can use pandas get_dummies function to apply one hot encoding."
      ],
      "metadata": {
        "id": "Q-NE39dTVZ_9"
      }
    },
    {
      "cell_type": "code",
      "source": [
        "# One hot encode the remaining columns and create a new dataframe with 1 and 0 values \n",
        "df2 = pd.get_dummies(data= df1, columns = ['InternetService', 'Contract', 'PaymentMethod'])"
      ],
      "metadata": {
        "id": "EdZChychbvx6"
      },
      "execution_count": 23,
      "outputs": []
    },
    {
      "cell_type": "code",
      "source": [
        "# View column names of the new dataframe\n",
        "df2.columns"
      ],
      "metadata": {
        "colab": {
          "base_uri": "https://localhost:8080/"
        },
        "id": "dOs9xSy5crMv",
        "outputId": "dbec1be7-d615-4156-8add-0c609b991064"
      },
      "execution_count": 24,
      "outputs": [
        {
          "output_type": "execute_result",
          "data": {
            "text/plain": [
              "Index(['gender', 'SeniorCitizen', 'Partner', 'Dependents', 'tenure',\n",
              "       'PhoneService', 'MultipleLines', 'OnlineSecurity', 'OnlineBackup',\n",
              "       'DeviceProtection', 'TechSupport', 'StreamingTV', 'StreamingMovies',\n",
              "       'PaperlessBilling', 'MonthlyCharges', 'TotalCharges', 'Churn',\n",
              "       'InternetService_DSL', 'InternetService_Fiber optic',\n",
              "       'InternetService_No', 'Contract_Month-to-month', 'Contract_One year',\n",
              "       'Contract_Two year', 'PaymentMethod_Bank transfer (automatic)',\n",
              "       'PaymentMethod_Credit card (automatic)',\n",
              "       'PaymentMethod_Electronic check', 'PaymentMethod_Mailed check'],\n",
              "      dtype='object')"
            ]
          },
          "metadata": {},
          "execution_count": 24
        }
      ]
    },
    {
      "cell_type": "code",
      "source": [
        "# View top four rows of the dataframe\n",
        "df2.sample(4)"
      ],
      "metadata": {
        "colab": {
          "base_uri": "https://localhost:8080/",
          "height": 303
        },
        "id": "PkHGaNT-csv6",
        "outputId": "b690bce5-d821-479a-85a5-528bd4fb80a7"
      },
      "execution_count": 25,
      "outputs": [
        {
          "output_type": "execute_result",
          "data": {
            "text/plain": [
              "      gender  SeniorCitizen  Partner  Dependents  tenure  PhoneService  \\\n",
              "771        0              0        0           0      15             1   \n",
              "6178       1              1        1           0      54             1   \n",
              "6323       1              0        0           0      40             1   \n",
              "5507       1              0        0           0      28             1   \n",
              "\n",
              "      MultipleLines  OnlineSecurity  OnlineBackup  DeviceProtection  ...  \\\n",
              "771               1               0             0                 0  ...   \n",
              "6178              0               0             0                 0  ...   \n",
              "6323              1               0             0                 1  ...   \n",
              "5507              0               1             1                 0  ...   \n",
              "\n",
              "      InternetService_DSL  InternetService_Fiber optic  InternetService_No  \\\n",
              "771                     0                            1                   0   \n",
              "6178                    0                            0                   1   \n",
              "6323                    0                            1                   0   \n",
              "5507                    1                            0                   0   \n",
              "\n",
              "      Contract_Month-to-month  Contract_One year  Contract_Two year  \\\n",
              "771                         1                  0                  0   \n",
              "6178                        0                  0                  1   \n",
              "6323                        0                  1                  0   \n",
              "5507                        0                  1                  0   \n",
              "\n",
              "      PaymentMethod_Bank transfer (automatic)  \\\n",
              "771                                         0   \n",
              "6178                                        0   \n",
              "6323                                        0   \n",
              "5507                                        0   \n",
              "\n",
              "      PaymentMethod_Credit card (automatic)  PaymentMethod_Electronic check  \\\n",
              "771                                       0                               1   \n",
              "6178                                      0                               0   \n",
              "6323                                      1                               0   \n",
              "5507                                      0                               1   \n",
              "\n",
              "      PaymentMethod_Mailed check  \n",
              "771                            0  \n",
              "6178                           1  \n",
              "6323                           0  \n",
              "5507                           0  \n",
              "\n",
              "[4 rows x 27 columns]"
            ],
            "text/html": [
              "\n",
              "  <div id=\"df-98f8019b-9ac0-4213-add0-1362c0d91360\">\n",
              "    <div class=\"colab-df-container\">\n",
              "      <div>\n",
              "<style scoped>\n",
              "    .dataframe tbody tr th:only-of-type {\n",
              "        vertical-align: middle;\n",
              "    }\n",
              "\n",
              "    .dataframe tbody tr th {\n",
              "        vertical-align: top;\n",
              "    }\n",
              "\n",
              "    .dataframe thead th {\n",
              "        text-align: right;\n",
              "    }\n",
              "</style>\n",
              "<table border=\"1\" class=\"dataframe\">\n",
              "  <thead>\n",
              "    <tr style=\"text-align: right;\">\n",
              "      <th></th>\n",
              "      <th>gender</th>\n",
              "      <th>SeniorCitizen</th>\n",
              "      <th>Partner</th>\n",
              "      <th>Dependents</th>\n",
              "      <th>tenure</th>\n",
              "      <th>PhoneService</th>\n",
              "      <th>MultipleLines</th>\n",
              "      <th>OnlineSecurity</th>\n",
              "      <th>OnlineBackup</th>\n",
              "      <th>DeviceProtection</th>\n",
              "      <th>...</th>\n",
              "      <th>InternetService_DSL</th>\n",
              "      <th>InternetService_Fiber optic</th>\n",
              "      <th>InternetService_No</th>\n",
              "      <th>Contract_Month-to-month</th>\n",
              "      <th>Contract_One year</th>\n",
              "      <th>Contract_Two year</th>\n",
              "      <th>PaymentMethod_Bank transfer (automatic)</th>\n",
              "      <th>PaymentMethod_Credit card (automatic)</th>\n",
              "      <th>PaymentMethod_Electronic check</th>\n",
              "      <th>PaymentMethod_Mailed check</th>\n",
              "    </tr>\n",
              "  </thead>\n",
              "  <tbody>\n",
              "    <tr>\n",
              "      <th>771</th>\n",
              "      <td>0</td>\n",
              "      <td>0</td>\n",
              "      <td>0</td>\n",
              "      <td>0</td>\n",
              "      <td>15</td>\n",
              "      <td>1</td>\n",
              "      <td>1</td>\n",
              "      <td>0</td>\n",
              "      <td>0</td>\n",
              "      <td>0</td>\n",
              "      <td>...</td>\n",
              "      <td>0</td>\n",
              "      <td>1</td>\n",
              "      <td>0</td>\n",
              "      <td>1</td>\n",
              "      <td>0</td>\n",
              "      <td>0</td>\n",
              "      <td>0</td>\n",
              "      <td>0</td>\n",
              "      <td>1</td>\n",
              "      <td>0</td>\n",
              "    </tr>\n",
              "    <tr>\n",
              "      <th>6178</th>\n",
              "      <td>1</td>\n",
              "      <td>1</td>\n",
              "      <td>1</td>\n",
              "      <td>0</td>\n",
              "      <td>54</td>\n",
              "      <td>1</td>\n",
              "      <td>0</td>\n",
              "      <td>0</td>\n",
              "      <td>0</td>\n",
              "      <td>0</td>\n",
              "      <td>...</td>\n",
              "      <td>0</td>\n",
              "      <td>0</td>\n",
              "      <td>1</td>\n",
              "      <td>0</td>\n",
              "      <td>0</td>\n",
              "      <td>1</td>\n",
              "      <td>0</td>\n",
              "      <td>0</td>\n",
              "      <td>0</td>\n",
              "      <td>1</td>\n",
              "    </tr>\n",
              "    <tr>\n",
              "      <th>6323</th>\n",
              "      <td>1</td>\n",
              "      <td>0</td>\n",
              "      <td>0</td>\n",
              "      <td>0</td>\n",
              "      <td>40</td>\n",
              "      <td>1</td>\n",
              "      <td>1</td>\n",
              "      <td>0</td>\n",
              "      <td>0</td>\n",
              "      <td>1</td>\n",
              "      <td>...</td>\n",
              "      <td>0</td>\n",
              "      <td>1</td>\n",
              "      <td>0</td>\n",
              "      <td>0</td>\n",
              "      <td>1</td>\n",
              "      <td>0</td>\n",
              "      <td>0</td>\n",
              "      <td>1</td>\n",
              "      <td>0</td>\n",
              "      <td>0</td>\n",
              "    </tr>\n",
              "    <tr>\n",
              "      <th>5507</th>\n",
              "      <td>1</td>\n",
              "      <td>0</td>\n",
              "      <td>0</td>\n",
              "      <td>0</td>\n",
              "      <td>28</td>\n",
              "      <td>1</td>\n",
              "      <td>0</td>\n",
              "      <td>1</td>\n",
              "      <td>1</td>\n",
              "      <td>0</td>\n",
              "      <td>...</td>\n",
              "      <td>1</td>\n",
              "      <td>0</td>\n",
              "      <td>0</td>\n",
              "      <td>0</td>\n",
              "      <td>1</td>\n",
              "      <td>0</td>\n",
              "      <td>0</td>\n",
              "      <td>0</td>\n",
              "      <td>1</td>\n",
              "      <td>0</td>\n",
              "    </tr>\n",
              "  </tbody>\n",
              "</table>\n",
              "<p>4 rows × 27 columns</p>\n",
              "</div>\n",
              "      <button class=\"colab-df-convert\" onclick=\"convertToInteractive('df-98f8019b-9ac0-4213-add0-1362c0d91360')\"\n",
              "              title=\"Convert this dataframe to an interactive table.\"\n",
              "              style=\"display:none;\">\n",
              "        \n",
              "  <svg xmlns=\"http://www.w3.org/2000/svg\" height=\"24px\"viewBox=\"0 0 24 24\"\n",
              "       width=\"24px\">\n",
              "    <path d=\"M0 0h24v24H0V0z\" fill=\"none\"/>\n",
              "    <path d=\"M18.56 5.44l.94 2.06.94-2.06 2.06-.94-2.06-.94-.94-2.06-.94 2.06-2.06.94zm-11 1L8.5 8.5l.94-2.06 2.06-.94-2.06-.94L8.5 2.5l-.94 2.06-2.06.94zm10 10l.94 2.06.94-2.06 2.06-.94-2.06-.94-.94-2.06-.94 2.06-2.06.94z\"/><path d=\"M17.41 7.96l-1.37-1.37c-.4-.4-.92-.59-1.43-.59-.52 0-1.04.2-1.43.59L10.3 9.45l-7.72 7.72c-.78.78-.78 2.05 0 2.83L4 21.41c.39.39.9.59 1.41.59.51 0 1.02-.2 1.41-.59l7.78-7.78 2.81-2.81c.8-.78.8-2.07 0-2.86zM5.41 20L4 18.59l7.72-7.72 1.47 1.35L5.41 20z\"/>\n",
              "  </svg>\n",
              "      </button>\n",
              "      \n",
              "  <style>\n",
              "    .colab-df-container {\n",
              "      display:flex;\n",
              "      flex-wrap:wrap;\n",
              "      gap: 12px;\n",
              "    }\n",
              "\n",
              "    .colab-df-convert {\n",
              "      background-color: #E8F0FE;\n",
              "      border: none;\n",
              "      border-radius: 50%;\n",
              "      cursor: pointer;\n",
              "      display: none;\n",
              "      fill: #1967D2;\n",
              "      height: 32px;\n",
              "      padding: 0 0 0 0;\n",
              "      width: 32px;\n",
              "    }\n",
              "\n",
              "    .colab-df-convert:hover {\n",
              "      background-color: #E2EBFA;\n",
              "      box-shadow: 0px 1px 2px rgba(60, 64, 67, 0.3), 0px 1px 3px 1px rgba(60, 64, 67, 0.15);\n",
              "      fill: #174EA6;\n",
              "    }\n",
              "\n",
              "    [theme=dark] .colab-df-convert {\n",
              "      background-color: #3B4455;\n",
              "      fill: #D2E3FC;\n",
              "    }\n",
              "\n",
              "    [theme=dark] .colab-df-convert:hover {\n",
              "      background-color: #434B5C;\n",
              "      box-shadow: 0px 1px 3px 1px rgba(0, 0, 0, 0.15);\n",
              "      filter: drop-shadow(0px 1px 2px rgba(0, 0, 0, 0.3));\n",
              "      fill: #FFFFFF;\n",
              "    }\n",
              "  </style>\n",
              "\n",
              "      <script>\n",
              "        const buttonEl =\n",
              "          document.querySelector('#df-98f8019b-9ac0-4213-add0-1362c0d91360 button.colab-df-convert');\n",
              "        buttonEl.style.display =\n",
              "          google.colab.kernel.accessAllowed ? 'block' : 'none';\n",
              "\n",
              "        async function convertToInteractive(key) {\n",
              "          const element = document.querySelector('#df-98f8019b-9ac0-4213-add0-1362c0d91360');\n",
              "          const dataTable =\n",
              "            await google.colab.kernel.invokeFunction('convertToInteractive',\n",
              "                                                     [key], {});\n",
              "          if (!dataTable) return;\n",
              "\n",
              "          const docLinkHtml = 'Like what you see? Visit the ' +\n",
              "            '<a target=\"_blank\" href=https://colab.research.google.com/notebooks/data_table.ipynb>data table notebook</a>'\n",
              "            + ' to learn more about interactive tables.';\n",
              "          element.innerHTML = '';\n",
              "          dataTable['output_type'] = 'display_data';\n",
              "          await google.colab.output.renderOutput(dataTable, element);\n",
              "          const docLink = document.createElement('div');\n",
              "          docLink.innerHTML = docLinkHtml;\n",
              "          element.appendChild(docLink);\n",
              "        }\n",
              "      </script>\n",
              "    </div>\n",
              "  </div>\n",
              "  "
            ]
          },
          "metadata": {},
          "execution_count": 25
        }
      ]
    },
    {
      "cell_type": "code",
      "source": [
        "# View data types of the new dataframe\n",
        "df2.dtypes"
      ],
      "metadata": {
        "colab": {
          "base_uri": "https://localhost:8080/"
        },
        "id": "bkg55IWUc2yk",
        "outputId": "315044f2-370c-4d15-ab27-0219e3799c56"
      },
      "execution_count": 26,
      "outputs": [
        {
          "output_type": "execute_result",
          "data": {
            "text/plain": [
              "gender                                       int64\n",
              "SeniorCitizen                                int64\n",
              "Partner                                      int64\n",
              "Dependents                                   int64\n",
              "tenure                                       int64\n",
              "PhoneService                                 int64\n",
              "MultipleLines                                int64\n",
              "OnlineSecurity                               int64\n",
              "OnlineBackup                                 int64\n",
              "DeviceProtection                             int64\n",
              "TechSupport                                  int64\n",
              "StreamingTV                                  int64\n",
              "StreamingMovies                              int64\n",
              "PaperlessBilling                             int64\n",
              "MonthlyCharges                             float64\n",
              "TotalCharges                               float64\n",
              "Churn                                        int64\n",
              "InternetService_DSL                          uint8\n",
              "InternetService_Fiber optic                  uint8\n",
              "InternetService_No                           uint8\n",
              "Contract_Month-to-month                      uint8\n",
              "Contract_One year                            uint8\n",
              "Contract_Two year                            uint8\n",
              "PaymentMethod_Bank transfer (automatic)      uint8\n",
              "PaymentMethod_Credit card (automatic)        uint8\n",
              "PaymentMethod_Electronic check               uint8\n",
              "PaymentMethod_Mailed check                   uint8\n",
              "dtype: object"
            ]
          },
          "metadata": {},
          "execution_count": 26
        }
      ]
    },
    {
      "cell_type": "markdown",
      "source": [
        "It is important to have all the input features in the same range to make the convergence of gradient descent faster. If we have different ranges among input fetures, weighted sums will be affected more with the data in large ranges. So the neural network has to do more work to tune the parameters to get the least error in training.\n",
        "\n",
        "MinMaxScaler will transform our data into the range between 0 and 1 considering the smallest value as 0 and largest value as 1."
      ],
      "metadata": {
        "id": "OUYZM40vWqi4"
      }
    },
    {
      "cell_type": "code",
      "source": [
        "# Scale the three columns with large range to the range between 0 and 1\n",
        "cols_to_scale = ['tenure', 'MonthlyCharges', 'TotalCharges']\n",
        "\n",
        "from sklearn.preprocessing import MinMaxScaler\n",
        "scaler = MinMaxScaler()\n",
        "\n",
        "df2[cols_to_scale] = scaler.fit_transform(df2[cols_to_scale])"
      ],
      "metadata": {
        "id": "cFC0IzGAdCrE"
      },
      "execution_count": 27,
      "outputs": []
    },
    {
      "cell_type": "code",
      "source": [
        "# View unique values of updated data of each column in the dataframe\n",
        "for col in df2:\n",
        "  print(f'{col}: {df2[col].unique()}')"
      ],
      "metadata": {
        "colab": {
          "base_uri": "https://localhost:8080/"
        },
        "id": "w1hXZm2weS25",
        "outputId": "f83f54f6-0ada-40d9-c49a-3d58855920b3"
      },
      "execution_count": 28,
      "outputs": [
        {
          "output_type": "stream",
          "name": "stdout",
          "text": [
            "gender: [1 0]\n",
            "SeniorCitizen: [0 1]\n",
            "Partner: [1 0]\n",
            "Dependents: [0 1]\n",
            "tenure: [0.         0.46478873 0.01408451 0.61971831 0.09859155 0.29577465\n",
            " 0.12676056 0.38028169 0.85915493 0.16901408 0.21126761 0.8028169\n",
            " 0.67605634 0.33802817 0.95774648 0.71830986 0.98591549 0.28169014\n",
            " 0.15492958 0.4084507  0.64788732 1.         0.22535211 0.36619718\n",
            " 0.05633803 0.63380282 0.14084507 0.97183099 0.87323944 0.5915493\n",
            " 0.1971831  0.83098592 0.23943662 0.91549296 0.11267606 0.02816901\n",
            " 0.42253521 0.69014085 0.88732394 0.77464789 0.08450704 0.57746479\n",
            " 0.47887324 0.66197183 0.3943662  0.90140845 0.52112676 0.94366197\n",
            " 0.43661972 0.76056338 0.50704225 0.49295775 0.56338028 0.07042254\n",
            " 0.04225352 0.45070423 0.92957746 0.30985915 0.78873239 0.84507042\n",
            " 0.18309859 0.26760563 0.73239437 0.54929577 0.81690141 0.32394366\n",
            " 0.6056338  0.25352113 0.74647887 0.70422535 0.35211268 0.53521127]\n",
            "PhoneService: [0 1]\n",
            "MultipleLines: [0 1]\n",
            "OnlineSecurity: [0 1]\n",
            "OnlineBackup: [1 0]\n",
            "DeviceProtection: [0 1]\n",
            "TechSupport: [0 1]\n",
            "StreamingTV: [0 1]\n",
            "StreamingMovies: [0 1]\n",
            "PaperlessBilling: [1 0]\n",
            "MonthlyCharges: [0.11542289 0.38507463 0.35422886 ... 0.44626866 0.25820896 0.60149254]\n",
            "TotalCharges: [0.0012751  0.21586661 0.01031041 ... 0.03780868 0.03321025 0.78764136]\n",
            "Churn: [0 1]\n",
            "InternetService_DSL: [1 0]\n",
            "InternetService_Fiber optic: [0 1]\n",
            "InternetService_No: [0 1]\n",
            "Contract_Month-to-month: [1 0]\n",
            "Contract_One year: [0 1]\n",
            "Contract_Two year: [0 1]\n",
            "PaymentMethod_Bank transfer (automatic): [0 1]\n",
            "PaymentMethod_Credit card (automatic): [0 1]\n",
            "PaymentMethod_Electronic check: [1 0]\n",
            "PaymentMethod_Mailed check: [0 1]\n"
          ]
        }
      ]
    },
    {
      "cell_type": "code",
      "source": [
        "# Divide data into independent variables (x) and dependent variable (y)\n",
        "x = df2.drop('Churn', axis = 'columns')\n",
        "y = df2['Churn']"
      ],
      "metadata": {
        "id": "7nAth6IJfRAy"
      },
      "execution_count": 29,
      "outputs": []
    },
    {
      "cell_type": "code",
      "source": [
        "# Split data into training and testing data \n",
        "from sklearn.model_selection import train_test_split\n",
        "x_train, x_test, y_train, y_test = train_test_split(x, y, test_size=0.2, random_state=5)"
      ],
      "metadata": {
        "id": "1KEr-QRIfjKj"
      },
      "execution_count": 30,
      "outputs": []
    },
    {
      "cell_type": "code",
      "source": [
        "# Shape of the training independent variables\n",
        "x_train.shape"
      ],
      "metadata": {
        "colab": {
          "base_uri": "https://localhost:8080/"
        },
        "id": "UzSC6l4Hf4_Q",
        "outputId": "42374b75-61bd-4306-a0e1-b45ffbb6be51"
      },
      "execution_count": 31,
      "outputs": [
        {
          "output_type": "execute_result",
          "data": {
            "text/plain": [
              "(5625, 26)"
            ]
          },
          "metadata": {},
          "execution_count": 31
        }
      ]
    },
    {
      "cell_type": "code",
      "source": [
        "x_test.shape"
      ],
      "metadata": {
        "colab": {
          "base_uri": "https://localhost:8080/"
        },
        "id": "4ygFTbg4gCEN",
        "outputId": "3c04f48a-e44f-4e8f-e751-40642e71098f"
      },
      "execution_count": 32,
      "outputs": [
        {
          "output_type": "execute_result",
          "data": {
            "text/plain": [
              "(1407, 26)"
            ]
          },
          "metadata": {},
          "execution_count": 32
        }
      ]
    },
    {
      "cell_type": "code",
      "source": [
        "# View first 10 rows of the training independent variables\n",
        "x_train[:10]"
      ],
      "metadata": {
        "colab": {
          "base_uri": "https://localhost:8080/",
          "height": 491
        },
        "id": "8Pn0lTA-gEfa",
        "outputId": "61fbced2-f2a1-4516-da77-04b46cf03677"
      },
      "execution_count": 33,
      "outputs": [
        {
          "output_type": "execute_result",
          "data": {
            "text/plain": [
              "      gender  SeniorCitizen  Partner  Dependents    tenure  PhoneService  \\\n",
              "5664       1              1        0           0  0.126761             1   \n",
              "101        1              0        1           1  0.000000             1   \n",
              "2621       0              0        1           0  0.985915             1   \n",
              "392        1              1        0           0  0.014085             1   \n",
              "1327       0              0        1           0  0.816901             1   \n",
              "3607       1              0        0           0  0.169014             1   \n",
              "2773       0              0        1           0  0.323944             0   \n",
              "1936       1              0        1           0  0.704225             1   \n",
              "5387       0              0        0           0  0.042254             0   \n",
              "4331       0              0        0           0  0.985915             1   \n",
              "\n",
              "      MultipleLines  OnlineSecurity  OnlineBackup  DeviceProtection  ...  \\\n",
              "5664              0               0             0                 1  ...   \n",
              "101               0               0             0                 0  ...   \n",
              "2621              0               0             1                 1  ...   \n",
              "392               0               0             0                 0  ...   \n",
              "1327              1               0             0                 1  ...   \n",
              "3607              0               1             0                 0  ...   \n",
              "2773              0               0             0                 1  ...   \n",
              "1936              0               1             1                 0  ...   \n",
              "5387              0               0             0                 0  ...   \n",
              "4331              1               0             0                 0  ...   \n",
              "\n",
              "      InternetService_DSL  InternetService_Fiber optic  InternetService_No  \\\n",
              "5664                    0                            1                   0   \n",
              "101                     0                            0                   1   \n",
              "2621                    1                            0                   0   \n",
              "392                     1                            0                   0   \n",
              "1327                    0                            1                   0   \n",
              "3607                    1                            0                   0   \n",
              "2773                    1                            0                   0   \n",
              "1936                    1                            0                   0   \n",
              "5387                    1                            0                   0   \n",
              "4331                    0                            0                   1   \n",
              "\n",
              "      Contract_Month-to-month  Contract_One year  Contract_Two year  \\\n",
              "5664                        1                  0                  0   \n",
              "101                         1                  0                  0   \n",
              "2621                        0                  0                  1   \n",
              "392                         1                  0                  0   \n",
              "1327                        0                  1                  0   \n",
              "3607                        0                  1                  0   \n",
              "2773                        1                  0                  0   \n",
              "1936                        0                  1                  0   \n",
              "5387                        1                  0                  0   \n",
              "4331                        0                  0                  1   \n",
              "\n",
              "      PaymentMethod_Bank transfer (automatic)  \\\n",
              "5664                                        0   \n",
              "101                                         0   \n",
              "2621                                        0   \n",
              "392                                         0   \n",
              "1327                                        1   \n",
              "3607                                        0   \n",
              "2773                                        0   \n",
              "1936                                        1   \n",
              "5387                                        0   \n",
              "4331                                        1   \n",
              "\n",
              "      PaymentMethod_Credit card (automatic)  PaymentMethod_Electronic check  \\\n",
              "5664                                      1                               0   \n",
              "101                                       0                               1   \n",
              "2621                                      1                               0   \n",
              "392                                       0                               1   \n",
              "1327                                      0                               0   \n",
              "3607                                      0                               0   \n",
              "2773                                      0                               1   \n",
              "1936                                      0                               0   \n",
              "5387                                      0                               1   \n",
              "4331                                      0                               0   \n",
              "\n",
              "      PaymentMethod_Mailed check  \n",
              "5664                           0  \n",
              "101                            0  \n",
              "2621                           0  \n",
              "392                            0  \n",
              "1327                           0  \n",
              "3607                           1  \n",
              "2773                           0  \n",
              "1936                           0  \n",
              "5387                           0  \n",
              "4331                           0  \n",
              "\n",
              "[10 rows x 26 columns]"
            ],
            "text/html": [
              "\n",
              "  <div id=\"df-fbac413f-bf52-4c50-92fd-8c9f30688eca\">\n",
              "    <div class=\"colab-df-container\">\n",
              "      <div>\n",
              "<style scoped>\n",
              "    .dataframe tbody tr th:only-of-type {\n",
              "        vertical-align: middle;\n",
              "    }\n",
              "\n",
              "    .dataframe tbody tr th {\n",
              "        vertical-align: top;\n",
              "    }\n",
              "\n",
              "    .dataframe thead th {\n",
              "        text-align: right;\n",
              "    }\n",
              "</style>\n",
              "<table border=\"1\" class=\"dataframe\">\n",
              "  <thead>\n",
              "    <tr style=\"text-align: right;\">\n",
              "      <th></th>\n",
              "      <th>gender</th>\n",
              "      <th>SeniorCitizen</th>\n",
              "      <th>Partner</th>\n",
              "      <th>Dependents</th>\n",
              "      <th>tenure</th>\n",
              "      <th>PhoneService</th>\n",
              "      <th>MultipleLines</th>\n",
              "      <th>OnlineSecurity</th>\n",
              "      <th>OnlineBackup</th>\n",
              "      <th>DeviceProtection</th>\n",
              "      <th>...</th>\n",
              "      <th>InternetService_DSL</th>\n",
              "      <th>InternetService_Fiber optic</th>\n",
              "      <th>InternetService_No</th>\n",
              "      <th>Contract_Month-to-month</th>\n",
              "      <th>Contract_One year</th>\n",
              "      <th>Contract_Two year</th>\n",
              "      <th>PaymentMethod_Bank transfer (automatic)</th>\n",
              "      <th>PaymentMethod_Credit card (automatic)</th>\n",
              "      <th>PaymentMethod_Electronic check</th>\n",
              "      <th>PaymentMethod_Mailed check</th>\n",
              "    </tr>\n",
              "  </thead>\n",
              "  <tbody>\n",
              "    <tr>\n",
              "      <th>5664</th>\n",
              "      <td>1</td>\n",
              "      <td>1</td>\n",
              "      <td>0</td>\n",
              "      <td>0</td>\n",
              "      <td>0.126761</td>\n",
              "      <td>1</td>\n",
              "      <td>0</td>\n",
              "      <td>0</td>\n",
              "      <td>0</td>\n",
              "      <td>1</td>\n",
              "      <td>...</td>\n",
              "      <td>0</td>\n",
              "      <td>1</td>\n",
              "      <td>0</td>\n",
              "      <td>1</td>\n",
              "      <td>0</td>\n",
              "      <td>0</td>\n",
              "      <td>0</td>\n",
              "      <td>1</td>\n",
              "      <td>0</td>\n",
              "      <td>0</td>\n",
              "    </tr>\n",
              "    <tr>\n",
              "      <th>101</th>\n",
              "      <td>1</td>\n",
              "      <td>0</td>\n",
              "      <td>1</td>\n",
              "      <td>1</td>\n",
              "      <td>0.000000</td>\n",
              "      <td>1</td>\n",
              "      <td>0</td>\n",
              "      <td>0</td>\n",
              "      <td>0</td>\n",
              "      <td>0</td>\n",
              "      <td>...</td>\n",
              "      <td>0</td>\n",
              "      <td>0</td>\n",
              "      <td>1</td>\n",
              "      <td>1</td>\n",
              "      <td>0</td>\n",
              "      <td>0</td>\n",
              "      <td>0</td>\n",
              "      <td>0</td>\n",
              "      <td>1</td>\n",
              "      <td>0</td>\n",
              "    </tr>\n",
              "    <tr>\n",
              "      <th>2621</th>\n",
              "      <td>0</td>\n",
              "      <td>0</td>\n",
              "      <td>1</td>\n",
              "      <td>0</td>\n",
              "      <td>0.985915</td>\n",
              "      <td>1</td>\n",
              "      <td>0</td>\n",
              "      <td>0</td>\n",
              "      <td>1</td>\n",
              "      <td>1</td>\n",
              "      <td>...</td>\n",
              "      <td>1</td>\n",
              "      <td>0</td>\n",
              "      <td>0</td>\n",
              "      <td>0</td>\n",
              "      <td>0</td>\n",
              "      <td>1</td>\n",
              "      <td>0</td>\n",
              "      <td>1</td>\n",
              "      <td>0</td>\n",
              "      <td>0</td>\n",
              "    </tr>\n",
              "    <tr>\n",
              "      <th>392</th>\n",
              "      <td>1</td>\n",
              "      <td>1</td>\n",
              "      <td>0</td>\n",
              "      <td>0</td>\n",
              "      <td>0.014085</td>\n",
              "      <td>1</td>\n",
              "      <td>0</td>\n",
              "      <td>0</td>\n",
              "      <td>0</td>\n",
              "      <td>0</td>\n",
              "      <td>...</td>\n",
              "      <td>1</td>\n",
              "      <td>0</td>\n",
              "      <td>0</td>\n",
              "      <td>1</td>\n",
              "      <td>0</td>\n",
              "      <td>0</td>\n",
              "      <td>0</td>\n",
              "      <td>0</td>\n",
              "      <td>1</td>\n",
              "      <td>0</td>\n",
              "    </tr>\n",
              "    <tr>\n",
              "      <th>1327</th>\n",
              "      <td>0</td>\n",
              "      <td>0</td>\n",
              "      <td>1</td>\n",
              "      <td>0</td>\n",
              "      <td>0.816901</td>\n",
              "      <td>1</td>\n",
              "      <td>1</td>\n",
              "      <td>0</td>\n",
              "      <td>0</td>\n",
              "      <td>1</td>\n",
              "      <td>...</td>\n",
              "      <td>0</td>\n",
              "      <td>1</td>\n",
              "      <td>0</td>\n",
              "      <td>0</td>\n",
              "      <td>1</td>\n",
              "      <td>0</td>\n",
              "      <td>1</td>\n",
              "      <td>0</td>\n",
              "      <td>0</td>\n",
              "      <td>0</td>\n",
              "    </tr>\n",
              "    <tr>\n",
              "      <th>3607</th>\n",
              "      <td>1</td>\n",
              "      <td>0</td>\n",
              "      <td>0</td>\n",
              "      <td>0</td>\n",
              "      <td>0.169014</td>\n",
              "      <td>1</td>\n",
              "      <td>0</td>\n",
              "      <td>1</td>\n",
              "      <td>0</td>\n",
              "      <td>0</td>\n",
              "      <td>...</td>\n",
              "      <td>1</td>\n",
              "      <td>0</td>\n",
              "      <td>0</td>\n",
              "      <td>0</td>\n",
              "      <td>1</td>\n",
              "      <td>0</td>\n",
              "      <td>0</td>\n",
              "      <td>0</td>\n",
              "      <td>0</td>\n",
              "      <td>1</td>\n",
              "    </tr>\n",
              "    <tr>\n",
              "      <th>2773</th>\n",
              "      <td>0</td>\n",
              "      <td>0</td>\n",
              "      <td>1</td>\n",
              "      <td>0</td>\n",
              "      <td>0.323944</td>\n",
              "      <td>0</td>\n",
              "      <td>0</td>\n",
              "      <td>0</td>\n",
              "      <td>0</td>\n",
              "      <td>1</td>\n",
              "      <td>...</td>\n",
              "      <td>1</td>\n",
              "      <td>0</td>\n",
              "      <td>0</td>\n",
              "      <td>1</td>\n",
              "      <td>0</td>\n",
              "      <td>0</td>\n",
              "      <td>0</td>\n",
              "      <td>0</td>\n",
              "      <td>1</td>\n",
              "      <td>0</td>\n",
              "    </tr>\n",
              "    <tr>\n",
              "      <th>1936</th>\n",
              "      <td>1</td>\n",
              "      <td>0</td>\n",
              "      <td>1</td>\n",
              "      <td>0</td>\n",
              "      <td>0.704225</td>\n",
              "      <td>1</td>\n",
              "      <td>0</td>\n",
              "      <td>1</td>\n",
              "      <td>1</td>\n",
              "      <td>0</td>\n",
              "      <td>...</td>\n",
              "      <td>1</td>\n",
              "      <td>0</td>\n",
              "      <td>0</td>\n",
              "      <td>0</td>\n",
              "      <td>1</td>\n",
              "      <td>0</td>\n",
              "      <td>1</td>\n",
              "      <td>0</td>\n",
              "      <td>0</td>\n",
              "      <td>0</td>\n",
              "    </tr>\n",
              "    <tr>\n",
              "      <th>5387</th>\n",
              "      <td>0</td>\n",
              "      <td>0</td>\n",
              "      <td>0</td>\n",
              "      <td>0</td>\n",
              "      <td>0.042254</td>\n",
              "      <td>0</td>\n",
              "      <td>0</td>\n",
              "      <td>0</td>\n",
              "      <td>0</td>\n",
              "      <td>0</td>\n",
              "      <td>...</td>\n",
              "      <td>1</td>\n",
              "      <td>0</td>\n",
              "      <td>0</td>\n",
              "      <td>1</td>\n",
              "      <td>0</td>\n",
              "      <td>0</td>\n",
              "      <td>0</td>\n",
              "      <td>0</td>\n",
              "      <td>1</td>\n",
              "      <td>0</td>\n",
              "    </tr>\n",
              "    <tr>\n",
              "      <th>4331</th>\n",
              "      <td>0</td>\n",
              "      <td>0</td>\n",
              "      <td>0</td>\n",
              "      <td>0</td>\n",
              "      <td>0.985915</td>\n",
              "      <td>1</td>\n",
              "      <td>1</td>\n",
              "      <td>0</td>\n",
              "      <td>0</td>\n",
              "      <td>0</td>\n",
              "      <td>...</td>\n",
              "      <td>0</td>\n",
              "      <td>0</td>\n",
              "      <td>1</td>\n",
              "      <td>0</td>\n",
              "      <td>0</td>\n",
              "      <td>1</td>\n",
              "      <td>1</td>\n",
              "      <td>0</td>\n",
              "      <td>0</td>\n",
              "      <td>0</td>\n",
              "    </tr>\n",
              "  </tbody>\n",
              "</table>\n",
              "<p>10 rows × 26 columns</p>\n",
              "</div>\n",
              "      <button class=\"colab-df-convert\" onclick=\"convertToInteractive('df-fbac413f-bf52-4c50-92fd-8c9f30688eca')\"\n",
              "              title=\"Convert this dataframe to an interactive table.\"\n",
              "              style=\"display:none;\">\n",
              "        \n",
              "  <svg xmlns=\"http://www.w3.org/2000/svg\" height=\"24px\"viewBox=\"0 0 24 24\"\n",
              "       width=\"24px\">\n",
              "    <path d=\"M0 0h24v24H0V0z\" fill=\"none\"/>\n",
              "    <path d=\"M18.56 5.44l.94 2.06.94-2.06 2.06-.94-2.06-.94-.94-2.06-.94 2.06-2.06.94zm-11 1L8.5 8.5l.94-2.06 2.06-.94-2.06-.94L8.5 2.5l-.94 2.06-2.06.94zm10 10l.94 2.06.94-2.06 2.06-.94-2.06-.94-.94-2.06-.94 2.06-2.06.94z\"/><path d=\"M17.41 7.96l-1.37-1.37c-.4-.4-.92-.59-1.43-.59-.52 0-1.04.2-1.43.59L10.3 9.45l-7.72 7.72c-.78.78-.78 2.05 0 2.83L4 21.41c.39.39.9.59 1.41.59.51 0 1.02-.2 1.41-.59l7.78-7.78 2.81-2.81c.8-.78.8-2.07 0-2.86zM5.41 20L4 18.59l7.72-7.72 1.47 1.35L5.41 20z\"/>\n",
              "  </svg>\n",
              "      </button>\n",
              "      \n",
              "  <style>\n",
              "    .colab-df-container {\n",
              "      display:flex;\n",
              "      flex-wrap:wrap;\n",
              "      gap: 12px;\n",
              "    }\n",
              "\n",
              "    .colab-df-convert {\n",
              "      background-color: #E8F0FE;\n",
              "      border: none;\n",
              "      border-radius: 50%;\n",
              "      cursor: pointer;\n",
              "      display: none;\n",
              "      fill: #1967D2;\n",
              "      height: 32px;\n",
              "      padding: 0 0 0 0;\n",
              "      width: 32px;\n",
              "    }\n",
              "\n",
              "    .colab-df-convert:hover {\n",
              "      background-color: #E2EBFA;\n",
              "      box-shadow: 0px 1px 2px rgba(60, 64, 67, 0.3), 0px 1px 3px 1px rgba(60, 64, 67, 0.15);\n",
              "      fill: #174EA6;\n",
              "    }\n",
              "\n",
              "    [theme=dark] .colab-df-convert {\n",
              "      background-color: #3B4455;\n",
              "      fill: #D2E3FC;\n",
              "    }\n",
              "\n",
              "    [theme=dark] .colab-df-convert:hover {\n",
              "      background-color: #434B5C;\n",
              "      box-shadow: 0px 1px 3px 1px rgba(0, 0, 0, 0.15);\n",
              "      filter: drop-shadow(0px 1px 2px rgba(0, 0, 0, 0.3));\n",
              "      fill: #FFFFFF;\n",
              "    }\n",
              "  </style>\n",
              "\n",
              "      <script>\n",
              "        const buttonEl =\n",
              "          document.querySelector('#df-fbac413f-bf52-4c50-92fd-8c9f30688eca button.colab-df-convert');\n",
              "        buttonEl.style.display =\n",
              "          google.colab.kernel.accessAllowed ? 'block' : 'none';\n",
              "\n",
              "        async function convertToInteractive(key) {\n",
              "          const element = document.querySelector('#df-fbac413f-bf52-4c50-92fd-8c9f30688eca');\n",
              "          const dataTable =\n",
              "            await google.colab.kernel.invokeFunction('convertToInteractive',\n",
              "                                                     [key], {});\n",
              "          if (!dataTable) return;\n",
              "\n",
              "          const docLinkHtml = 'Like what you see? Visit the ' +\n",
              "            '<a target=\"_blank\" href=https://colab.research.google.com/notebooks/data_table.ipynb>data table notebook</a>'\n",
              "            + ' to learn more about interactive tables.';\n",
              "          element.innerHTML = '';\n",
              "          dataTable['output_type'] = 'display_data';\n",
              "          await google.colab.output.renderOutput(dataTable, element);\n",
              "          const docLink = document.createElement('div');\n",
              "          docLink.innerHTML = docLinkHtml;\n",
              "          element.appendChild(docLink);\n",
              "        }\n",
              "      </script>\n",
              "    </div>\n",
              "  </div>\n",
              "  "
            ]
          },
          "metadata": {},
          "execution_count": 33
        }
      ]
    },
    {
      "cell_type": "markdown",
      "source": [
        "Now the data preparation is completed, we can build, complie, and fit the neural network.\n",
        "\n",
        "We will build a three layer neural network. \n",
        "\n",
        "- In first layer, number of neurons are set to 26, because the number of input features are 26\n",
        "- Number of neurons in the second layer is set to 20 (no special reason, should be determined through trial and error). Activation function is set to relu, because generally it performs better than other activation functions\n",
        "\n",
        "- Output layer has only one neuron and sigmoid activation function is applied, since this is a binary classification\n",
        "\n",
        "- Adam optimizer is used to let the gradient descent adapt its magnitude based on first and second moments (mean and variance) of gradient of the loss function\n",
        "\n",
        "- Bianry cross entropy is used as the loss function ,because this is a classsificaiton problem\n",
        "\n",
        "- Accuracy is used as the metric to evaluate the model after each epoch \n",
        "\n",
        "Only 5 epochs are used because this is to explore how to work with imbalance data."
      ],
      "metadata": {
        "id": "OcK0k8SQZd-o"
      }
    },
    {
      "cell_type": "code",
      "source": [
        "# Build, compile, and fit the model\n",
        "model = keras.Sequential([\n",
        "    keras.layers.Dense(20, input_shape= (26,), activation = 'relu'),\n",
        "    keras.layers.Dense(1, activation = 'sigmoid')\n",
        "])\n",
        "\n",
        "model.compile(optimizer='adam',\n",
        "              loss='binary_crossentropy',\n",
        "              metrics= ['accuracy'])\n",
        "\n",
        "model.fit(x_train, y_train, epochs= 5)"
      ],
      "metadata": {
        "colab": {
          "base_uri": "https://localhost:8080/"
        },
        "id": "9cOqMTL5hond",
        "outputId": "ee732222-cd95-479f-d8e8-283d29b00842"
      },
      "execution_count": 34,
      "outputs": [
        {
          "output_type": "stream",
          "name": "stdout",
          "text": [
            "Epoch 1/5\n",
            "176/176 [==============================] - 6s 4ms/step - loss: 0.5421 - accuracy: 0.7221\n",
            "Epoch 2/5\n",
            "176/176 [==============================] - 1s 4ms/step - loss: 0.4426 - accuracy: 0.7852\n",
            "Epoch 3/5\n",
            "176/176 [==============================] - 1s 4ms/step - loss: 0.4257 - accuracy: 0.7963\n",
            "Epoch 4/5\n",
            "176/176 [==============================] - 1s 4ms/step - loss: 0.4198 - accuracy: 0.8014\n",
            "Epoch 5/5\n",
            "176/176 [==============================] - 1s 3ms/step - loss: 0.4172 - accuracy: 0.8028\n"
          ]
        },
        {
          "output_type": "execute_result",
          "data": {
            "text/plain": [
              "<keras.callbacks.History at 0x7fbcd0830520>"
            ]
          },
          "metadata": {},
          "execution_count": 34
        }
      ]
    },
    {
      "cell_type": "code",
      "source": [
        "# Evaluate the model using test data\n",
        "model.evaluate(x_test, y_test)"
      ],
      "metadata": {
        "colab": {
          "base_uri": "https://localhost:8080/"
        },
        "id": "QnmeJIgyjkzt",
        "outputId": "4a4fa6ac-8223-4715-ae31-760a93400fbd"
      },
      "execution_count": 35,
      "outputs": [
        {
          "output_type": "stream",
          "name": "stdout",
          "text": [
            "44/44 [==============================] - 0s 2ms/step - loss: 0.4433 - accuracy: 0.7918\n"
          ]
        },
        {
          "output_type": "execute_result",
          "data": {
            "text/plain": [
              "[0.4433242082595825, 0.7917554974555969]"
            ]
          },
          "metadata": {},
          "execution_count": 35
        }
      ]
    },
    {
      "cell_type": "markdown",
      "source": [
        "The model resulted in accuracy of 0.80 with training and 0.79 accuracy with testing data. Therefore the model is generalized well with training and testing data."
      ],
      "metadata": {
        "id": "tw-gduGyOJyJ"
      }
    },
    {
      "cell_type": "code",
      "source": [
        "# Predict first 10 entries of testing data using the model \n",
        "y_predict = model.predict(x_test)\n",
        "y_predict[:10]"
      ],
      "metadata": {
        "colab": {
          "base_uri": "https://localhost:8080/"
        },
        "id": "A6YecYXCjv-B",
        "outputId": "face3bc9-fbff-48e0-876d-82dbc1388c7e"
      },
      "execution_count": 36,
      "outputs": [
        {
          "output_type": "stream",
          "name": "stdout",
          "text": [
            "44/44 [==============================] - 0s 1ms/step\n"
          ]
        },
        {
          "output_type": "execute_result",
          "data": {
            "text/plain": [
              "array([[0.17129607],\n",
              "       [0.36403623],\n",
              "       [0.0160627 ],\n",
              "       [0.7261209 ],\n",
              "       [0.42055246],\n",
              "       [0.56964743],\n",
              "       [0.11502039],\n",
              "       [0.69732773],\n",
              "       [0.5465704 ],\n",
              "       [0.17081848]], dtype=float32)"
            ]
          },
          "metadata": {},
          "execution_count": 36
        }
      ]
    },
    {
      "cell_type": "code",
      "source": [
        "# Expected values for first 10 entries of testing data\n",
        "y_test[:10]"
      ],
      "metadata": {
        "colab": {
          "base_uri": "https://localhost:8080/"
        },
        "id": "rwrqmj34kE6F",
        "outputId": "123211d7-3253-4456-f9db-7d5379d61a51"
      },
      "execution_count": 37,
      "outputs": [
        {
          "output_type": "execute_result",
          "data": {
            "text/plain": [
              "2660    0\n",
              "744     0\n",
              "5579    1\n",
              "64      1\n",
              "3287    1\n",
              "816     1\n",
              "2670    0\n",
              "5920    0\n",
              "1023    0\n",
              "6087    0\n",
              "Name: Churn, dtype: int64"
            ]
          },
          "metadata": {},
          "execution_count": 37
        }
      ]
    },
    {
      "cell_type": "markdown",
      "source": [
        "The model returned the predictions as float numbers between 0 and 1, the predicted values should be rounded to the nearest integer to compare with the actual values.  "
      ],
      "metadata": {
        "id": "NGV5bxMFPoIu"
      }
    },
    {
      "cell_type": "code",
      "source": [
        "# Function to round prediction outputs \n",
        "y_predict_round = []\n",
        "\n",
        "for element in y_predict:\n",
        "  if element > 0.5:\n",
        "    y_predict_round.append(1)\n",
        "  else:\n",
        "    y_predict_round.append(0)"
      ],
      "metadata": {
        "id": "BEIqCjgAkK_G"
      },
      "execution_count": 38,
      "outputs": []
    },
    {
      "cell_type": "code",
      "source": [
        "# Apply function to the prediction output\n",
        "y_predict_round[:10]"
      ],
      "metadata": {
        "colab": {
          "base_uri": "https://localhost:8080/"
        },
        "id": "iCXLc_CNkkvS",
        "outputId": "99bf0660-5fe0-413b-e557-771508c8fcd8"
      },
      "execution_count": 39,
      "outputs": [
        {
          "output_type": "execute_result",
          "data": {
            "text/plain": [
              "[0, 0, 0, 1, 0, 1, 0, 1, 1, 0]"
            ]
          },
          "metadata": {},
          "execution_count": 39
        }
      ]
    },
    {
      "cell_type": "markdown",
      "source": [
        "Here is the comparison between actual and predcited values. \n",
        "\n",
        "    actual    : [0, 0, 1, 1, 1, 1, 0, 0, 0, 0]\n",
        "    predicted : [0, 0, 0, 1, 0, 1, 0, 1, 1, 0]\n",
        "\n",
        "6 values out of 10 matches between actual and predicted values. To understand this better, let's create a confusion matrix and classification report."
      ],
      "metadata": {
        "id": "_xvGTo8gS9Ng"
      }
    },
    {
      "cell_type": "code",
      "source": [
        "from sklearn.metrics import confusion_matrix, classification_report\n",
        "\n",
        "# Classification report\n",
        "print(classification_report(y_test, y_predict_round))"
      ],
      "metadata": {
        "colab": {
          "base_uri": "https://localhost:8080/"
        },
        "id": "kfDvdWE4lNd1",
        "outputId": "301bbee2-872f-4119-c084-198d49aa1bf0"
      },
      "execution_count": 40,
      "outputs": [
        {
          "output_type": "stream",
          "name": "stdout",
          "text": [
            "              precision    recall  f1-score   support\n",
            "\n",
            "           0       0.83      0.89      0.86       999\n",
            "           1       0.67      0.56      0.61       408\n",
            "\n",
            "    accuracy                           0.79      1407\n",
            "   macro avg       0.75      0.72      0.73      1407\n",
            "weighted avg       0.78      0.79      0.79      1407\n",
            "\n"
          ]
        }
      ]
    },
    {
      "cell_type": "markdown",
      "source": [
        "We can see multiple measures about the model performance in the classification report. The model predicts pretty well, which is implied by the model accuracy of 0.79. we can improve this though. One more point to emphasize: F1 score for class 0 is 0.86 while the same measure for class 1 is 0.61. This can be due to the data imbalance. Model has learned well from the majority class, and less from the minority class. So one or both false positive and false negative rates are high for classs 1 (low precision and low recall). \n",
        "\n",
        "After a couple of steps, other measures will be explained. Let's breakdown the model performance into a finer level by plotting a confusion matrix."
      ],
      "metadata": {
        "id": "O-JNNQhtLYKj"
      }
    },
    {
      "cell_type": "code",
      "source": [
        "# Confusion matrix\n",
        "import seaborn as sns\n",
        "cm = tf.math.confusion_matrix(labels=y_test, predictions=y_predict_round)\n",
        "\n",
        "plt.figure(figsize =(10, 7))\n",
        "sns.heatmap(cm, annot=True, fmt='d')\n",
        "plt.xlabel('Predicted')\n",
        "plt.ylabel('Truth')"
      ],
      "metadata": {
        "colab": {
          "base_uri": "https://localhost:8080/",
          "height": 459
        },
        "id": "Dzpou0rblw1z",
        "outputId": "748dab14-4bef-41c2-e5fb-26fc155772ce"
      },
      "execution_count": 41,
      "outputs": [
        {
          "output_type": "execute_result",
          "data": {
            "text/plain": [
              "Text(69.0, 0.5, 'Truth')"
            ]
          },
          "metadata": {},
          "execution_count": 41
        },
        {
          "output_type": "display_data",
          "data": {
            "text/plain": [
              "<Figure size 720x504 with 2 Axes>"
            ],
            "image/png": "[encoded data removed]"
          },
          "metadata": {
            "needs_background": "light"
          }
        }
      ]
    },
    {
      "cell_type": "markdown",
      "source": [
        "Anything in the diagonal is correctly predicted. Anything out of the diagonal are incorrectly predicted.\n",
        "\n",
        "Accuracy is often the base measure of model performance. It describes the correct predictions of a model compared to all predictions as a ratio."
      ],
      "metadata": {
        "id": "Yp6WVLxJnx3K"
      }
    },
    {
      "cell_type": "code",
      "source": [
        "# Accuracy\n",
        "round((886+227)/(886+113+181+227), 2)"
      ],
      "metadata": {
        "colab": {
          "base_uri": "https://localhost:8080/"
        },
        "id": "K9wHSQQdn-vD",
        "outputId": "f5a19f34-7b79-4aa2-966f-28446c71606c"
      },
      "execution_count": 42,
      "outputs": [
        {
          "output_type": "execute_result",
          "data": {
            "text/plain": [
              "0.79"
            ]
          },
          "metadata": {},
          "execution_count": 42
        }
      ]
    },
    {
      "cell_type": "markdown",
      "source": [
        "Precision goes one level deeper from Accuracy. It is a measure of how may positive predictions are correct out of all the data points predicted as positive."
      ],
      "metadata": {
        "id": "bAKMae3eOXJF"
      }
    },
    {
      "cell_type": "code",
      "source": [
        "# Precision for class 0\n",
        "precision_0 = round(886/(886+181), 2)"
      ],
      "metadata": {
        "id": "gMWTqCs7ot3C"
      },
      "execution_count": 43,
      "outputs": []
    },
    {
      "cell_type": "code",
      "source": [
        "# Precision for class 1\n",
        "round(227/(227+113), 2)"
      ],
      "metadata": {
        "colab": {
          "base_uri": "https://localhost:8080/"
        },
        "id": "vMetSZ2Yo3TG",
        "outputId": "b1dbf01f-a186-4dd9-bdde-7385a2e287d7"
      },
      "execution_count": 44,
      "outputs": [
        {
          "output_type": "execute_result",
          "data": {
            "text/plain": [
              "0.67"
            ]
          },
          "metadata": {},
          "execution_count": 44
        }
      ]
    },
    {
      "cell_type": "markdown",
      "source": [
        "Recall describes how many of the correctly classified positive data points are compared to true positive data points. "
      ],
      "metadata": {
        "id": "K7mEt7ogO1Ah"
      }
    },
    {
      "cell_type": "code",
      "source": [
        "# Recall for class 0\n",
        "recall_0 = round(886/(886+113),2)"
      ],
      "metadata": {
        "id": "dPofvE3BpIrC"
      },
      "execution_count": 45,
      "outputs": []
    },
    {
      "cell_type": "markdown",
      "source": [
        "F1 combines both precision and recall. It describes harmonic mean of precision and recall. This represents a single weighted metric of both. If F1 value is high in a model, that indicate both accuracy and precision are high (low false positive and low false negative). "
      ],
      "metadata": {
        "id": "f2XOSDsYPTJJ"
      }
    },
    {
      "cell_type": "code",
      "source": [
        "# F1 score for class 0\n",
        "2*((precision_0*recall_0) / (precision_0 +recall_0))"
      ],
      "metadata": {
        "colab": {
          "base_uri": "https://localhost:8080/"
        },
        "id": "F0xOt1vupq1H",
        "outputId": "45bd4fc9-93a5-4a1b-8ad5-28c21e6c2a60"
      },
      "execution_count": 46,
      "outputs": [
        {
          "output_type": "execute_result",
          "data": {
            "text/plain": [
              "0.8589534883720931"
            ]
          },
          "metadata": {},
          "execution_count": 46
        }
      ]
    },
    {
      "cell_type": "markdown",
      "source": [
        "#### **Fix for data imbalance**\n",
        "There are multiple techniques to handle imbalanced datasets. We will have a look at a couple of data level approaches. There are [other levels](https://www.researchgate.net/publication/263913891_Classification_of_imbalanced_data_a_review) that we can address data imbalance such as algorithm-level, cost-sensitive, and boosting approaches. \n",
        "\n",
        "Each technique has its own advantages and disadvantages, therefore selecting a method is specific for the problem. Let's look at 5 methods. "
      ],
      "metadata": {
        "id": "fHbJqCG7vX6Q"
      }
    },
    {
      "cell_type": "markdown",
      "source": [
        "1. **Undersampling majority class** \n",
        "\n",
        "We are throwing aways so much of data with this approach and we will not be able to capture a singificant amount of variance of the majority class.\n",
        "2. **Oversample the minority class**\n",
        "\n",
        "We can duplicate the samples of the existing minority class. There will not be any new samples generated, but it changes the choices could be available for resampling the class.\n",
        "3. **Oversample monority class using SMOTE**\n",
        "\n",
        "We produce synthetic samples of the monority class using k-nearest neighbor method and make the number of samples equal to the majority class. We have the autonomy over selecting the oversampling strategy. Basically SMOTE selects two data points in the featues space and generates new data point lies on the line that connects the two data points.\n",
        "4. **Ensemble method**\n",
        "\n",
        "We take batches from both classes and perform multiple classifications, then get the majority vote to classify the input into classes.\n",
        "5. **Focal loss**\n",
        "\n",
        "Penalize the majority class and give more weight to the minority class to get similar effects from both classes to the model.\n",
        "\n",
        "\n",
        "We will explore the first four methods above."
      ],
      "metadata": {
        "id": "Xjrtds7vJ1yK"
      }
    },
    {
      "cell_type": "code",
      "source": [
        "# Class counts\n",
        "count_class_0, count_class_1 = df1.Churn.value_counts()\n",
        "\n",
        "# Divide by class \n",
        "df_class_0 = df2[df2['Churn'] == 0]\n",
        "df_class_1= df2[df2['Churn'] == 1]"
      ],
      "metadata": {
        "id": "Zoe-jwsnvVtC"
      },
      "execution_count": 47,
      "outputs": []
    },
    {
      "cell_type": "code",
      "source": [
        "# Count the data points in classes\n",
        "count_class_0, count_class_1"
      ],
      "metadata": {
        "colab": {
          "base_uri": "https://localhost:8080/"
        },
        "id": "oDpRf3Nd-wj8",
        "outputId": "e26b66ec-5808-4fdc-8306-2e6ded8ffb36"
      },
      "execution_count": 48,
      "outputs": [
        {
          "output_type": "execute_result",
          "data": {
            "text/plain": [
              "(5163, 1869)"
            ]
          },
          "metadata": {},
          "execution_count": 48
        }
      ]
    },
    {
      "cell_type": "code",
      "source": [
        "# Shapes of data in both classes\n",
        "df_class_0.shape, df_class_1.shape "
      ],
      "metadata": {
        "colab": {
          "base_uri": "https://localhost:8080/"
        },
        "id": "cT4l3hgawGex",
        "outputId": "460e7e45-3fe1-4ccd-8936-8eb1a71a8bcb"
      },
      "execution_count": 49,
      "outputs": [
        {
          "output_type": "execute_result",
          "data": {
            "text/plain": [
              "((5163, 27), (1869, 27))"
            ]
          },
          "metadata": {},
          "execution_count": 49
        }
      ]
    },
    {
      "cell_type": "markdown",
      "source": [
        "Class 1 has significantly less number of samples. Let's undersample the class 0."
      ],
      "metadata": {
        "id": "RXHo_LzPwU41"
      }
    },
    {
      "cell_type": "code",
      "source": [
        "# Undersample class 0 to match the number of data points in class 0 using pandas sample function\n",
        "df_class_0_under = df_class_0.sample(count_class_1)\n",
        "\n",
        "df_test_under = pd.concat([df_class_0_under, df_class_1], axis = 0)"
      ],
      "metadata": {
        "id": "XArSFEtcwQWq"
      },
      "execution_count": 50,
      "outputs": []
    },
    {
      "cell_type": "code",
      "source": [
        "# Count the data points in classes\n",
        "df_test_under.Churn.value_counts()"
      ],
      "metadata": {
        "colab": {
          "base_uri": "https://localhost:8080/"
        },
        "id": "9IdUEYnewuIG",
        "outputId": "38b0718f-6eb9-46c4-ae0c-7dd9a9d55bd6"
      },
      "execution_count": 51,
      "outputs": [
        {
          "output_type": "execute_result",
          "data": {
            "text/plain": [
              "0    1869\n",
              "1    1869\n",
              "Name: Churn, dtype: int64"
            ]
          },
          "metadata": {},
          "execution_count": 51
        }
      ]
    },
    {
      "cell_type": "code",
      "source": [
        "# Separate independent, depandent variables and divded train and test samples\n",
        "x = df_test_under.drop('Churn',axis= 'columns')\n",
        "y = df_test_under['Churn']\n",
        "\n",
        "from sklearn.model_selection import train_test_split\n",
        "x_train, x_test, y_train, y_test = train_test_split(x, y, test_size=0.2, random_state=15, stratify=y) "
      ],
      "metadata": {
        "id": "AIkWBXFWxcEe"
      },
      "execution_count": 52,
      "outputs": []
    },
    {
      "cell_type": "markdown",
      "source": [
        "y_train consists of equal numbers of samples from both classes because of the 'stratify' argument used during the train test split."
      ],
      "metadata": {
        "id": "g9jir04mynpV"
      }
    },
    {
      "cell_type": "code",
      "source": [
        "y_train.value_counts()"
      ],
      "metadata": {
        "colab": {
          "base_uri": "https://localhost:8080/"
        },
        "id": "haUAZy3EyYxz",
        "outputId": "d1189a46-f9ea-46fa-bcdc-96165e691a6a"
      },
      "execution_count": 53,
      "outputs": [
        {
          "output_type": "execute_result",
          "data": {
            "text/plain": [
              "0    1495\n",
              "1    1495\n",
              "Name: Churn, dtype: int64"
            ]
          },
          "metadata": {},
          "execution_count": 53
        }
      ]
    },
    {
      "cell_type": "code",
      "source": [
        "y_train.shape, y_test.shape"
      ],
      "metadata": {
        "colab": {
          "base_uri": "https://localhost:8080/"
        },
        "id": "hwN4syhh18Xr",
        "outputId": "cae20027-f6d4-4f01-a5ed-55398026f010"
      },
      "execution_count": 54,
      "outputs": [
        {
          "output_type": "execute_result",
          "data": {
            "text/plain": [
              "((2990,), (748,))"
            ]
          },
          "metadata": {},
          "execution_count": 54
        }
      ]
    },
    {
      "cell_type": "code",
      "source": [
        "x_train.shape, x_test.shape"
      ],
      "metadata": {
        "colab": {
          "base_uri": "https://localhost:8080/"
        },
        "id": "mEAZFULz1sng",
        "outputId": "1a74dc9f-1db6-400b-833d-df96464af6e4"
      },
      "execution_count": 55,
      "outputs": [
        {
          "output_type": "execute_result",
          "data": {
            "text/plain": [
              "((2990, 26), (748, 26))"
            ]
          },
          "metadata": {},
          "execution_count": 55
        }
      ]
    },
    {
      "cell_type": "markdown",
      "source": [
        "Build a neural network function that can take the class weights into account during training, and returns prediction output, training and evaluation results, and classification report. A parameter called 'weight' is added to represent the class weight."
      ],
      "metadata": {
        "id": "i1gZ_8MZTiPw"
      }
    },
    {
      "cell_type": "code",
      "source": [
        "def ANN(x_train, y_train, x_test, y_test, loss, weights):\n",
        "  model = keras.Sequential([\n",
        "    keras.layers.Dense(26, input_dim= 26, activation = 'relu'),\n",
        "    keras.layers.Dense(15, activation = 'relu'),\n",
        "    keras.layers.Dense(1, activation = 'sigmoid')\n",
        "      ])\n",
        "\n",
        "  model.compile(optimizer='adam',\n",
        "              loss=loss,\n",
        "              metrics= ['accuracy'])\n",
        "  # If class weight is -1, do not consider that parameter during model training\n",
        "  if weights == -1:\n",
        "    model.fit(x_train, y_train, epochs= 100)\n",
        "  else:\n",
        "    model.fit(x_train, y_train, epochs = 100, class_weight= weights)\n",
        "\n",
        "  print(model.evaluate(x_test, y_test))\n",
        "\n",
        "  y_pred = model.predict(x_test)\n",
        "  y_pred = np.round(y_pred)\n",
        "\n",
        "  print(\"Classification report: \\n\", classification_report(y_test, y_pred))\n",
        "\n",
        "  return y_pred"
      ],
      "metadata": {
        "id": "4TbJqFIVyipj"
      },
      "execution_count": 56,
      "outputs": []
    },
    {
      "cell_type": "code",
      "source": [
        "y_preds = ANN(x_train, y_train, x_test, y_test, 'binary_crossentropy', -1)"
      ],
      "metadata": {
        "colab": {
          "base_uri": "https://localhost:8080/"
        },
        "id": "GkXRobg30UWh",
        "outputId": "a419ee50-3caa-438e-f34e-ba560126e03b"
      },
      "execution_count": 57,
      "outputs": [
        {
          "output_type": "stream",
          "name": "stdout",
          "text": [
            "Epoch 1/100\n",
            "94/94 [==============================] - 2s 3ms/step - loss: 0.6532 - accuracy: 0.6050\n",
            "Epoch 2/100\n",
            "94/94 [==============================] - 0s 3ms/step - loss: 0.5434 - accuracy: 0.7478\n",
            "Epoch 3/100\n",
            "94/94 [==============================] - 0s 3ms/step - loss: 0.5079 - accuracy: 0.7565\n",
            "Epoch 4/100\n",
            "94/94 [==============================] - 0s 3ms/step - loss: 0.4955 - accuracy: 0.7652\n",
            "Epoch 5/100\n",
            "94/94 [==============================] - 0s 3ms/step - loss: 0.4888 - accuracy: 0.7662\n",
            "Epoch 6/100\n",
            "94/94 [==============================] - 0s 3ms/step - loss: 0.4854 - accuracy: 0.7669\n",
            "Epoch 7/100\n",
            "94/94 [==============================] - 0s 3ms/step - loss: 0.4820 - accuracy: 0.7652\n",
            "Epoch 8/100\n",
            "94/94 [==============================] - 0s 3ms/step - loss: 0.4792 - accuracy: 0.7652\n",
            "Epoch 9/100\n",
            "94/94 [==============================] - 0s 3ms/step - loss: 0.4784 - accuracy: 0.7736\n",
            "Epoch 10/100\n",
            "94/94 [==============================] - 0s 3ms/step - loss: 0.4760 - accuracy: 0.7759\n",
            "Epoch 11/100\n",
            "94/94 [==============================] - 0s 3ms/step - loss: 0.4751 - accuracy: 0.7742\n",
            "Epoch 12/100\n",
            "94/94 [==============================] - 0s 3ms/step - loss: 0.4726 - accuracy: 0.7732\n",
            "Epoch 13/100\n",
            "94/94 [==============================] - 0s 3ms/step - loss: 0.4711 - accuracy: 0.7736\n",
            "Epoch 14/100\n",
            "94/94 [==============================] - 0s 3ms/step - loss: 0.4699 - accuracy: 0.7783\n",
            "Epoch 15/100\n",
            "94/94 [==============================] - 0s 3ms/step - loss: 0.4682 - accuracy: 0.7776\n",
            "Epoch 16/100\n",
            "94/94 [==============================] - 0s 4ms/step - loss: 0.4673 - accuracy: 0.7816\n",
            "Epoch 17/100\n",
            "94/94 [==============================] - 0s 4ms/step - loss: 0.4660 - accuracy: 0.7796\n",
            "Epoch 18/100\n",
            "94/94 [==============================] - 0s 5ms/step - loss: 0.4629 - accuracy: 0.7816\n",
            "Epoch 19/100\n",
            "94/94 [==============================] - 0s 4ms/step - loss: 0.4625 - accuracy: 0.7826\n",
            "Epoch 20/100\n",
            "94/94 [==============================] - 0s 4ms/step - loss: 0.4628 - accuracy: 0.7816\n",
            "Epoch 21/100\n",
            "94/94 [==============================] - 0s 5ms/step - loss: 0.4621 - accuracy: 0.7833\n",
            "Epoch 22/100\n",
            "94/94 [==============================] - 0s 5ms/step - loss: 0.4587 - accuracy: 0.7803\n",
            "Epoch 23/100\n",
            "94/94 [==============================] - 0s 4ms/step - loss: 0.4574 - accuracy: 0.7860\n",
            "Epoch 24/100\n",
            "94/94 [==============================] - 0s 5ms/step - loss: 0.4563 - accuracy: 0.7883\n",
            "Epoch 25/100\n",
            "94/94 [==============================] - 0s 3ms/step - loss: 0.4545 - accuracy: 0.7853\n",
            "Epoch 26/100\n",
            "94/94 [==============================] - 0s 3ms/step - loss: 0.4537 - accuracy: 0.7839\n",
            "Epoch 27/100\n",
            "94/94 [==============================] - 0s 3ms/step - loss: 0.4520 - accuracy: 0.7903\n",
            "Epoch 28/100\n",
            "94/94 [==============================] - 0s 3ms/step - loss: 0.4506 - accuracy: 0.7873\n",
            "Epoch 29/100\n",
            "94/94 [==============================] - 0s 3ms/step - loss: 0.4494 - accuracy: 0.7896\n",
            "Epoch 30/100\n",
            "94/94 [==============================] - 0s 3ms/step - loss: 0.4496 - accuracy: 0.7870\n",
            "Epoch 31/100\n",
            "94/94 [==============================] - 0s 3ms/step - loss: 0.4476 - accuracy: 0.7920\n",
            "Epoch 32/100\n",
            "94/94 [==============================] - 0s 3ms/step - loss: 0.4471 - accuracy: 0.7910\n",
            "Epoch 33/100\n",
            "94/94 [==============================] - 0s 4ms/step - loss: 0.4448 - accuracy: 0.7916\n",
            "Epoch 34/100\n",
            "94/94 [==============================] - 0s 3ms/step - loss: 0.4441 - accuracy: 0.7896\n",
            "Epoch 35/100\n",
            "94/94 [==============================] - 0s 3ms/step - loss: 0.4441 - accuracy: 0.7896\n",
            "Epoch 36/100\n",
            "94/94 [==============================] - 0s 3ms/step - loss: 0.4417 - accuracy: 0.7920\n",
            "Epoch 37/100\n",
            "94/94 [==============================] - 0s 3ms/step - loss: 0.4407 - accuracy: 0.7900\n",
            "Epoch 38/100\n",
            "94/94 [==============================] - 0s 3ms/step - loss: 0.4384 - accuracy: 0.7913\n",
            "Epoch 39/100\n",
            "94/94 [==============================] - 0s 3ms/step - loss: 0.4384 - accuracy: 0.7896\n",
            "Epoch 40/100\n",
            "94/94 [==============================] - 0s 4ms/step - loss: 0.4378 - accuracy: 0.7950\n",
            "Epoch 41/100\n",
            "94/94 [==============================] - 0s 3ms/step - loss: 0.4366 - accuracy: 0.7943\n",
            "Epoch 42/100\n",
            "94/94 [==============================] - 0s 3ms/step - loss: 0.4353 - accuracy: 0.7993\n",
            "Epoch 43/100\n",
            "94/94 [==============================] - 0s 3ms/step - loss: 0.4371 - accuracy: 0.7930\n",
            "Epoch 44/100\n",
            "94/94 [==============================] - 0s 3ms/step - loss: 0.4361 - accuracy: 0.7950\n",
            "Epoch 45/100\n",
            "94/94 [==============================] - 0s 3ms/step - loss: 0.4328 - accuracy: 0.7977\n",
            "Epoch 46/100\n",
            "94/94 [==============================] - 0s 3ms/step - loss: 0.4323 - accuracy: 0.7983\n",
            "Epoch 47/100\n",
            "94/94 [==============================] - 0s 3ms/step - loss: 0.4311 - accuracy: 0.7997\n",
            "Epoch 48/100\n",
            "94/94 [==============================] - 0s 3ms/step - loss: 0.4288 - accuracy: 0.8013\n",
            "Epoch 49/100\n",
            "94/94 [==============================] - 0s 3ms/step - loss: 0.4288 - accuracy: 0.8054\n",
            "Epoch 50/100\n",
            "94/94 [==============================] - 0s 3ms/step - loss: 0.4286 - accuracy: 0.7957\n",
            "Epoch 51/100\n",
            "94/94 [==============================] - 0s 3ms/step - loss: 0.4264 - accuracy: 0.7987\n",
            "Epoch 52/100\n",
            "94/94 [==============================] - 0s 4ms/step - loss: 0.4268 - accuracy: 0.7967\n",
            "Epoch 53/100\n",
            "94/94 [==============================] - 0s 3ms/step - loss: 0.4235 - accuracy: 0.8010\n",
            "Epoch 54/100\n",
            "94/94 [==============================] - 0s 3ms/step - loss: 0.4247 - accuracy: 0.8054\n",
            "Epoch 55/100\n",
            "94/94 [==============================] - 0s 3ms/step - loss: 0.4233 - accuracy: 0.8047\n",
            "Epoch 56/100\n",
            "94/94 [==============================] - 0s 4ms/step - loss: 0.4216 - accuracy: 0.8010\n",
            "Epoch 57/100\n",
            "94/94 [==============================] - 0s 4ms/step - loss: 0.4208 - accuracy: 0.8047\n",
            "Epoch 58/100\n",
            "94/94 [==============================] - 0s 4ms/step - loss: 0.4190 - accuracy: 0.8074\n",
            "Epoch 59/100\n",
            "94/94 [==============================] - 0s 4ms/step - loss: 0.4195 - accuracy: 0.8007\n",
            "Epoch 60/100\n",
            "94/94 [==============================] - 0s 4ms/step - loss: 0.4193 - accuracy: 0.8043\n",
            "Epoch 61/100\n",
            "94/94 [==============================] - 0s 5ms/step - loss: 0.4174 - accuracy: 0.8050\n",
            "Epoch 62/100\n",
            "94/94 [==============================] - 0s 4ms/step - loss: 0.4167 - accuracy: 0.8097\n",
            "Epoch 63/100\n",
            "94/94 [==============================] - 0s 4ms/step - loss: 0.4168 - accuracy: 0.8017\n",
            "Epoch 64/100\n",
            "94/94 [==============================] - 0s 4ms/step - loss: 0.4144 - accuracy: 0.8100\n",
            "Epoch 65/100\n",
            "94/94 [==============================] - 0s 3ms/step - loss: 0.4140 - accuracy: 0.8054\n",
            "Epoch 66/100\n",
            "94/94 [==============================] - 0s 3ms/step - loss: 0.4144 - accuracy: 0.8043\n",
            "Epoch 67/100\n",
            "94/94 [==============================] - 0s 3ms/step - loss: 0.4113 - accuracy: 0.8070\n",
            "Epoch 68/100\n",
            "94/94 [==============================] - 0s 3ms/step - loss: 0.4126 - accuracy: 0.8120\n",
            "Epoch 69/100\n",
            "94/94 [==============================] - 0s 4ms/step - loss: 0.4113 - accuracy: 0.8114\n",
            "Epoch 70/100\n",
            "94/94 [==============================] - 0s 3ms/step - loss: 0.4093 - accuracy: 0.8124\n",
            "Epoch 71/100\n",
            "94/94 [==============================] - 0s 3ms/step - loss: 0.4081 - accuracy: 0.8140\n",
            "Epoch 72/100\n",
            "94/94 [==============================] - 0s 3ms/step - loss: 0.4075 - accuracy: 0.8117\n",
            "Epoch 73/100\n",
            "94/94 [==============================] - 1s 5ms/step - loss: 0.4062 - accuracy: 0.8097\n",
            "Epoch 74/100\n",
            "94/94 [==============================] - 1s 6ms/step - loss: 0.4072 - accuracy: 0.8114\n",
            "Epoch 75/100\n",
            "94/94 [==============================] - 0s 4ms/step - loss: 0.4053 - accuracy: 0.8077\n",
            "Epoch 76/100\n",
            "94/94 [==============================] - 1s 6ms/step - loss: 0.4062 - accuracy: 0.8100\n",
            "Epoch 77/100\n",
            "94/94 [==============================] - 1s 7ms/step - loss: 0.4037 - accuracy: 0.8140\n",
            "Epoch 78/100\n",
            "94/94 [==============================] - 0s 4ms/step - loss: 0.4028 - accuracy: 0.8084\n",
            "Epoch 79/100\n",
            "94/94 [==============================] - 0s 5ms/step - loss: 0.4015 - accuracy: 0.8147\n",
            "Epoch 80/100\n",
            "94/94 [==============================] - 1s 7ms/step - loss: 0.4011 - accuracy: 0.8137\n",
            "Epoch 81/100\n",
            "94/94 [==============================] - 0s 4ms/step - loss: 0.3997 - accuracy: 0.8157\n",
            "Epoch 82/100\n",
            "94/94 [==============================] - 0s 3ms/step - loss: 0.4008 - accuracy: 0.8157\n",
            "Epoch 83/100\n",
            "94/94 [==============================] - 0s 3ms/step - loss: 0.3978 - accuracy: 0.8157\n",
            "Epoch 84/100\n",
            "94/94 [==============================] - 0s 3ms/step - loss: 0.3978 - accuracy: 0.8114\n",
            "Epoch 85/100\n",
            "94/94 [==============================] - 0s 3ms/step - loss: 0.3981 - accuracy: 0.8117\n",
            "Epoch 86/100\n",
            "94/94 [==============================] - 0s 4ms/step - loss: 0.3984 - accuracy: 0.8191\n",
            "Epoch 87/100\n",
            "94/94 [==============================] - 0s 3ms/step - loss: 0.3958 - accuracy: 0.8114\n",
            "Epoch 88/100\n",
            "94/94 [==============================] - 0s 3ms/step - loss: 0.3958 - accuracy: 0.8161\n",
            "Epoch 89/100\n",
            "94/94 [==============================] - 0s 3ms/step - loss: 0.3961 - accuracy: 0.8174\n",
            "Epoch 90/100\n",
            "94/94 [==============================] - 0s 3ms/step - loss: 0.3942 - accuracy: 0.8221\n",
            "Epoch 91/100\n",
            "94/94 [==============================] - 0s 5ms/step - loss: 0.3938 - accuracy: 0.8167\n",
            "Epoch 92/100\n",
            "94/94 [==============================] - 0s 4ms/step - loss: 0.3921 - accuracy: 0.8194\n",
            "Epoch 93/100\n",
            "94/94 [==============================] - 0s 4ms/step - loss: 0.3930 - accuracy: 0.8184\n",
            "Epoch 94/100\n",
            "94/94 [==============================] - 0s 4ms/step - loss: 0.3922 - accuracy: 0.8187\n",
            "Epoch 95/100\n",
            "94/94 [==============================] - 0s 5ms/step - loss: 0.3897 - accuracy: 0.8181\n",
            "Epoch 96/100\n",
            "94/94 [==============================] - 0s 4ms/step - loss: 0.3914 - accuracy: 0.8140\n",
            "Epoch 97/100\n",
            "94/94 [==============================] - 0s 5ms/step - loss: 0.3923 - accuracy: 0.8214\n",
            "Epoch 98/100\n",
            "94/94 [==============================] - 0s 4ms/step - loss: 0.3892 - accuracy: 0.8224\n",
            "Epoch 99/100\n",
            "94/94 [==============================] - 0s 5ms/step - loss: 0.3888 - accuracy: 0.8214\n",
            "Epoch 100/100\n",
            "94/94 [==============================] - 0s 3ms/step - loss: 0.3874 - accuracy: 0.8204\n",
            "24/24 [==============================] - 0s 3ms/step - loss: 0.5907 - accuracy: 0.7353\n",
            "[0.5907328128814697, 0.7352941036224365]\n",
            "24/24 [==============================] - 0s 2ms/step\n",
            "Classification report: \n",
            "               precision    recall  f1-score   support\n",
            "\n",
            "           0       0.75      0.70      0.73       374\n",
            "           1       0.72      0.77      0.74       374\n",
            "\n",
            "    accuracy                           0.74       748\n",
            "   macro avg       0.74      0.74      0.73       748\n",
            "weighted avg       0.74      0.74      0.73       748\n",
            "\n"
          ]
        }
      ]
    },
    {
      "cell_type": "markdown",
      "source": [
        "Now the F1 score for class 1 is improved to 0.74 (from 0.61). Pretty good for class 1. For class 0, F1 score is reduced from 0.85 to 0.73, which is ok, because we are trying to treat both classes equally here."
      ],
      "metadata": {
        "id": "Ax7FEi9h6Qdz"
      }
    },
    {
      "cell_type": "markdown",
      "source": [
        "**Oversampling**"
      ],
      "metadata": {
        "id": "r1spRWty63AR"
      }
    },
    {
      "cell_type": "code",
      "source": [
        "count_class_0, count_class_1"
      ],
      "metadata": {
        "colab": {
          "base_uri": "https://localhost:8080/"
        },
        "id": "y47HJEE360e5",
        "outputId": "a8a044e2-4a2e-451a-f6cf-bcc6dc3ea4f2"
      },
      "execution_count": 58,
      "outputs": [
        {
          "output_type": "execute_result",
          "data": {
            "text/plain": [
              "(5163, 1869)"
            ]
          },
          "metadata": {},
          "execution_count": 58
        }
      ]
    },
    {
      "cell_type": "code",
      "source": [
        "# Duplicate and increase the data points of class 1\n",
        "df_class_1_over = df_class_1.sample(count_class_0, replace=True)\n",
        "df_class_1_over.shape"
      ],
      "metadata": {
        "colab": {
          "base_uri": "https://localhost:8080/"
        },
        "id": "UPuupVJX6_93",
        "outputId": "cf0dbe5a-3a34-44a6-a02b-fb11b0174be6"
      },
      "execution_count": 59,
      "outputs": [
        {
          "output_type": "execute_result",
          "data": {
            "text/plain": [
              "(5163, 27)"
            ]
          },
          "metadata": {},
          "execution_count": 59
        }
      ]
    },
    {
      "cell_type": "code",
      "source": [
        "# Create a new dataframe with the oversampled data\n",
        "df_test_over = pd.concat([df_class_0, df_class_1_over], axis = 0)\n",
        "print('Random over-sampling:')\n",
        "print(df_test_over.Churn.value_counts())"
      ],
      "metadata": {
        "colab": {
          "base_uri": "https://localhost:8080/"
        },
        "id": "g0Y-4ede7nQo",
        "outputId": "425c5aca-aceb-44db-864a-c6cbc25b5b3a"
      },
      "execution_count": 60,
      "outputs": [
        {
          "output_type": "stream",
          "name": "stdout",
          "text": [
            "Random over-sampling:\n",
            "0    5163\n",
            "1    5163\n",
            "Name: Churn, dtype: int64\n"
          ]
        }
      ]
    },
    {
      "cell_type": "code",
      "source": [
        "# Divide independent variables and dependent variable and split train and test data\n",
        "x = df_test_over.drop('Churn', axis = 'columns')\n",
        "y = df_test_over['Churn']\n",
        "\n",
        "from sklearn.model_selection import train_test_split\n",
        "x_train, x_test, y_train, y_test = train_test_split(x, y, test_size=0.2, random_state=15, stratify=y)"
      ],
      "metadata": {
        "id": "RhrEDFKg9Bf8"
      },
      "execution_count": 61,
      "outputs": []
    },
    {
      "cell_type": "code",
      "source": [
        "y_test.value_counts()"
      ],
      "metadata": {
        "colab": {
          "base_uri": "https://localhost:8080/"
        },
        "id": "HmmKcccZAzvr",
        "outputId": "0cb527cd-46bb-4c60-cb8b-2ad0da1154c2"
      },
      "execution_count": 62,
      "outputs": [
        {
          "output_type": "execute_result",
          "data": {
            "text/plain": [
              "1    1033\n",
              "0    1033\n",
              "Name: Churn, dtype: int64"
            ]
          },
          "metadata": {},
          "execution_count": 62
        }
      ]
    },
    {
      "cell_type": "code",
      "source": [
        "y_preds = ANN(x_train, y_train, x_test, y_test, 'binary_crossentropy', -1)"
      ],
      "metadata": {
        "colab": {
          "base_uri": "https://localhost:8080/"
        },
        "id": "LjXilAU5A3MS",
        "outputId": "14fbf8fe-0b4b-4563-b581-024667e907fc"
      },
      "execution_count": 63,
      "outputs": [
        {
          "output_type": "stream",
          "name": "stdout",
          "text": [
            "Epoch 1/100\n",
            "259/259 [==============================] - 2s 4ms/step - loss: 0.5499 - accuracy: 0.7276\n",
            "Epoch 2/100\n",
            "259/259 [==============================] - 1s 3ms/step - loss: 0.4932 - accuracy: 0.7592\n",
            "Epoch 3/100\n",
            "259/259 [==============================] - 1s 3ms/step - loss: 0.4861 - accuracy: 0.7599\n",
            "Epoch 4/100\n",
            "259/259 [==============================] - 1s 3ms/step - loss: 0.4805 - accuracy: 0.7650\n",
            "Epoch 5/100\n",
            "259/259 [==============================] - 1s 3ms/step - loss: 0.4761 - accuracy: 0.7639\n",
            "Epoch 6/100\n",
            "259/259 [==============================] - 1s 3ms/step - loss: 0.4719 - accuracy: 0.7707\n",
            "Epoch 7/100\n",
            "259/259 [==============================] - 1s 3ms/step - loss: 0.4695 - accuracy: 0.7720\n",
            "Epoch 8/100\n",
            "259/259 [==============================] - 1s 3ms/step - loss: 0.4657 - accuracy: 0.7743\n",
            "Epoch 9/100\n",
            "259/259 [==============================] - 1s 3ms/step - loss: 0.4645 - accuracy: 0.7737\n",
            "Epoch 10/100\n",
            "259/259 [==============================] - 1s 4ms/step - loss: 0.4613 - accuracy: 0.7752\n",
            "Epoch 11/100\n",
            "259/259 [==============================] - 1s 4ms/step - loss: 0.4587 - accuracy: 0.7776\n",
            "Epoch 12/100\n",
            "259/259 [==============================] - 1s 5ms/step - loss: 0.4575 - accuracy: 0.7794\n",
            "Epoch 13/100\n",
            "259/259 [==============================] - 1s 4ms/step - loss: 0.4549 - accuracy: 0.7838\n",
            "Epoch 14/100\n",
            "259/259 [==============================] - 1s 3ms/step - loss: 0.4541 - accuracy: 0.7823\n",
            "Epoch 15/100\n",
            "259/259 [==============================] - 1s 3ms/step - loss: 0.4519 - accuracy: 0.7849\n",
            "Epoch 16/100\n",
            "259/259 [==============================] - 1s 3ms/step - loss: 0.4496 - accuracy: 0.7863\n",
            "Epoch 17/100\n",
            "259/259 [==============================] - 1s 3ms/step - loss: 0.4468 - accuracy: 0.7870\n",
            "Epoch 18/100\n",
            "259/259 [==============================] - 1s 3ms/step - loss: 0.4463 - accuracy: 0.7844\n",
            "Epoch 19/100\n",
            "259/259 [==============================] - 1s 3ms/step - loss: 0.4444 - accuracy: 0.7906\n",
            "Epoch 20/100\n",
            "259/259 [==============================] - 1s 3ms/step - loss: 0.4438 - accuracy: 0.7861\n",
            "Epoch 21/100\n",
            "259/259 [==============================] - 1s 3ms/step - loss: 0.4407 - accuracy: 0.7958\n",
            "Epoch 22/100\n",
            "259/259 [==============================] - 1s 3ms/step - loss: 0.4407 - accuracy: 0.7918\n",
            "Epoch 23/100\n",
            "259/259 [==============================] - 1s 3ms/step - loss: 0.4371 - accuracy: 0.7939\n",
            "Epoch 24/100\n",
            "259/259 [==============================] - 1s 3ms/step - loss: 0.4360 - accuracy: 0.7910\n",
            "Epoch 25/100\n",
            "259/259 [==============================] - 1s 4ms/step - loss: 0.4345 - accuracy: 0.7972\n",
            "Epoch 26/100\n",
            "259/259 [==============================] - 1s 4ms/step - loss: 0.4326 - accuracy: 0.7952\n",
            "Epoch 27/100\n",
            "259/259 [==============================] - 1s 4ms/step - loss: 0.4289 - accuracy: 0.7990\n",
            "Epoch 28/100\n",
            "259/259 [==============================] - 1s 4ms/step - loss: 0.4290 - accuracy: 0.7973\n",
            "Epoch 29/100\n",
            "259/259 [==============================] - 1s 3ms/step - loss: 0.4269 - accuracy: 0.8002\n",
            "Epoch 30/100\n",
            "259/259 [==============================] - 1s 3ms/step - loss: 0.4248 - accuracy: 0.8010\n",
            "Epoch 31/100\n",
            "259/259 [==============================] - 1s 3ms/step - loss: 0.4235 - accuracy: 0.8034\n",
            "Epoch 32/100\n",
            "259/259 [==============================] - 1s 3ms/step - loss: 0.4216 - accuracy: 0.8013\n",
            "Epoch 33/100\n",
            "259/259 [==============================] - 1s 3ms/step - loss: 0.4201 - accuracy: 0.8031\n",
            "Epoch 34/100\n",
            "259/259 [==============================] - 1s 3ms/step - loss: 0.4192 - accuracy: 0.8077\n",
            "Epoch 35/100\n",
            "259/259 [==============================] - 1s 3ms/step - loss: 0.4173 - accuracy: 0.8068\n",
            "Epoch 36/100\n",
            "259/259 [==============================] - 1s 3ms/step - loss: 0.4149 - accuracy: 0.8068\n",
            "Epoch 37/100\n",
            "259/259 [==============================] - 1s 3ms/step - loss: 0.4157 - accuracy: 0.8069\n",
            "Epoch 38/100\n",
            "259/259 [==============================] - 1s 3ms/step - loss: 0.4139 - accuracy: 0.8080\n",
            "Epoch 39/100\n",
            "259/259 [==============================] - 1s 3ms/step - loss: 0.4130 - accuracy: 0.8103\n",
            "Epoch 40/100\n",
            "259/259 [==============================] - 1s 4ms/step - loss: 0.4097 - accuracy: 0.8086\n",
            "Epoch 41/100\n",
            "259/259 [==============================] - 1s 4ms/step - loss: 0.4094 - accuracy: 0.8114\n",
            "Epoch 42/100\n",
            "259/259 [==============================] - 1s 4ms/step - loss: 0.4093 - accuracy: 0.8085\n",
            "Epoch 43/100\n",
            "259/259 [==============================] - 1s 4ms/step - loss: 0.4079 - accuracy: 0.8125\n",
            "Epoch 44/100\n",
            "259/259 [==============================] - 1s 3ms/step - loss: 0.4051 - accuracy: 0.8145\n",
            "Epoch 45/100\n",
            "259/259 [==============================] - 1s 3ms/step - loss: 0.4056 - accuracy: 0.8125\n",
            "Epoch 46/100\n",
            "259/259 [==============================] - 1s 3ms/step - loss: 0.4024 - accuracy: 0.8155\n",
            "Epoch 47/100\n",
            "259/259 [==============================] - 1s 3ms/step - loss: 0.4017 - accuracy: 0.8149\n",
            "Epoch 48/100\n",
            "259/259 [==============================] - 1s 3ms/step - loss: 0.4004 - accuracy: 0.8145\n",
            "Epoch 49/100\n",
            "259/259 [==============================] - 1s 3ms/step - loss: 0.3993 - accuracy: 0.8148\n",
            "Epoch 50/100\n",
            "259/259 [==============================] - 1s 3ms/step - loss: 0.3976 - accuracy: 0.8143\n",
            "Epoch 51/100\n",
            "259/259 [==============================] - 1s 3ms/step - loss: 0.3970 - accuracy: 0.8130\n",
            "Epoch 52/100\n",
            "259/259 [==============================] - 1s 3ms/step - loss: 0.3974 - accuracy: 0.8137\n",
            "Epoch 53/100\n",
            "259/259 [==============================] - 1s 3ms/step - loss: 0.3945 - accuracy: 0.8151\n",
            "Epoch 54/100\n",
            "259/259 [==============================] - 1s 3ms/step - loss: 0.3942 - accuracy: 0.8179\n",
            "Epoch 55/100\n",
            "259/259 [==============================] - 1s 4ms/step - loss: 0.3926 - accuracy: 0.8173\n",
            "Epoch 56/100\n",
            "259/259 [==============================] - 1s 4ms/step - loss: 0.3904 - accuracy: 0.8189\n",
            "Epoch 57/100\n",
            "259/259 [==============================] - 1s 4ms/step - loss: 0.3912 - accuracy: 0.8169\n",
            "Epoch 58/100\n",
            "259/259 [==============================] - 1s 4ms/step - loss: 0.3912 - accuracy: 0.8190\n",
            "Epoch 59/100\n",
            "259/259 [==============================] - 1s 3ms/step - loss: 0.3893 - accuracy: 0.8215\n",
            "Epoch 60/100\n",
            "259/259 [==============================] - 1s 3ms/step - loss: 0.3888 - accuracy: 0.8234\n",
            "Epoch 61/100\n",
            "259/259 [==============================] - 1s 3ms/step - loss: 0.3865 - accuracy: 0.8201\n",
            "Epoch 62/100\n",
            "259/259 [==============================] - 1s 3ms/step - loss: 0.3877 - accuracy: 0.8220\n",
            "Epoch 63/100\n",
            "259/259 [==============================] - 1s 3ms/step - loss: 0.3850 - accuracy: 0.8246\n",
            "Epoch 64/100\n",
            "259/259 [==============================] - 1s 3ms/step - loss: 0.3853 - accuracy: 0.8213\n",
            "Epoch 65/100\n",
            "259/259 [==============================] - 1s 3ms/step - loss: 0.3846 - accuracy: 0.8241\n",
            "Epoch 66/100\n",
            "259/259 [==============================] - 1s 3ms/step - loss: 0.3858 - accuracy: 0.8202\n",
            "Epoch 67/100\n",
            "259/259 [==============================] - 1s 4ms/step - loss: 0.3823 - accuracy: 0.8249\n",
            "Epoch 68/100\n",
            "259/259 [==============================] - 1s 3ms/step - loss: 0.3828 - accuracy: 0.8231\n",
            "Epoch 69/100\n",
            "259/259 [==============================] - 1s 3ms/step - loss: 0.3808 - accuracy: 0.8260\n",
            "Epoch 70/100\n",
            "259/259 [==============================] - 1s 5ms/step - loss: 0.3822 - accuracy: 0.8242\n",
            "Epoch 71/100\n",
            "259/259 [==============================] - 1s 4ms/step - loss: 0.3796 - accuracy: 0.8289\n",
            "Epoch 72/100\n",
            "259/259 [==============================] - 1s 4ms/step - loss: 0.3799 - accuracy: 0.8235\n",
            "Epoch 73/100\n",
            "259/259 [==============================] - 1s 4ms/step - loss: 0.3785 - accuracy: 0.8249\n",
            "Epoch 74/100\n",
            "259/259 [==============================] - 1s 3ms/step - loss: 0.3773 - accuracy: 0.8300\n",
            "Epoch 75/100\n",
            "259/259 [==============================] - 1s 3ms/step - loss: 0.3772 - accuracy: 0.8301\n",
            "Epoch 76/100\n",
            "259/259 [==============================] - 1s 3ms/step - loss: 0.3754 - accuracy: 0.8300\n",
            "Epoch 77/100\n",
            "259/259 [==============================] - 1s 3ms/step - loss: 0.3761 - accuracy: 0.8310\n",
            "Epoch 78/100\n",
            "259/259 [==============================] - 1s 3ms/step - loss: 0.3746 - accuracy: 0.8315\n",
            "Epoch 79/100\n",
            "259/259 [==============================] - 1s 3ms/step - loss: 0.3735 - accuracy: 0.8303\n",
            "Epoch 80/100\n",
            "259/259 [==============================] - 1s 3ms/step - loss: 0.3722 - accuracy: 0.8300\n",
            "Epoch 81/100\n",
            "259/259 [==============================] - 1s 3ms/step - loss: 0.3720 - accuracy: 0.8309\n",
            "Epoch 82/100\n",
            "259/259 [==============================] - 1s 3ms/step - loss: 0.3716 - accuracy: 0.8314\n",
            "Epoch 83/100\n",
            "259/259 [==============================] - 1s 3ms/step - loss: 0.3742 - accuracy: 0.8326\n",
            "Epoch 84/100\n",
            "259/259 [==============================] - 1s 4ms/step - loss: 0.3722 - accuracy: 0.8343\n",
            "Epoch 85/100\n",
            "259/259 [==============================] - 1s 4ms/step - loss: 0.3703 - accuracy: 0.8332\n",
            "Epoch 86/100\n",
            "259/259 [==============================] - 1s 5ms/step - loss: 0.3710 - accuracy: 0.8326\n",
            "Epoch 87/100\n",
            "259/259 [==============================] - 1s 4ms/step - loss: 0.3697 - accuracy: 0.8326\n",
            "Epoch 88/100\n",
            "259/259 [==============================] - 1s 3ms/step - loss: 0.3677 - accuracy: 0.8350\n",
            "Epoch 89/100\n",
            "259/259 [==============================] - 1s 4ms/step - loss: 0.3691 - accuracy: 0.8343\n",
            "Epoch 90/100\n",
            "259/259 [==============================] - 1s 4ms/step - loss: 0.3662 - accuracy: 0.8381\n",
            "Epoch 91/100\n",
            "259/259 [==============================] - 1s 4ms/step - loss: 0.3659 - accuracy: 0.8383\n",
            "Epoch 92/100\n",
            "259/259 [==============================] - 1s 4ms/step - loss: 0.3665 - accuracy: 0.8373\n",
            "Epoch 93/100\n",
            "259/259 [==============================] - 1s 3ms/step - loss: 0.3671 - accuracy: 0.8350\n",
            "Epoch 94/100\n",
            "259/259 [==============================] - 1s 3ms/step - loss: 0.3646 - accuracy: 0.8385\n",
            "Epoch 95/100\n",
            "259/259 [==============================] - 1s 4ms/step - loss: 0.3654 - accuracy: 0.8340\n",
            "Epoch 96/100\n",
            "259/259 [==============================] - 1s 3ms/step - loss: 0.3635 - accuracy: 0.8397\n",
            "Epoch 97/100\n",
            "259/259 [==============================] - 1s 4ms/step - loss: 0.3647 - accuracy: 0.8380\n",
            "Epoch 98/100\n",
            "259/259 [==============================] - 1s 4ms/step - loss: 0.3604 - accuracy: 0.8433\n",
            "Epoch 99/100\n",
            "259/259 [==============================] - 1s 5ms/step - loss: 0.3628 - accuracy: 0.8396\n",
            "Epoch 100/100\n",
            "259/259 [==============================] - 1s 4ms/step - loss: 0.3611 - accuracy: 0.8391\n",
            "65/65 [==============================] - 0s 3ms/step - loss: 0.4736 - accuracy: 0.7875\n",
            "[0.47355160117149353, 0.7875121235847473]\n",
            "65/65 [==============================] - 0s 2ms/step\n",
            "Classification report: \n",
            "               precision    recall  f1-score   support\n",
            "\n",
            "           0       0.82      0.74      0.78      1033\n",
            "           1       0.76      0.83      0.80      1033\n",
            "\n",
            "    accuracy                           0.79      2066\n",
            "   macro avg       0.79      0.79      0.79      2066\n",
            "weighted avg       0.79      0.79      0.79      2066\n",
            "\n"
          ]
        }
      ]
    },
    {
      "cell_type": "markdown",
      "source": [
        "As a result of oversampling, the F1 score for class 1 is improved to 0.80 from 0.61."
      ],
      "metadata": {
        "id": "8wHbL9gxBOii"
      }
    },
    {
      "cell_type": "markdown",
      "source": [
        "**SMOTE**\n",
        "\n",
        "Let's oversample the minority class by producing synthetic samples. [SMOTE](https://www.jair.org/index.php/jair/article/view/10302) creates new data points in the feature space. A data point from minority class is taken and introduces new data points along the lines that join the selected data point and and its k nearest neighbors (k is defined by the user). The exact location along the line is defined by multiplying the distance between two data points with a randomly selected number between 0 and 1.  "
      ],
      "metadata": {
        "id": "S1mGpJ_NDZRk"
      }
    },
    {
      "cell_type": "code",
      "source": [
        "x= df2.drop('Churn', axis= 'columns')\n",
        "y = df2['Churn']"
      ],
      "metadata": {
        "id": "9qRrPZkOBNSf"
      },
      "execution_count": 64,
      "outputs": []
    },
    {
      "cell_type": "code",
      "source": [
        "y.value_counts()"
      ],
      "metadata": {
        "colab": {
          "base_uri": "https://localhost:8080/"
        },
        "id": "5wkcwYAdFsAT",
        "outputId": "18511e80-1168-4b85-da8b-4aa7104dee00"
      },
      "execution_count": 65,
      "outputs": [
        {
          "output_type": "execute_result",
          "data": {
            "text/plain": [
              "0    5163\n",
              "1    1869\n",
              "Name: Churn, dtype: int64"
            ]
          },
          "metadata": {},
          "execution_count": 65
        }
      ]
    },
    {
      "cell_type": "code",
      "source": [
        "from imblearn.over_sampling import SMOTE\n",
        "\n",
        "# Resample only the monority class\n",
        "smote = SMOTE(sampling_strategy='minority')\n",
        "x_sm, y_sm = smote.fit_resample(x,y)\n",
        "\n",
        "y_sm.value_counts()"
      ],
      "metadata": {
        "colab": {
          "base_uri": "https://localhost:8080/"
        },
        "id": "xJgHTRibEAkv",
        "outputId": "8dc91f59-60a7-4e8c-cd7b-009a2f29e05a"
      },
      "execution_count": 66,
      "outputs": [
        {
          "output_type": "execute_result",
          "data": {
            "text/plain": [
              "0    5163\n",
              "1    5163\n",
              "Name: Churn, dtype: int64"
            ]
          },
          "metadata": {},
          "execution_count": 66
        }
      ]
    },
    {
      "cell_type": "code",
      "source": [
        "from sklearn.model_selection import train_test_split\n",
        "x_train, x_test, y_train, y_test = train_test_split(x_sm, y_sm, test_size=0.2, random_state=15, stratify=y_sm)"
      ],
      "metadata": {
        "id": "liu7uXMXEl7U"
      },
      "execution_count": 67,
      "outputs": []
    },
    {
      "cell_type": "code",
      "source": [
        "y_train.value_counts()"
      ],
      "metadata": {
        "colab": {
          "base_uri": "https://localhost:8080/"
        },
        "id": "z-qFvrwqGfIT",
        "outputId": "9c80259c-3e28-44e9-b689-6792ad8d6b8c"
      },
      "execution_count": 68,
      "outputs": [
        {
          "output_type": "execute_result",
          "data": {
            "text/plain": [
              "1    4130\n",
              "0    4130\n",
              "Name: Churn, dtype: int64"
            ]
          },
          "metadata": {},
          "execution_count": 68
        }
      ]
    },
    {
      "cell_type": "code",
      "source": [
        "y_test.value_counts()"
      ],
      "metadata": {
        "colab": {
          "base_uri": "https://localhost:8080/"
        },
        "id": "DwLFTfs2GoBo",
        "outputId": "ed7c1c18-5a64-406b-c0af-56826ec01e0d"
      },
      "execution_count": 69,
      "outputs": [
        {
          "output_type": "execute_result",
          "data": {
            "text/plain": [
              "1    1033\n",
              "0    1033\n",
              "Name: Churn, dtype: int64"
            ]
          },
          "metadata": {},
          "execution_count": 69
        }
      ]
    },
    {
      "cell_type": "code",
      "source": [
        "y_preds = ANN(x_train, y_train, x_test, y_test, 'binary_crossentropy', -1)"
      ],
      "metadata": {
        "colab": {
          "base_uri": "https://localhost:8080/"
        },
        "id": "dzI29hlVIXkg",
        "outputId": "a5387874-4323-4a98-d23e-ca8614dcac51"
      },
      "execution_count": 70,
      "outputs": [
        {
          "output_type": "stream",
          "name": "stdout",
          "text": [
            "Epoch 1/100\n",
            "259/259 [==============================] - 2s 3ms/step - loss: 0.5253 - accuracy: 0.7488\n",
            "Epoch 2/100\n",
            "259/259 [==============================] - 1s 4ms/step - loss: 0.4668 - accuracy: 0.7769\n",
            "Epoch 3/100\n",
            "259/259 [==============================] - 1s 4ms/step - loss: 0.4567 - accuracy: 0.7823\n",
            "Epoch 4/100\n",
            "259/259 [==============================] - 1s 4ms/step - loss: 0.4525 - accuracy: 0.7852\n",
            "Epoch 5/100\n",
            "259/259 [==============================] - 1s 3ms/step - loss: 0.4471 - accuracy: 0.7874\n",
            "Epoch 6/100\n",
            "259/259 [==============================] - 1s 3ms/step - loss: 0.4430 - accuracy: 0.7914\n",
            "Epoch 7/100\n",
            "259/259 [==============================] - 1s 3ms/step - loss: 0.4395 - accuracy: 0.7958\n",
            "Epoch 8/100\n",
            "259/259 [==============================] - 1s 3ms/step - loss: 0.4367 - accuracy: 0.7987\n",
            "Epoch 9/100\n",
            "259/259 [==============================] - 1s 3ms/step - loss: 0.4327 - accuracy: 0.7969\n",
            "Epoch 10/100\n",
            "259/259 [==============================] - 1s 5ms/step - loss: 0.4293 - accuracy: 0.7990\n",
            "Epoch 11/100\n",
            "259/259 [==============================] - 1s 4ms/step - loss: 0.4274 - accuracy: 0.8024\n",
            "Epoch 12/100\n",
            "259/259 [==============================] - 1s 5ms/step - loss: 0.4250 - accuracy: 0.8041\n",
            "Epoch 13/100\n",
            "259/259 [==============================] - 1s 4ms/step - loss: 0.4208 - accuracy: 0.8064\n",
            "Epoch 14/100\n",
            "259/259 [==============================] - 1s 4ms/step - loss: 0.4173 - accuracy: 0.8067\n",
            "Epoch 15/100\n",
            "259/259 [==============================] - 1s 4ms/step - loss: 0.4161 - accuracy: 0.8104\n",
            "Epoch 16/100\n",
            "259/259 [==============================] - 1s 3ms/step - loss: 0.4123 - accuracy: 0.8126\n",
            "Epoch 17/100\n",
            "259/259 [==============================] - 1s 3ms/step - loss: 0.4104 - accuracy: 0.8107\n",
            "Epoch 18/100\n",
            "259/259 [==============================] - 1s 4ms/step - loss: 0.4073 - accuracy: 0.8120\n",
            "Epoch 19/100\n",
            "259/259 [==============================] - 1s 3ms/step - loss: 0.4047 - accuracy: 0.8133\n",
            "Epoch 20/100\n",
            "259/259 [==============================] - 1s 4ms/step - loss: 0.4028 - accuracy: 0.8169\n",
            "Epoch 21/100\n",
            "259/259 [==============================] - 1s 4ms/step - loss: 0.4007 - accuracy: 0.8195\n",
            "Epoch 22/100\n",
            "259/259 [==============================] - 1s 4ms/step - loss: 0.3979 - accuracy: 0.8225\n",
            "Epoch 23/100\n",
            "259/259 [==============================] - 1s 4ms/step - loss: 0.3959 - accuracy: 0.8200\n",
            "Epoch 24/100\n",
            "259/259 [==============================] - 1s 5ms/step - loss: 0.3946 - accuracy: 0.8235\n",
            "Epoch 25/100\n",
            "259/259 [==============================] - 1s 5ms/step - loss: 0.3937 - accuracy: 0.8240\n",
            "Epoch 26/100\n",
            "259/259 [==============================] - 1s 5ms/step - loss: 0.3901 - accuracy: 0.8245\n",
            "Epoch 27/100\n",
            "259/259 [==============================] - 1s 4ms/step - loss: 0.3890 - accuracy: 0.8288\n",
            "Epoch 28/100\n",
            "259/259 [==============================] - 1s 3ms/step - loss: 0.3861 - accuracy: 0.8281\n",
            "Epoch 29/100\n",
            "259/259 [==============================] - 1s 4ms/step - loss: 0.3840 - accuracy: 0.8304\n",
            "Epoch 30/100\n",
            "259/259 [==============================] - 1s 3ms/step - loss: 0.3847 - accuracy: 0.8288\n",
            "Epoch 31/100\n",
            "259/259 [==============================] - 1s 3ms/step - loss: 0.3818 - accuracy: 0.8298\n",
            "Epoch 32/100\n",
            "259/259 [==============================] - 1s 3ms/step - loss: 0.3806 - accuracy: 0.8315\n",
            "Epoch 33/100\n",
            "259/259 [==============================] - 1s 3ms/step - loss: 0.3798 - accuracy: 0.8304\n",
            "Epoch 34/100\n",
            "259/259 [==============================] - 1s 3ms/step - loss: 0.3766 - accuracy: 0.8352\n",
            "Epoch 35/100\n",
            "259/259 [==============================] - 1s 3ms/step - loss: 0.3771 - accuracy: 0.8341\n",
            "Epoch 36/100\n",
            "259/259 [==============================] - 1s 3ms/step - loss: 0.3758 - accuracy: 0.8320\n",
            "Epoch 37/100\n",
            "259/259 [==============================] - 1s 3ms/step - loss: 0.3736 - accuracy: 0.8344\n",
            "Epoch 38/100\n",
            "259/259 [==============================] - 1s 4ms/step - loss: 0.3740 - accuracy: 0.8332\n",
            "Epoch 39/100\n",
            "259/259 [==============================] - 1s 5ms/step - loss: 0.3729 - accuracy: 0.8345\n",
            "Epoch 40/100\n",
            "259/259 [==============================] - 1s 4ms/step - loss: 0.3714 - accuracy: 0.8357\n",
            "Epoch 41/100\n",
            "259/259 [==============================] - 1s 4ms/step - loss: 0.3672 - accuracy: 0.8362\n",
            "Epoch 42/100\n",
            "259/259 [==============================] - 1s 3ms/step - loss: 0.3685 - accuracy: 0.8352\n",
            "Epoch 43/100\n",
            "259/259 [==============================] - 1s 3ms/step - loss: 0.3674 - accuracy: 0.8389\n",
            "Epoch 44/100\n",
            "259/259 [==============================] - 1s 3ms/step - loss: 0.3672 - accuracy: 0.8392\n",
            "Epoch 45/100\n",
            "259/259 [==============================] - 1s 3ms/step - loss: 0.3666 - accuracy: 0.8375\n",
            "Epoch 46/100\n",
            "259/259 [==============================] - 1s 3ms/step - loss: 0.3645 - accuracy: 0.8372\n",
            "Epoch 47/100\n",
            "259/259 [==============================] - 1s 3ms/step - loss: 0.3642 - accuracy: 0.8407\n",
            "Epoch 48/100\n",
            "259/259 [==============================] - 1s 3ms/step - loss: 0.3639 - accuracy: 0.8386\n",
            "Epoch 49/100\n",
            "259/259 [==============================] - 1s 3ms/step - loss: 0.3614 - accuracy: 0.8410\n",
            "Epoch 50/100\n",
            "259/259 [==============================] - 1s 3ms/step - loss: 0.3624 - accuracy: 0.8421\n",
            "Epoch 51/100\n",
            "259/259 [==============================] - 1s 3ms/step - loss: 0.3593 - accuracy: 0.8421\n",
            "Epoch 52/100\n",
            "259/259 [==============================] - 1s 3ms/step - loss: 0.3585 - accuracy: 0.8436\n",
            "Epoch 53/100\n",
            "259/259 [==============================] - 1s 4ms/step - loss: 0.3580 - accuracy: 0.8404\n",
            "Epoch 54/100\n",
            "259/259 [==============================] - 1s 4ms/step - loss: 0.3566 - accuracy: 0.8459\n",
            "Epoch 55/100\n",
            "259/259 [==============================] - 1s 5ms/step - loss: 0.3582 - accuracy: 0.8429\n",
            "Epoch 56/100\n",
            "259/259 [==============================] - 1s 4ms/step - loss: 0.3570 - accuracy: 0.8435\n",
            "Epoch 57/100\n",
            "259/259 [==============================] - 1s 3ms/step - loss: 0.3593 - accuracy: 0.8391\n",
            "Epoch 58/100\n",
            "259/259 [==============================] - 1s 3ms/step - loss: 0.3551 - accuracy: 0.8450\n",
            "Epoch 59/100\n",
            "259/259 [==============================] - 1s 3ms/step - loss: 0.3558 - accuracy: 0.8455\n",
            "Epoch 60/100\n",
            "259/259 [==============================] - 1s 3ms/step - loss: 0.3515 - accuracy: 0.8472\n",
            "Epoch 61/100\n",
            "259/259 [==============================] - 1s 3ms/step - loss: 0.3526 - accuracy: 0.8464\n",
            "Epoch 62/100\n",
            "259/259 [==============================] - 1s 3ms/step - loss: 0.3527 - accuracy: 0.8469\n",
            "Epoch 63/100\n",
            "259/259 [==============================] - 1s 3ms/step - loss: 0.3521 - accuracy: 0.8481\n",
            "Epoch 64/100\n",
            "259/259 [==============================] - 1s 3ms/step - loss: 0.3510 - accuracy: 0.8449\n",
            "Epoch 65/100\n",
            "259/259 [==============================] - 1s 3ms/step - loss: 0.3507 - accuracy: 0.8484\n",
            "Epoch 66/100\n",
            "259/259 [==============================] - 1s 3ms/step - loss: 0.3485 - accuracy: 0.8485\n",
            "Epoch 67/100\n",
            "259/259 [==============================] - 1s 3ms/step - loss: 0.3525 - accuracy: 0.8424\n",
            "Epoch 68/100\n",
            "259/259 [==============================] - 1s 4ms/step - loss: 0.3496 - accuracy: 0.8466\n",
            "Epoch 69/100\n",
            "259/259 [==============================] - 1s 4ms/step - loss: 0.3462 - accuracy: 0.8470\n",
            "Epoch 70/100\n",
            "259/259 [==============================] - 1s 4ms/step - loss: 0.3467 - accuracy: 0.8490\n",
            "Epoch 71/100\n",
            "259/259 [==============================] - 1s 4ms/step - loss: 0.3486 - accuracy: 0.8504\n",
            "Epoch 72/100\n",
            "259/259 [==============================] - 1s 3ms/step - loss: 0.3487 - accuracy: 0.8462\n",
            "Epoch 73/100\n",
            "259/259 [==============================] - 1s 3ms/step - loss: 0.3483 - accuracy: 0.8471\n",
            "Epoch 74/100\n",
            "259/259 [==============================] - 1s 3ms/step - loss: 0.3422 - accuracy: 0.8506\n",
            "Epoch 75/100\n",
            "259/259 [==============================] - 1s 3ms/step - loss: 0.3448 - accuracy: 0.8501\n",
            "Epoch 76/100\n",
            "259/259 [==============================] - 1s 3ms/step - loss: 0.3441 - accuracy: 0.8494\n",
            "Epoch 77/100\n",
            "259/259 [==============================] - 1s 3ms/step - loss: 0.3446 - accuracy: 0.8483\n",
            "Epoch 78/100\n",
            "259/259 [==============================] - 1s 3ms/step - loss: 0.3442 - accuracy: 0.8495\n",
            "Epoch 79/100\n",
            "259/259 [==============================] - 1s 3ms/step - loss: 0.3436 - accuracy: 0.8487\n",
            "Epoch 80/100\n",
            "259/259 [==============================] - 1s 3ms/step - loss: 0.3422 - accuracy: 0.8513\n",
            "Epoch 81/100\n",
            "259/259 [==============================] - 1s 3ms/step - loss: 0.3408 - accuracy: 0.8524\n",
            "Epoch 82/100\n",
            "259/259 [==============================] - 1s 3ms/step - loss: 0.3423 - accuracy: 0.8513\n",
            "Epoch 83/100\n",
            "259/259 [==============================] - 1s 4ms/step - loss: 0.3412 - accuracy: 0.8545\n",
            "Epoch 84/100\n",
            "259/259 [==============================] - 1s 4ms/step - loss: 0.3412 - accuracy: 0.8536\n",
            "Epoch 85/100\n",
            "259/259 [==============================] - 1s 4ms/step - loss: 0.3383 - accuracy: 0.8533\n",
            "Epoch 86/100\n",
            "259/259 [==============================] - 1s 4ms/step - loss: 0.3376 - accuracy: 0.8547\n",
            "Epoch 87/100\n",
            "259/259 [==============================] - 1s 3ms/step - loss: 0.3393 - accuracy: 0.8517\n",
            "Epoch 88/100\n",
            "259/259 [==============================] - 1s 3ms/step - loss: 0.3380 - accuracy: 0.8548\n",
            "Epoch 89/100\n",
            "259/259 [==============================] - 1s 3ms/step - loss: 0.3375 - accuracy: 0.8530\n",
            "Epoch 90/100\n",
            "259/259 [==============================] - 1s 3ms/step - loss: 0.3366 - accuracy: 0.8570\n",
            "Epoch 91/100\n",
            "259/259 [==============================] - 1s 3ms/step - loss: 0.3334 - accuracy: 0.8551\n",
            "Epoch 92/100\n",
            "259/259 [==============================] - 1s 3ms/step - loss: 0.3357 - accuracy: 0.8573\n",
            "Epoch 93/100\n",
            "259/259 [==============================] - 1s 3ms/step - loss: 0.3342 - accuracy: 0.8565\n",
            "Epoch 94/100\n",
            "259/259 [==============================] - 1s 3ms/step - loss: 0.3350 - accuracy: 0.8562\n",
            "Epoch 95/100\n",
            "259/259 [==============================] - 1s 3ms/step - loss: 0.3340 - accuracy: 0.8548\n",
            "Epoch 96/100\n",
            "259/259 [==============================] - 1s 3ms/step - loss: 0.3352 - accuracy: 0.8554\n",
            "Epoch 97/100\n",
            "259/259 [==============================] - 1s 3ms/step - loss: 0.3361 - accuracy: 0.8538\n",
            "Epoch 98/100\n",
            "259/259 [==============================] - 1s 4ms/step - loss: 0.3347 - accuracy: 0.8567\n",
            "Epoch 99/100\n",
            "259/259 [==============================] - 1s 4ms/step - loss: 0.3358 - accuracy: 0.8547\n",
            "Epoch 100/100\n",
            "259/259 [==============================] - 1s 4ms/step - loss: 0.3319 - accuracy: 0.8554\n",
            "65/65 [==============================] - 0s 3ms/step - loss: 0.4262 - accuracy: 0.8103\n",
            "[0.4262239634990692, 0.8102613687515259]\n",
            "65/65 [==============================] - 0s 2ms/step\n",
            "Classification report: \n",
            "               precision    recall  f1-score   support\n",
            "\n",
            "           0       0.83      0.78      0.80      1033\n",
            "           1       0.79      0.84      0.82      1033\n",
            "\n",
            "    accuracy                           0.81      2066\n",
            "   macro avg       0.81      0.81      0.81      2066\n",
            "weighted avg       0.81      0.81      0.81      2066\n",
            "\n"
          ]
        }
      ]
    },
    {
      "cell_type": "markdown",
      "source": [
        "Now the F1 score for class 1 is increased to  0.82 from 0.61. This is slightly better than oversampling. SMOTE may capture the variance of the class 1 better than oversampling."
      ],
      "metadata": {
        "id": "9sVjP-M2IyuV"
      }
    },
    {
      "cell_type": "markdown",
      "source": [
        "**Ensemble with Undersampling**"
      ],
      "metadata": {
        "id": "tqoCqTQMI6lR"
      }
    },
    {
      "cell_type": "code",
      "source": [
        "# Number of samples of each class\n",
        "df2.Churn.value_counts()"
      ],
      "metadata": {
        "colab": {
          "base_uri": "https://localhost:8080/"
        },
        "id": "xr7QVvDkI3jZ",
        "outputId": "05f10bf4-8997-4fa2-fbc1-f1f2dfb35cde"
      },
      "execution_count": 71,
      "outputs": [
        {
          "output_type": "execute_result",
          "data": {
            "text/plain": [
              "0    5163\n",
              "1    1869\n",
              "Name: Churn, dtype: int64"
            ]
          },
          "metadata": {},
          "execution_count": 71
        }
      ]
    },
    {
      "cell_type": "code",
      "source": [
        "x= df2.drop('Churn', axis= 'columns')\n",
        "y = df2['Churn']"
      ],
      "metadata": {
        "id": "Y1rW4q4dJFU5"
      },
      "execution_count": 72,
      "outputs": []
    },
    {
      "cell_type": "code",
      "source": [
        "from sklearn.model_selection import train_test_split\n",
        "x_train, x_test, y_train, y_test = train_test_split(x, y, test_size=0.2, random_state=15, stratify=y)"
      ],
      "metadata": {
        "id": "zS0Twn32JJ6C"
      },
      "execution_count": 73,
      "outputs": []
    },
    {
      "cell_type": "code",
      "source": [
        "# Count of data from two classes in training dependent variable\n",
        "y_train.value_counts()"
      ],
      "metadata": {
        "colab": {
          "base_uri": "https://localhost:8080/"
        },
        "id": "2Gx7hVGOJeUw",
        "outputId": "92ede0b7-ef8f-476d-cfba-982721cc1a04"
      },
      "execution_count": 74,
      "outputs": [
        {
          "output_type": "execute_result",
          "data": {
            "text/plain": [
              "0    4130\n",
              "1    1495\n",
              "Name: Churn, dtype: int64"
            ]
          },
          "metadata": {},
          "execution_count": 74
        }
      ]
    },
    {
      "cell_type": "code",
      "source": [
        "# Minority class length somewhat close to 1/3 of majority class length\n",
        "4130/3"
      ],
      "metadata": {
        "colab": {
          "base_uri": "https://localhost:8080/"
        },
        "id": "U8SO6aaJJiUe",
        "outputId": "bda865dd-13aa-4661-9b44-5fe7e4fec80a"
      },
      "execution_count": 75,
      "outputs": [
        {
          "output_type": "execute_result",
          "data": {
            "text/plain": [
              "1376.6666666666667"
            ]
          },
          "metadata": {},
          "execution_count": 75
        }
      ]
    },
    {
      "cell_type": "code",
      "source": [
        "# Create a dataframe with x_train and y_train\n",
        "df3 = x_train.copy()\n",
        "df3['Churn'] = y_train"
      ],
      "metadata": {
        "id": "rg9BeeELJkrY"
      },
      "execution_count": 76,
      "outputs": []
    },
    {
      "cell_type": "code",
      "source": [
        "df3_class0 = df3[df3.Churn==0]\n",
        "df3_class1 = df3[df3.Churn==1]"
      ],
      "metadata": {
        "id": "rihMwVrfKJn3"
      },
      "execution_count": 77,
      "outputs": []
    },
    {
      "cell_type": "code",
      "source": [
        "df3_class0.shape, df3_class1.shape"
      ],
      "metadata": {
        "colab": {
          "base_uri": "https://localhost:8080/"
        },
        "id": "ucIK24OdKRJi",
        "outputId": "78355450-f43c-4cd9-d040-9545ec7501ff"
      },
      "execution_count": 78,
      "outputs": [
        {
          "output_type": "execute_result",
          "data": {
            "text/plain": [
              "((4130, 27), (1495, 27))"
            ]
          },
          "metadata": {},
          "execution_count": 78
        }
      ]
    },
    {
      "cell_type": "code",
      "source": [
        "# Function to get a sample of majority class match with the length of the minority class\n",
        "def get_train_batch(df_majority, df_minority, start, end):\n",
        "  df_train = pd.concat([df_majority[:1495], df_minority], axis=0)\n",
        "  \n",
        "  x_train = df_train.drop('Churn', axis='columns')\n",
        "  y_train = df_train.Churn\n",
        "\n",
        "  return x_train, y_train"
      ],
      "metadata": {
        "id": "iSitDieVKd3I"
      },
      "execution_count": 79,
      "outputs": []
    },
    {
      "cell_type": "markdown",
      "source": [
        "Run the model 3 times with minority class and 3 subsets of majority class."
      ],
      "metadata": {
        "id": "OvwfomuRrbm4"
      }
    },
    {
      "cell_type": "code",
      "source": [
        "x_train, y_train = get_train_batch(df3_class0, df3_class1, 0, 1495)\n",
        "\n",
        "y_pred1 = ANN(x_train, y_train, x_test, y_test, 'binary_crossentropy', -1)"
      ],
      "metadata": {
        "colab": {
          "base_uri": "https://localhost:8080/"
        },
        "id": "qS8VYoYTKyPJ",
        "outputId": "1b21ab2c-d0f6-41a9-f306-96d34cace934"
      },
      "execution_count": 80,
      "outputs": [
        {
          "output_type": "stream",
          "name": "stdout",
          "text": [
            "Epoch 1/100\n",
            "94/94 [==============================] - 1s 3ms/step - loss: 0.6359 - accuracy: 0.6462\n",
            "Epoch 2/100\n",
            "94/94 [==============================] - 0s 3ms/step - loss: 0.5278 - accuracy: 0.7535\n",
            "Epoch 3/100\n",
            "94/94 [==============================] - 0s 3ms/step - loss: 0.4979 - accuracy: 0.7632\n",
            "Epoch 4/100\n",
            "94/94 [==============================] - 0s 3ms/step - loss: 0.4904 - accuracy: 0.7656\n",
            "Epoch 5/100\n",
            "94/94 [==============================] - 0s 3ms/step - loss: 0.4855 - accuracy: 0.7692\n",
            "Epoch 6/100\n",
            "94/94 [==============================] - 0s 3ms/step - loss: 0.4823 - accuracy: 0.7682\n",
            "Epoch 7/100\n",
            "94/94 [==============================] - 0s 4ms/step - loss: 0.4798 - accuracy: 0.7672\n",
            "Epoch 8/100\n",
            "94/94 [==============================] - 0s 4ms/step - loss: 0.4779 - accuracy: 0.7686\n",
            "Epoch 9/100\n",
            "94/94 [==============================] - 0s 3ms/step - loss: 0.4774 - accuracy: 0.7729\n",
            "Epoch 10/100\n",
            "94/94 [==============================] - 0s 3ms/step - loss: 0.4738 - accuracy: 0.7753\n",
            "Epoch 11/100\n",
            "94/94 [==============================] - 0s 3ms/step - loss: 0.4723 - accuracy: 0.7709\n",
            "Epoch 12/100\n",
            "94/94 [==============================] - 0s 3ms/step - loss: 0.4695 - accuracy: 0.7746\n",
            "Epoch 13/100\n",
            "94/94 [==============================] - 0s 3ms/step - loss: 0.4698 - accuracy: 0.7742\n",
            "Epoch 14/100\n",
            "94/94 [==============================] - 0s 3ms/step - loss: 0.4671 - accuracy: 0.7763\n",
            "Epoch 15/100\n",
            "94/94 [==============================] - 0s 4ms/step - loss: 0.4667 - accuracy: 0.7779\n",
            "Epoch 16/100\n",
            "94/94 [==============================] - 0s 3ms/step - loss: 0.4643 - accuracy: 0.7819\n",
            "Epoch 17/100\n",
            "94/94 [==============================] - 0s 3ms/step - loss: 0.4629 - accuracy: 0.7819\n",
            "Epoch 18/100\n",
            "94/94 [==============================] - 0s 3ms/step - loss: 0.4636 - accuracy: 0.7803\n",
            "Epoch 19/100\n",
            "94/94 [==============================] - 0s 3ms/step - loss: 0.4603 - accuracy: 0.7849\n",
            "Epoch 20/100\n",
            "94/94 [==============================] - 0s 3ms/step - loss: 0.4608 - accuracy: 0.7853\n",
            "Epoch 21/100\n",
            "94/94 [==============================] - 0s 3ms/step - loss: 0.4578 - accuracy: 0.7860\n",
            "Epoch 22/100\n",
            "94/94 [==============================] - 0s 4ms/step - loss: 0.4561 - accuracy: 0.7863\n",
            "Epoch 23/100\n",
            "94/94 [==============================] - 0s 3ms/step - loss: 0.4560 - accuracy: 0.7886\n",
            "Epoch 24/100\n",
            "94/94 [==============================] - 0s 4ms/step - loss: 0.4539 - accuracy: 0.7833\n",
            "Epoch 25/100\n",
            "94/94 [==============================] - 0s 4ms/step - loss: 0.4536 - accuracy: 0.7863\n",
            "Epoch 26/100\n",
            "94/94 [==============================] - 0s 5ms/step - loss: 0.4523 - accuracy: 0.7903\n",
            "Epoch 27/100\n",
            "94/94 [==============================] - 0s 5ms/step - loss: 0.4506 - accuracy: 0.7886\n",
            "Epoch 28/100\n",
            "94/94 [==============================] - 0s 5ms/step - loss: 0.4492 - accuracy: 0.7853\n",
            "Epoch 29/100\n",
            "94/94 [==============================] - 0s 4ms/step - loss: 0.4493 - accuracy: 0.7923\n",
            "Epoch 30/100\n",
            "94/94 [==============================] - 0s 4ms/step - loss: 0.4471 - accuracy: 0.7913\n",
            "Epoch 31/100\n",
            "94/94 [==============================] - 0s 4ms/step - loss: 0.4461 - accuracy: 0.7903\n",
            "Epoch 32/100\n",
            "94/94 [==============================] - 0s 4ms/step - loss: 0.4456 - accuracy: 0.7916\n",
            "Epoch 33/100\n",
            "94/94 [==============================] - 0s 4ms/step - loss: 0.4440 - accuracy: 0.7926\n",
            "Epoch 34/100\n",
            "94/94 [==============================] - 0s 5ms/step - loss: 0.4427 - accuracy: 0.7913\n",
            "Epoch 35/100\n",
            "94/94 [==============================] - 0s 3ms/step - loss: 0.4405 - accuracy: 0.7946\n",
            "Epoch 36/100\n",
            "94/94 [==============================] - 0s 3ms/step - loss: 0.4418 - accuracy: 0.7880\n",
            "Epoch 37/100\n",
            "94/94 [==============================] - 0s 3ms/step - loss: 0.4391 - accuracy: 0.7933\n",
            "Epoch 38/100\n",
            "94/94 [==============================] - 0s 3ms/step - loss: 0.4373 - accuracy: 0.7970\n",
            "Epoch 39/100\n",
            "94/94 [==============================] - 0s 3ms/step - loss: 0.4365 - accuracy: 0.7980\n",
            "Epoch 40/100\n",
            "94/94 [==============================] - 0s 3ms/step - loss: 0.4347 - accuracy: 0.7963\n",
            "Epoch 41/100\n",
            "94/94 [==============================] - 0s 3ms/step - loss: 0.4341 - accuracy: 0.7943\n",
            "Epoch 42/100\n",
            "94/94 [==============================] - 0s 3ms/step - loss: 0.4319 - accuracy: 0.7953\n",
            "Epoch 43/100\n",
            "94/94 [==============================] - 0s 3ms/step - loss: 0.4337 - accuracy: 0.7987\n",
            "Epoch 44/100\n",
            "94/94 [==============================] - 0s 3ms/step - loss: 0.4297 - accuracy: 0.7983\n",
            "Epoch 45/100\n",
            "94/94 [==============================] - 0s 3ms/step - loss: 0.4312 - accuracy: 0.7973\n",
            "Epoch 46/100\n",
            "94/94 [==============================] - 0s 3ms/step - loss: 0.4278 - accuracy: 0.8003\n",
            "Epoch 47/100\n",
            "94/94 [==============================] - 0s 4ms/step - loss: 0.4283 - accuracy: 0.7963\n",
            "Epoch 48/100\n",
            "94/94 [==============================] - 0s 3ms/step - loss: 0.4292 - accuracy: 0.8003\n",
            "Epoch 49/100\n",
            "94/94 [==============================] - 0s 3ms/step - loss: 0.4249 - accuracy: 0.8037\n",
            "Epoch 50/100\n",
            "94/94 [==============================] - 0s 4ms/step - loss: 0.4245 - accuracy: 0.8000\n",
            "Epoch 51/100\n",
            "94/94 [==============================] - 0s 3ms/step - loss: 0.4230 - accuracy: 0.7993\n",
            "Epoch 52/100\n",
            "94/94 [==============================] - 0s 3ms/step - loss: 0.4233 - accuracy: 0.8077\n",
            "Epoch 53/100\n",
            "94/94 [==============================] - 0s 4ms/step - loss: 0.4218 - accuracy: 0.8054\n",
            "Epoch 54/100\n",
            "94/94 [==============================] - 0s 3ms/step - loss: 0.4203 - accuracy: 0.8023\n",
            "Epoch 55/100\n",
            "94/94 [==============================] - 0s 3ms/step - loss: 0.4196 - accuracy: 0.8057\n",
            "Epoch 56/100\n",
            "94/94 [==============================] - 0s 4ms/step - loss: 0.4202 - accuracy: 0.8060\n",
            "Epoch 57/100\n",
            "94/94 [==============================] - 0s 3ms/step - loss: 0.4166 - accuracy: 0.8087\n",
            "Epoch 58/100\n",
            "94/94 [==============================] - 0s 3ms/step - loss: 0.4173 - accuracy: 0.8090\n",
            "Epoch 59/100\n",
            "94/94 [==============================] - 0s 4ms/step - loss: 0.4150 - accuracy: 0.8060\n",
            "Epoch 60/100\n",
            "94/94 [==============================] - 0s 3ms/step - loss: 0.4175 - accuracy: 0.8013\n",
            "Epoch 61/100\n",
            "94/94 [==============================] - 0s 3ms/step - loss: 0.4151 - accuracy: 0.8040\n",
            "Epoch 62/100\n",
            "94/94 [==============================] - 0s 3ms/step - loss: 0.4123 - accuracy: 0.8114\n",
            "Epoch 63/100\n",
            "94/94 [==============================] - 0s 3ms/step - loss: 0.4115 - accuracy: 0.8094\n",
            "Epoch 64/100\n",
            "94/94 [==============================] - 0s 3ms/step - loss: 0.4112 - accuracy: 0.8120\n",
            "Epoch 65/100\n",
            "94/94 [==============================] - 0s 3ms/step - loss: 0.4084 - accuracy: 0.8120\n",
            "Epoch 66/100\n",
            "94/94 [==============================] - 0s 5ms/step - loss: 0.4098 - accuracy: 0.8057\n",
            "Epoch 67/100\n",
            "94/94 [==============================] - 0s 4ms/step - loss: 0.4077 - accuracy: 0.8127\n",
            "Epoch 68/100\n",
            "94/94 [==============================] - 0s 4ms/step - loss: 0.4076 - accuracy: 0.8120\n",
            "Epoch 69/100\n",
            "94/94 [==============================] - 0s 4ms/step - loss: 0.4061 - accuracy: 0.8134\n",
            "Epoch 70/100\n",
            "94/94 [==============================] - 0s 4ms/step - loss: 0.4044 - accuracy: 0.8107\n",
            "Epoch 71/100\n",
            "94/94 [==============================] - 0s 4ms/step - loss: 0.4039 - accuracy: 0.8177\n",
            "Epoch 72/100\n",
            "94/94 [==============================] - 0s 5ms/step - loss: 0.4043 - accuracy: 0.8167\n",
            "Epoch 73/100\n",
            "94/94 [==============================] - 0s 5ms/step - loss: 0.4033 - accuracy: 0.8177\n",
            "Epoch 74/100\n",
            "94/94 [==============================] - 0s 5ms/step - loss: 0.4017 - accuracy: 0.8130\n",
            "Epoch 75/100\n",
            "94/94 [==============================] - 0s 4ms/step - loss: 0.4011 - accuracy: 0.8154\n",
            "Epoch 76/100\n",
            "94/94 [==============================] - 0s 3ms/step - loss: 0.3990 - accuracy: 0.8171\n",
            "Epoch 77/100\n",
            "94/94 [==============================] - 0s 3ms/step - loss: 0.3990 - accuracy: 0.8151\n",
            "Epoch 78/100\n",
            "94/94 [==============================] - 0s 4ms/step - loss: 0.3986 - accuracy: 0.8184\n",
            "Epoch 79/100\n",
            "94/94 [==============================] - 0s 3ms/step - loss: 0.3960 - accuracy: 0.8201\n",
            "Epoch 80/100\n",
            "94/94 [==============================] - 0s 3ms/step - loss: 0.3964 - accuracy: 0.8157\n",
            "Epoch 81/100\n",
            "94/94 [==============================] - 0s 3ms/step - loss: 0.3945 - accuracy: 0.8214\n",
            "Epoch 82/100\n",
            "94/94 [==============================] - 0s 4ms/step - loss: 0.3936 - accuracy: 0.8221\n",
            "Epoch 83/100\n",
            "94/94 [==============================] - 0s 3ms/step - loss: 0.3927 - accuracy: 0.8174\n",
            "Epoch 84/100\n",
            "94/94 [==============================] - 0s 3ms/step - loss: 0.3934 - accuracy: 0.8211\n",
            "Epoch 85/100\n",
            "94/94 [==============================] - 0s 3ms/step - loss: 0.3933 - accuracy: 0.8207\n",
            "Epoch 86/100\n",
            "94/94 [==============================] - 0s 3ms/step - loss: 0.3909 - accuracy: 0.8244\n",
            "Epoch 87/100\n",
            "94/94 [==============================] - 0s 3ms/step - loss: 0.3905 - accuracy: 0.8204\n",
            "Epoch 88/100\n",
            "94/94 [==============================] - 0s 4ms/step - loss: 0.3904 - accuracy: 0.8231\n",
            "Epoch 89/100\n",
            "94/94 [==============================] - 0s 3ms/step - loss: 0.3889 - accuracy: 0.8217\n",
            "Epoch 90/100\n",
            "94/94 [==============================] - 0s 3ms/step - loss: 0.3894 - accuracy: 0.8264\n",
            "Epoch 91/100\n",
            "94/94 [==============================] - 0s 4ms/step - loss: 0.3882 - accuracy: 0.8261\n",
            "Epoch 92/100\n",
            "94/94 [==============================] - 0s 3ms/step - loss: 0.3875 - accuracy: 0.8241\n",
            "Epoch 93/100\n",
            "94/94 [==============================] - 0s 3ms/step - loss: 0.3856 - accuracy: 0.8197\n",
            "Epoch 94/100\n",
            "94/94 [==============================] - 0s 3ms/step - loss: 0.3848 - accuracy: 0.8244\n",
            "Epoch 95/100\n",
            "94/94 [==============================] - 0s 3ms/step - loss: 0.3848 - accuracy: 0.8274\n",
            "Epoch 96/100\n",
            "94/94 [==============================] - 0s 3ms/step - loss: 0.3843 - accuracy: 0.8254\n",
            "Epoch 97/100\n",
            "94/94 [==============================] - 0s 3ms/step - loss: 0.3835 - accuracy: 0.8234\n",
            "Epoch 98/100\n",
            "94/94 [==============================] - 0s 3ms/step - loss: 0.3818 - accuracy: 0.8254\n",
            "Epoch 99/100\n",
            "94/94 [==============================] - 0s 3ms/step - loss: 0.3818 - accuracy: 0.8271\n",
            "Epoch 100/100\n",
            "94/94 [==============================] - 0s 3ms/step - loss: 0.3800 - accuracy: 0.8271\n",
            "44/44 [==============================] - 0s 2ms/step - loss: 0.5316 - accuracy: 0.7463\n",
            "[0.5316232442855835, 0.746268630027771]\n",
            "44/44 [==============================] - 0s 2ms/step\n",
            "Classification report: \n",
            "               precision    recall  f1-score   support\n",
            "\n",
            "           0       0.88      0.75      0.81      1033\n",
            "           1       0.52      0.73      0.60       374\n",
            "\n",
            "    accuracy                           0.75      1407\n",
            "   macro avg       0.70      0.74      0.71      1407\n",
            "weighted avg       0.79      0.75      0.76      1407\n",
            "\n"
          ]
        }
      ]
    },
    {
      "cell_type": "code",
      "source": [
        "x_train, y_train = get_train_batch(df3_class0, df3_class1, 1495, 2990)\n",
        "\n",
        "y_pred2 = ANN(x_train, y_train, x_test, y_test, 'binary_crossentropy', -1)"
      ],
      "metadata": {
        "colab": {
          "base_uri": "https://localhost:8080/"
        },
        "id": "b-dDEuV9MixH",
        "outputId": "7d2d50dd-3df8-4fba-d352-bc7a610e1040"
      },
      "execution_count": 81,
      "outputs": [
        {
          "output_type": "stream",
          "name": "stdout",
          "text": [
            "Epoch 1/100\n",
            "94/94 [==============================] - 2s 5ms/step - loss: 0.6031 - accuracy: 0.6866\n",
            "Epoch 2/100\n",
            "94/94 [==============================] - 0s 4ms/step - loss: 0.5201 - accuracy: 0.7562\n",
            "Epoch 3/100\n",
            "94/94 [==============================] - 0s 4ms/step - loss: 0.5013 - accuracy: 0.7605\n",
            "Epoch 4/100\n",
            "94/94 [==============================] - 0s 4ms/step - loss: 0.4919 - accuracy: 0.7672\n",
            "Epoch 5/100\n",
            "94/94 [==============================] - 0s 4ms/step - loss: 0.4864 - accuracy: 0.7699\n",
            "Epoch 6/100\n",
            "94/94 [==============================] - 0s 5ms/step - loss: 0.4849 - accuracy: 0.7709\n",
            "Epoch 7/100\n",
            "94/94 [==============================] - 0s 4ms/step - loss: 0.4821 - accuracy: 0.7739\n",
            "Epoch 8/100\n",
            "94/94 [==============================] - 0s 4ms/step - loss: 0.4793 - accuracy: 0.7739\n",
            "Epoch 9/100\n",
            "94/94 [==============================] - 0s 4ms/step - loss: 0.4779 - accuracy: 0.7739\n",
            "Epoch 10/100\n",
            "94/94 [==============================] - 0s 3ms/step - loss: 0.4754 - accuracy: 0.7739\n",
            "Epoch 11/100\n",
            "94/94 [==============================] - 0s 3ms/step - loss: 0.4736 - accuracy: 0.7789\n",
            "Epoch 12/100\n",
            "94/94 [==============================] - 0s 3ms/step - loss: 0.4730 - accuracy: 0.7809\n",
            "Epoch 13/100\n",
            "94/94 [==============================] - 0s 3ms/step - loss: 0.4720 - accuracy: 0.7759\n",
            "Epoch 14/100\n",
            "94/94 [==============================] - 0s 3ms/step - loss: 0.4714 - accuracy: 0.7773\n",
            "Epoch 15/100\n",
            "94/94 [==============================] - 0s 3ms/step - loss: 0.4692 - accuracy: 0.7819\n",
            "Epoch 16/100\n",
            "94/94 [==============================] - 0s 3ms/step - loss: 0.4672 - accuracy: 0.7776\n",
            "Epoch 17/100\n",
            "94/94 [==============================] - 0s 3ms/step - loss: 0.4673 - accuracy: 0.7776\n",
            "Epoch 18/100\n",
            "94/94 [==============================] - 0s 3ms/step - loss: 0.4672 - accuracy: 0.7776\n",
            "Epoch 19/100\n",
            "94/94 [==============================] - 0s 3ms/step - loss: 0.4645 - accuracy: 0.7799\n",
            "Epoch 20/100\n",
            "94/94 [==============================] - 0s 3ms/step - loss: 0.4632 - accuracy: 0.7819\n",
            "Epoch 21/100\n",
            "94/94 [==============================] - 0s 3ms/step - loss: 0.4624 - accuracy: 0.7786\n",
            "Epoch 22/100\n",
            "94/94 [==============================] - 0s 3ms/step - loss: 0.4616 - accuracy: 0.7806\n",
            "Epoch 23/100\n",
            "94/94 [==============================] - 0s 3ms/step - loss: 0.4620 - accuracy: 0.7833\n",
            "Epoch 24/100\n",
            "94/94 [==============================] - 0s 3ms/step - loss: 0.4592 - accuracy: 0.7826\n",
            "Epoch 25/100\n",
            "94/94 [==============================] - 0s 3ms/step - loss: 0.4575 - accuracy: 0.7823\n",
            "Epoch 26/100\n",
            "94/94 [==============================] - 0s 3ms/step - loss: 0.4549 - accuracy: 0.7853\n",
            "Epoch 27/100\n",
            "94/94 [==============================] - 0s 3ms/step - loss: 0.4570 - accuracy: 0.7829\n",
            "Epoch 28/100\n",
            "94/94 [==============================] - 0s 3ms/step - loss: 0.4540 - accuracy: 0.7870\n",
            "Epoch 29/100\n",
            "94/94 [==============================] - 0s 3ms/step - loss: 0.4530 - accuracy: 0.7863\n",
            "Epoch 30/100\n",
            "94/94 [==============================] - 0s 3ms/step - loss: 0.4529 - accuracy: 0.7826\n",
            "Epoch 31/100\n",
            "94/94 [==============================] - 0s 3ms/step - loss: 0.4526 - accuracy: 0.7816\n",
            "Epoch 32/100\n",
            "94/94 [==============================] - 0s 3ms/step - loss: 0.4509 - accuracy: 0.7816\n",
            "Epoch 33/100\n",
            "94/94 [==============================] - 0s 3ms/step - loss: 0.4498 - accuracy: 0.7900\n",
            "Epoch 34/100\n",
            "94/94 [==============================] - 0s 4ms/step - loss: 0.4479 - accuracy: 0.7839\n",
            "Epoch 35/100\n",
            "94/94 [==============================] - 0s 3ms/step - loss: 0.4479 - accuracy: 0.7856\n",
            "Epoch 36/100\n",
            "94/94 [==============================] - 0s 3ms/step - loss: 0.4465 - accuracy: 0.7896\n",
            "Epoch 37/100\n",
            "94/94 [==============================] - 0s 4ms/step - loss: 0.4446 - accuracy: 0.7876\n",
            "Epoch 38/100\n",
            "94/94 [==============================] - 0s 3ms/step - loss: 0.4440 - accuracy: 0.7886\n",
            "Epoch 39/100\n",
            "94/94 [==============================] - 0s 3ms/step - loss: 0.4421 - accuracy: 0.7960\n",
            "Epoch 40/100\n",
            "94/94 [==============================] - 0s 3ms/step - loss: 0.4419 - accuracy: 0.7920\n",
            "Epoch 41/100\n",
            "94/94 [==============================] - 0s 5ms/step - loss: 0.4402 - accuracy: 0.7936\n",
            "Epoch 42/100\n",
            "94/94 [==============================] - 0s 4ms/step - loss: 0.4402 - accuracy: 0.7893\n",
            "Epoch 43/100\n",
            "94/94 [==============================] - 0s 4ms/step - loss: 0.4407 - accuracy: 0.7920\n",
            "Epoch 44/100\n",
            "94/94 [==============================] - 0s 5ms/step - loss: 0.4378 - accuracy: 0.7890\n",
            "Epoch 45/100\n",
            "94/94 [==============================] - 0s 4ms/step - loss: 0.4383 - accuracy: 0.7940\n",
            "Epoch 46/100\n",
            "94/94 [==============================] - 0s 4ms/step - loss: 0.4374 - accuracy: 0.7910\n",
            "Epoch 47/100\n",
            "94/94 [==============================] - 0s 4ms/step - loss: 0.4363 - accuracy: 0.7933\n",
            "Epoch 48/100\n",
            "94/94 [==============================] - 0s 5ms/step - loss: 0.4342 - accuracy: 0.8017\n",
            "Epoch 49/100\n",
            "94/94 [==============================] - 0s 5ms/step - loss: 0.4329 - accuracy: 0.7946\n",
            "Epoch 50/100\n",
            "94/94 [==============================] - 0s 4ms/step - loss: 0.4323 - accuracy: 0.7953\n",
            "Epoch 51/100\n",
            "94/94 [==============================] - 0s 3ms/step - loss: 0.4298 - accuracy: 0.7997\n",
            "Epoch 52/100\n",
            "94/94 [==============================] - 0s 3ms/step - loss: 0.4313 - accuracy: 0.8010\n",
            "Epoch 53/100\n",
            "94/94 [==============================] - 0s 3ms/step - loss: 0.4310 - accuracy: 0.7967\n",
            "Epoch 54/100\n",
            "94/94 [==============================] - 0s 3ms/step - loss: 0.4282 - accuracy: 0.7950\n",
            "Epoch 55/100\n",
            "94/94 [==============================] - 0s 3ms/step - loss: 0.4291 - accuracy: 0.7933\n",
            "Epoch 56/100\n",
            "94/94 [==============================] - 0s 3ms/step - loss: 0.4276 - accuracy: 0.7993\n",
            "Epoch 57/100\n",
            "94/94 [==============================] - 0s 3ms/step - loss: 0.4239 - accuracy: 0.8003\n",
            "Epoch 58/100\n",
            "94/94 [==============================] - 0s 4ms/step - loss: 0.4251 - accuracy: 0.8000\n",
            "Epoch 59/100\n",
            "94/94 [==============================] - 0s 3ms/step - loss: 0.4232 - accuracy: 0.7973\n",
            "Epoch 60/100\n",
            "94/94 [==============================] - 0s 3ms/step - loss: 0.4244 - accuracy: 0.8000\n",
            "Epoch 61/100\n",
            "94/94 [==============================] - 0s 4ms/step - loss: 0.4225 - accuracy: 0.7983\n",
            "Epoch 62/100\n",
            "94/94 [==============================] - 0s 3ms/step - loss: 0.4202 - accuracy: 0.7990\n",
            "Epoch 63/100\n",
            "94/94 [==============================] - 0s 3ms/step - loss: 0.4212 - accuracy: 0.8013\n",
            "Epoch 64/100\n",
            "94/94 [==============================] - 0s 3ms/step - loss: 0.4179 - accuracy: 0.8020\n",
            "Epoch 65/100\n",
            "94/94 [==============================] - 0s 3ms/step - loss: 0.4195 - accuracy: 0.8010\n",
            "Epoch 66/100\n",
            "94/94 [==============================] - 0s 3ms/step - loss: 0.4187 - accuracy: 0.8064\n",
            "Epoch 67/100\n",
            "94/94 [==============================] - 0s 3ms/step - loss: 0.4170 - accuracy: 0.8010\n",
            "Epoch 68/100\n",
            "94/94 [==============================] - 0s 3ms/step - loss: 0.4156 - accuracy: 0.8027\n",
            "Epoch 69/100\n",
            "94/94 [==============================] - 0s 3ms/step - loss: 0.4158 - accuracy: 0.8007\n",
            "Epoch 70/100\n",
            "94/94 [==============================] - 0s 3ms/step - loss: 0.4136 - accuracy: 0.8070\n",
            "Epoch 71/100\n",
            "94/94 [==============================] - 0s 3ms/step - loss: 0.4115 - accuracy: 0.8057\n",
            "Epoch 72/100\n",
            "94/94 [==============================] - 0s 3ms/step - loss: 0.4119 - accuracy: 0.8064\n",
            "Epoch 73/100\n",
            "94/94 [==============================] - 0s 3ms/step - loss: 0.4110 - accuracy: 0.8100\n",
            "Epoch 74/100\n",
            "94/94 [==============================] - 0s 4ms/step - loss: 0.4100 - accuracy: 0.8087\n",
            "Epoch 75/100\n",
            "94/94 [==============================] - 0s 3ms/step - loss: 0.4094 - accuracy: 0.8097\n",
            "Epoch 76/100\n",
            "94/94 [==============================] - 0s 3ms/step - loss: 0.4084 - accuracy: 0.8094\n",
            "Epoch 77/100\n",
            "94/94 [==============================] - 0s 3ms/step - loss: 0.4085 - accuracy: 0.8090\n",
            "Epoch 78/100\n",
            "94/94 [==============================] - 0s 3ms/step - loss: 0.4069 - accuracy: 0.8094\n",
            "Epoch 79/100\n",
            "94/94 [==============================] - 0s 3ms/step - loss: 0.4085 - accuracy: 0.8064\n",
            "Epoch 80/100\n",
            "94/94 [==============================] - 0s 3ms/step - loss: 0.4061 - accuracy: 0.8127\n",
            "Epoch 81/100\n",
            "94/94 [==============================] - 0s 4ms/step - loss: 0.4031 - accuracy: 0.8094\n",
            "Epoch 82/100\n",
            "94/94 [==============================] - 0s 5ms/step - loss: 0.4044 - accuracy: 0.8130\n",
            "Epoch 83/100\n",
            "94/94 [==============================] - 0s 4ms/step - loss: 0.4019 - accuracy: 0.8080\n",
            "Epoch 84/100\n",
            "94/94 [==============================] - 0s 4ms/step - loss: 0.4013 - accuracy: 0.8097\n",
            "Epoch 85/100\n",
            "94/94 [==============================] - 0s 4ms/step - loss: 0.4009 - accuracy: 0.8117\n",
            "Epoch 86/100\n",
            "94/94 [==============================] - 0s 4ms/step - loss: 0.3993 - accuracy: 0.8137\n",
            "Epoch 87/100\n",
            "94/94 [==============================] - 0s 5ms/step - loss: 0.4002 - accuracy: 0.8140\n",
            "Epoch 88/100\n",
            "94/94 [==============================] - 0s 5ms/step - loss: 0.3996 - accuracy: 0.8124\n",
            "Epoch 89/100\n",
            "94/94 [==============================] - 0s 4ms/step - loss: 0.3969 - accuracy: 0.8144\n",
            "Epoch 90/100\n",
            "94/94 [==============================] - 0s 3ms/step - loss: 0.3990 - accuracy: 0.8147\n",
            "Epoch 91/100\n",
            "94/94 [==============================] - 0s 4ms/step - loss: 0.3983 - accuracy: 0.8161\n",
            "Epoch 92/100\n",
            "94/94 [==============================] - 0s 3ms/step - loss: 0.3966 - accuracy: 0.8114\n",
            "Epoch 93/100\n",
            "94/94 [==============================] - 0s 3ms/step - loss: 0.3980 - accuracy: 0.8147\n",
            "Epoch 94/100\n",
            "94/94 [==============================] - 0s 3ms/step - loss: 0.3935 - accuracy: 0.8187\n",
            "Epoch 95/100\n",
            "94/94 [==============================] - 0s 3ms/step - loss: 0.3929 - accuracy: 0.8237\n",
            "Epoch 96/100\n",
            "94/94 [==============================] - 0s 3ms/step - loss: 0.3900 - accuracy: 0.8161\n",
            "Epoch 97/100\n",
            "94/94 [==============================] - 0s 3ms/step - loss: 0.3921 - accuracy: 0.8154\n",
            "Epoch 98/100\n",
            "94/94 [==============================] - 0s 3ms/step - loss: 0.3914 - accuracy: 0.8201\n",
            "Epoch 99/100\n",
            "94/94 [==============================] - 0s 3ms/step - loss: 0.3918 - accuracy: 0.8161\n",
            "Epoch 100/100\n",
            "94/94 [==============================] - 0s 3ms/step - loss: 0.3951 - accuracy: 0.8174\n",
            "44/44 [==============================] - 0s 2ms/step - loss: 0.5956 - accuracy: 0.7207\n",
            "[0.5955865383148193, 0.7206823229789734]\n",
            "44/44 [==============================] - 0s 2ms/step\n",
            "Classification report: \n",
            "               precision    recall  f1-score   support\n",
            "\n",
            "           0       0.89      0.71      0.79      1033\n",
            "           1       0.48      0.75      0.59       374\n",
            "\n",
            "    accuracy                           0.72      1407\n",
            "   macro avg       0.69      0.73      0.69      1407\n",
            "weighted avg       0.78      0.72      0.74      1407\n",
            "\n"
          ]
        }
      ]
    },
    {
      "cell_type": "code",
      "source": [
        "x_train, y_train = get_train_batch(df3_class0, df3_class1, 2990, 4130)\n",
        "\n",
        "y_pred3 = ANN(x_train, y_train, x_test, y_test, 'binary_crossentropy', -1)"
      ],
      "metadata": {
        "colab": {
          "base_uri": "https://localhost:8080/"
        },
        "id": "iCllaEKnMoqB",
        "outputId": "73a95e21-aeab-4954-a283-70047f52af54"
      },
      "execution_count": 82,
      "outputs": [
        {
          "output_type": "stream",
          "name": "stdout",
          "text": [
            "Epoch 1/100\n",
            "94/94 [==============================] - 1s 3ms/step - loss: 0.6419 - accuracy: 0.6716\n",
            "Epoch 2/100\n",
            "94/94 [==============================] - 0s 3ms/step - loss: 0.5278 - accuracy: 0.7619\n",
            "Epoch 3/100\n",
            "94/94 [==============================] - 0s 3ms/step - loss: 0.5008 - accuracy: 0.7635\n",
            "Epoch 4/100\n",
            "94/94 [==============================] - 0s 3ms/step - loss: 0.4925 - accuracy: 0.7662\n",
            "Epoch 5/100\n",
            "94/94 [==============================] - 0s 3ms/step - loss: 0.4917 - accuracy: 0.7615\n",
            "Epoch 6/100\n",
            "94/94 [==============================] - 0s 3ms/step - loss: 0.4860 - accuracy: 0.7692\n",
            "Epoch 7/100\n",
            "94/94 [==============================] - 0s 3ms/step - loss: 0.4836 - accuracy: 0.7696\n",
            "Epoch 8/100\n",
            "94/94 [==============================] - 0s 3ms/step - loss: 0.4806 - accuracy: 0.7709\n",
            "Epoch 9/100\n",
            "94/94 [==============================] - 0s 3ms/step - loss: 0.4805 - accuracy: 0.7699\n",
            "Epoch 10/100\n",
            "94/94 [==============================] - 0s 3ms/step - loss: 0.4789 - accuracy: 0.7729\n",
            "Epoch 11/100\n",
            "94/94 [==============================] - 0s 3ms/step - loss: 0.4768 - accuracy: 0.7719\n",
            "Epoch 12/100\n",
            "94/94 [==============================] - 0s 3ms/step - loss: 0.4764 - accuracy: 0.7742\n",
            "Epoch 13/100\n",
            "94/94 [==============================] - 0s 3ms/step - loss: 0.4745 - accuracy: 0.7732\n",
            "Epoch 14/100\n",
            "94/94 [==============================] - 0s 3ms/step - loss: 0.4732 - accuracy: 0.7716\n",
            "Epoch 15/100\n",
            "94/94 [==============================] - 0s 3ms/step - loss: 0.4716 - accuracy: 0.7696\n",
            "Epoch 16/100\n",
            "94/94 [==============================] - 0s 5ms/step - loss: 0.4705 - accuracy: 0.7722\n",
            "Epoch 17/100\n",
            "94/94 [==============================] - 0s 5ms/step - loss: 0.4687 - accuracy: 0.7746\n",
            "Epoch 18/100\n",
            "94/94 [==============================] - 0s 4ms/step - loss: 0.4677 - accuracy: 0.7692\n",
            "Epoch 19/100\n",
            "94/94 [==============================] - 0s 4ms/step - loss: 0.4672 - accuracy: 0.7746\n",
            "Epoch 20/100\n",
            "94/94 [==============================] - 0s 4ms/step - loss: 0.4653 - accuracy: 0.7736\n",
            "Epoch 21/100\n",
            "94/94 [==============================] - 0s 4ms/step - loss: 0.4657 - accuracy: 0.7739\n",
            "Epoch 22/100\n",
            "94/94 [==============================] - 0s 4ms/step - loss: 0.4621 - accuracy: 0.7806\n",
            "Epoch 23/100\n",
            "94/94 [==============================] - 0s 4ms/step - loss: 0.4614 - accuracy: 0.7773\n",
            "Epoch 24/100\n",
            "94/94 [==============================] - 0s 4ms/step - loss: 0.4615 - accuracy: 0.7783\n",
            "Epoch 25/100\n",
            "94/94 [==============================] - 0s 4ms/step - loss: 0.4607 - accuracy: 0.7749\n",
            "Epoch 26/100\n",
            "94/94 [==============================] - 0s 3ms/step - loss: 0.4592 - accuracy: 0.7806\n",
            "Epoch 27/100\n",
            "94/94 [==============================] - 0s 3ms/step - loss: 0.4563 - accuracy: 0.7776\n",
            "Epoch 28/100\n",
            "94/94 [==============================] - 0s 3ms/step - loss: 0.4552 - accuracy: 0.7803\n",
            "Epoch 29/100\n",
            "94/94 [==============================] - 0s 3ms/step - loss: 0.4545 - accuracy: 0.7796\n",
            "Epoch 30/100\n",
            "94/94 [==============================] - 0s 3ms/step - loss: 0.4525 - accuracy: 0.7846\n",
            "Epoch 31/100\n",
            "94/94 [==============================] - 0s 3ms/step - loss: 0.4520 - accuracy: 0.7819\n",
            "Epoch 32/100\n",
            "94/94 [==============================] - 0s 4ms/step - loss: 0.4525 - accuracy: 0.7783\n",
            "Epoch 33/100\n",
            "94/94 [==============================] - 0s 3ms/step - loss: 0.4485 - accuracy: 0.7886\n",
            "Epoch 34/100\n",
            "94/94 [==============================] - 0s 3ms/step - loss: 0.4472 - accuracy: 0.7816\n",
            "Epoch 35/100\n",
            "94/94 [==============================] - 0s 3ms/step - loss: 0.4475 - accuracy: 0.7839\n",
            "Epoch 36/100\n",
            "94/94 [==============================] - 0s 3ms/step - loss: 0.4475 - accuracy: 0.7876\n",
            "Epoch 37/100\n",
            "94/94 [==============================] - 0s 3ms/step - loss: 0.4469 - accuracy: 0.7860\n",
            "Epoch 38/100\n",
            "94/94 [==============================] - 0s 3ms/step - loss: 0.4443 - accuracy: 0.7826\n",
            "Epoch 39/100\n",
            "94/94 [==============================] - 0s 3ms/step - loss: 0.4416 - accuracy: 0.7906\n",
            "Epoch 40/100\n",
            "94/94 [==============================] - 0s 3ms/step - loss: 0.4414 - accuracy: 0.7906\n",
            "Epoch 41/100\n",
            "94/94 [==============================] - 0s 3ms/step - loss: 0.4416 - accuracy: 0.7839\n",
            "Epoch 42/100\n",
            "94/94 [==============================] - 0s 3ms/step - loss: 0.4393 - accuracy: 0.7950\n",
            "Epoch 43/100\n",
            "94/94 [==============================] - 0s 3ms/step - loss: 0.4426 - accuracy: 0.7930\n",
            "Epoch 44/100\n",
            "94/94 [==============================] - 0s 3ms/step - loss: 0.4402 - accuracy: 0.7866\n",
            "Epoch 45/100\n",
            "94/94 [==============================] - 0s 3ms/step - loss: 0.4380 - accuracy: 0.7933\n",
            "Epoch 46/100\n",
            "94/94 [==============================] - 0s 3ms/step - loss: 0.4372 - accuracy: 0.7906\n",
            "Epoch 47/100\n",
            "94/94 [==============================] - 0s 4ms/step - loss: 0.4373 - accuracy: 0.7946\n",
            "Epoch 48/100\n",
            "94/94 [==============================] - 0s 3ms/step - loss: 0.4372 - accuracy: 0.7920\n",
            "Epoch 49/100\n",
            "94/94 [==============================] - 0s 3ms/step - loss: 0.4353 - accuracy: 0.7906\n",
            "Epoch 50/100\n",
            "94/94 [==============================] - 0s 4ms/step - loss: 0.4338 - accuracy: 0.7930\n",
            "Epoch 51/100\n",
            "94/94 [==============================] - 0s 3ms/step - loss: 0.4323 - accuracy: 0.7940\n",
            "Epoch 52/100\n",
            "94/94 [==============================] - 0s 3ms/step - loss: 0.4327 - accuracy: 0.7960\n",
            "Epoch 53/100\n",
            "94/94 [==============================] - 0s 3ms/step - loss: 0.4327 - accuracy: 0.8000\n",
            "Epoch 54/100\n",
            "94/94 [==============================] - 0s 3ms/step - loss: 0.4340 - accuracy: 0.7923\n",
            "Epoch 55/100\n",
            "94/94 [==============================] - 0s 3ms/step - loss: 0.4322 - accuracy: 0.7957\n",
            "Epoch 56/100\n",
            "94/94 [==============================] - 0s 4ms/step - loss: 0.4302 - accuracy: 0.7950\n",
            "Epoch 57/100\n",
            "94/94 [==============================] - 0s 4ms/step - loss: 0.4312 - accuracy: 0.7963\n",
            "Epoch 58/100\n",
            "94/94 [==============================] - 0s 4ms/step - loss: 0.4290 - accuracy: 0.7980\n",
            "Epoch 59/100\n",
            "94/94 [==============================] - 0s 4ms/step - loss: 0.4290 - accuracy: 0.7993\n",
            "Epoch 60/100\n",
            "94/94 [==============================] - 0s 4ms/step - loss: 0.4270 - accuracy: 0.8010\n",
            "Epoch 61/100\n",
            "94/94 [==============================] - 0s 5ms/step - loss: 0.4267 - accuracy: 0.8013\n",
            "Epoch 62/100\n",
            "94/94 [==============================] - 0s 5ms/step - loss: 0.4263 - accuracy: 0.7967\n",
            "Epoch 63/100\n",
            "94/94 [==============================] - 0s 5ms/step - loss: 0.4259 - accuracy: 0.8033\n",
            "Epoch 64/100\n",
            "94/94 [==============================] - 0s 5ms/step - loss: 0.4238 - accuracy: 0.8043\n",
            "Epoch 65/100\n",
            "94/94 [==============================] - 0s 4ms/step - loss: 0.4237 - accuracy: 0.8013\n",
            "Epoch 66/100\n",
            "94/94 [==============================] - 0s 3ms/step - loss: 0.4229 - accuracy: 0.8080\n",
            "Epoch 67/100\n",
            "94/94 [==============================] - 0s 3ms/step - loss: 0.4242 - accuracy: 0.8007\n",
            "Epoch 68/100\n",
            "94/94 [==============================] - 0s 3ms/step - loss: 0.4226 - accuracy: 0.8054\n",
            "Epoch 69/100\n",
            "94/94 [==============================] - 0s 4ms/step - loss: 0.4204 - accuracy: 0.8033\n",
            "Epoch 70/100\n",
            "94/94 [==============================] - 0s 3ms/step - loss: 0.4213 - accuracy: 0.8043\n",
            "Epoch 71/100\n",
            "94/94 [==============================] - 0s 3ms/step - loss: 0.4185 - accuracy: 0.8064\n",
            "Epoch 72/100\n",
            "94/94 [==============================] - 0s 3ms/step - loss: 0.4188 - accuracy: 0.8087\n",
            "Epoch 73/100\n",
            "94/94 [==============================] - 0s 3ms/step - loss: 0.4180 - accuracy: 0.8043\n",
            "Epoch 74/100\n",
            "94/94 [==============================] - 0s 3ms/step - loss: 0.4168 - accuracy: 0.8054\n",
            "Epoch 75/100\n",
            "94/94 [==============================] - 0s 4ms/step - loss: 0.4165 - accuracy: 0.8077\n",
            "Epoch 76/100\n",
            "94/94 [==============================] - 0s 3ms/step - loss: 0.4167 - accuracy: 0.8060\n",
            "Epoch 77/100\n",
            "94/94 [==============================] - 0s 3ms/step - loss: 0.4147 - accuracy: 0.8064\n",
            "Epoch 78/100\n",
            "94/94 [==============================] - 0s 3ms/step - loss: 0.4165 - accuracy: 0.8050\n",
            "Epoch 79/100\n",
            "94/94 [==============================] - 0s 4ms/step - loss: 0.4150 - accuracy: 0.8097\n",
            "Epoch 80/100\n",
            "94/94 [==============================] - 0s 3ms/step - loss: 0.4148 - accuracy: 0.8090\n",
            "Epoch 81/100\n",
            "94/94 [==============================] - 0s 3ms/step - loss: 0.4134 - accuracy: 0.8140\n",
            "Epoch 82/100\n",
            "94/94 [==============================] - 0s 3ms/step - loss: 0.4116 - accuracy: 0.8080\n",
            "Epoch 83/100\n",
            "94/94 [==============================] - 0s 4ms/step - loss: 0.4119 - accuracy: 0.8094\n",
            "Epoch 84/100\n",
            "94/94 [==============================] - 0s 3ms/step - loss: 0.4134 - accuracy: 0.8090\n",
            "Epoch 85/100\n",
            "94/94 [==============================] - 0s 3ms/step - loss: 0.4102 - accuracy: 0.8157\n",
            "Epoch 86/100\n",
            "94/94 [==============================] - 0s 3ms/step - loss: 0.4116 - accuracy: 0.8127\n",
            "Epoch 87/100\n",
            "94/94 [==============================] - 0s 3ms/step - loss: 0.4080 - accuracy: 0.8187\n",
            "Epoch 88/100\n",
            "94/94 [==============================] - 0s 3ms/step - loss: 0.4089 - accuracy: 0.8104\n",
            "Epoch 89/100\n",
            "94/94 [==============================] - 0s 3ms/step - loss: 0.4075 - accuracy: 0.8147\n",
            "Epoch 90/100\n",
            "94/94 [==============================] - 0s 3ms/step - loss: 0.4079 - accuracy: 0.8117\n",
            "Epoch 91/100\n",
            "94/94 [==============================] - 0s 3ms/step - loss: 0.4064 - accuracy: 0.8161\n",
            "Epoch 92/100\n",
            "94/94 [==============================] - 0s 3ms/step - loss: 0.4056 - accuracy: 0.8184\n",
            "Epoch 93/100\n",
            "94/94 [==============================] - 0s 3ms/step - loss: 0.4051 - accuracy: 0.8164\n",
            "Epoch 94/100\n",
            "94/94 [==============================] - 0s 3ms/step - loss: 0.4042 - accuracy: 0.8147\n",
            "Epoch 95/100\n",
            "94/94 [==============================] - 0s 3ms/step - loss: 0.4039 - accuracy: 0.8167\n",
            "Epoch 96/100\n",
            "94/94 [==============================] - 0s 4ms/step - loss: 0.4046 - accuracy: 0.8187\n",
            "Epoch 97/100\n",
            "94/94 [==============================] - 0s 5ms/step - loss: 0.4028 - accuracy: 0.8157\n",
            "Epoch 98/100\n",
            "94/94 [==============================] - 0s 4ms/step - loss: 0.4001 - accuracy: 0.8214\n",
            "Epoch 99/100\n",
            "94/94 [==============================] - 0s 5ms/step - loss: 0.3993 - accuracy: 0.8234\n",
            "Epoch 100/100\n",
            "94/94 [==============================] - 0s 4ms/step - loss: 0.3990 - accuracy: 0.8184\n",
            "44/44 [==============================] - 0s 3ms/step - loss: 0.6011 - accuracy: 0.7022\n",
            "[0.6011369228363037, 0.7022032737731934]\n",
            "44/44 [==============================] - 0s 2ms/step\n",
            "Classification report: \n",
            "               precision    recall  f1-score   support\n",
            "\n",
            "           0       0.90      0.67      0.77      1033\n",
            "           1       0.46      0.79      0.58       374\n",
            "\n",
            "    accuracy                           0.70      1407\n",
            "   macro avg       0.68      0.73      0.68      1407\n",
            "weighted avg       0.78      0.70      0.72      1407\n",
            "\n"
          ]
        }
      ]
    },
    {
      "cell_type": "code",
      "source": [
        "# Function to get the majority vote\n",
        "y_pred_final = y_pred1.copy()\n",
        "\n",
        "for i in range(len(y_pred1)):\n",
        "  n_one = y_pred1[i] + y_pred2[i] + y_pred3[i]\n",
        "  if n_one > 1:\n",
        "    y_pred_final[i] = 1\n",
        "  else:\n",
        "    y_pred_final[i] = 0\n"
      ],
      "metadata": {
        "id": "Jw4eUvtAN3zQ"
      },
      "execution_count": 84,
      "outputs": []
    },
    {
      "cell_type": "code",
      "source": [
        "print(classification_report(y_test, y_pred_final))"
      ],
      "metadata": {
        "colab": {
          "base_uri": "https://localhost:8080/"
        },
        "id": "h_5MMIBlOb71",
        "outputId": "4c38e32e-2d5a-4722-e824-998b3d6781ae"
      },
      "execution_count": 85,
      "outputs": [
        {
          "output_type": "stream",
          "name": "stdout",
          "text": [
            "              precision    recall  f1-score   support\n",
            "\n",
            "           0       0.90      0.72      0.80      1033\n",
            "           1       0.50      0.78      0.61       374\n",
            "\n",
            "    accuracy                           0.74      1407\n",
            "   macro avg       0.70      0.75      0.71      1407\n",
            "weighted avg       0.79      0.74      0.75      1407\n",
            "\n"
          ]
        }
      ]
    },
    {
      "cell_type": "markdown",
      "source": [
        "F1 score for class 1 is not improved by this approach. "
      ],
      "metadata": {
        "id": "lynGC6HZPEnP"
      }
    },
    {
      "cell_type": "markdown",
      "source": [
        "Reference:\n",
        "- [Gentle Introduction to the Adam Optimization Algorithm for Deep Learning](https://machinelearningmastery.com/adam-optimization-algorithm-for-deep-learning/)\n",
        "- [Classification of imbalanced data: a review](https://www.researchgate.net/publication/263913891_Classification_of_imbalanced_data_a_review)\n",
        "- [SMOTE: Synthetic Minority Over-Sampling Technique](https://www.jair.org/index.php/jair/article/view/10302)"
      ],
      "metadata": {
        "id": "pssdF040K4Xh"
      }
    }
  ]
}